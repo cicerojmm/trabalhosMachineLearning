{
 "cells": [
  {
   "cell_type": "markdown",
   "metadata": {},
   "source": [
    "<div style='text-aling:center'>\n",
    "<h1>Trabalho de DataClean e Classificação</h1>\n",
    "</div>\n",
    "<img  src=\"indice.png\">\n",
    "\n",
    "\n",
    "<h4>Aluno: <b>Cícero Moura</b></h4></p>\n",
    "<p>Trabalho realizado para a disciplina de Inteligência Artificial do 7º de Sistemas de Informação, sob a orientação do professor Sanderson Marcedo.<br>\n",
    "Objetivo: Realizar o DataClean do Arquivo CSV que contém informações sobre alunos e realizar a predição através de Machine Learning se um determinado aluno vai evadir do seu curso ou se ele vai ser aprovado ou reprovado. Medir desempenho usando a técnica de acurácia.\n",
    "</p>"
   ]
  },
  {
   "cell_type": "markdown",
   "metadata": {},
   "source": [
    "<p>Importando as bibliotecas</p>"
   ]
  },
  {
   "cell_type": "code",
   "execution_count": 1,
   "metadata": {
    "collapsed": false
   },
   "outputs": [],
   "source": [
    "import numpy as np\n",
    "import pandas as pd\n",
    "import seaborn as sb\n",
    "import matplotlib.pyplot as pl\n",
    "\n",
    "%matplotlib inline"
   ]
  },
  {
   "cell_type": "markdown",
   "metadata": {},
   "source": [
    "<p>Importando CSV para DataFrame e Conhecendos os dados</p>"
   ]
  },
  {
   "cell_type": "code",
   "execution_count": 2,
   "metadata": {
    "collapsed": true
   },
   "outputs": [],
   "source": [
    "df = pd.read_csv(\"curso1.csv\");"
   ]
  },
  {
   "cell_type": "code",
   "execution_count": 3,
   "metadata": {
    "collapsed": false
   },
   "outputs": [
    {
     "data": {
      "text/html": [
       "<div>\n",
       "<table border=\"1\" class=\"dataframe\">\n",
       "  <thead>\n",
       "    <tr style=\"text-align: right;\">\n",
       "      <th></th>\n",
       "      <th>SIT_MATRICULA</th>\n",
       "      <th>PAI_FALECIDO</th>\n",
       "      <th>MAE_FALECIDO</th>\n",
       "      <th>RENDA_FAMILIAR</th>\n",
       "      <th>TIPO_ESCOLA_ORIGEM</th>\n",
       "      <th>ANO_CONCLUSAO_2_GRAU</th>\n",
       "      <th>RENDA_PER_CAPITA</th>\n",
       "      <th>COD_ESTADO_CIVIL</th>\n",
       "      <th>N_FILHOS</th>\n",
       "      <th>SEXO</th>\n",
       "      <th>...</th>\n",
       "      <th>NIVEL_FALA</th>\n",
       "      <th>NIVEL_COMPREENSAO</th>\n",
       "      <th>NIVEL_ESCRITA</th>\n",
       "      <th>NIVEL_LEITURA</th>\n",
       "      <th>NOTAS</th>\n",
       "      <th>N_FALTAS</th>\n",
       "      <th>COD_DISCIPLINA</th>\n",
       "      <th>CARGA_HOR</th>\n",
       "      <th>ANO_INGRESSO</th>\n",
       "      <th>IDADE_INGRESSO</th>\n",
       "    </tr>\n",
       "  </thead>\n",
       "  <tbody>\n",
       "    <tr>\n",
       "      <th>0</th>\n",
       "      <td>0</td>\n",
       "      <td>0.0</td>\n",
       "      <td>0.0</td>\n",
       "      <td>NaN</td>\n",
       "      <td>E</td>\n",
       "      <td>2014.0</td>\n",
       "      <td>NaN</td>\n",
       "      <td>S</td>\n",
       "      <td>NaN</td>\n",
       "      <td>M</td>\n",
       "      <td>...</td>\n",
       "      <td>1.0</td>\n",
       "      <td>1.0</td>\n",
       "      <td>1.0</td>\n",
       "      <td>1.0</td>\n",
       "      <td>6.70</td>\n",
       "      <td>NaN</td>\n",
       "      <td>648</td>\n",
       "      <td>54</td>\n",
       "      <td>2016</td>\n",
       "      <td>20.0</td>\n",
       "    </tr>\n",
       "    <tr>\n",
       "      <th>1</th>\n",
       "      <td>0</td>\n",
       "      <td>0.0</td>\n",
       "      <td>0.0</td>\n",
       "      <td>0.0</td>\n",
       "      <td>P</td>\n",
       "      <td>2011.0</td>\n",
       "      <td>0.0</td>\n",
       "      <td>NaN</td>\n",
       "      <td>0.0</td>\n",
       "      <td>M</td>\n",
       "      <td>...</td>\n",
       "      <td>2.0</td>\n",
       "      <td>3.0</td>\n",
       "      <td>3.0</td>\n",
       "      <td>3.0</td>\n",
       "      <td>10.00</td>\n",
       "      <td>NaN</td>\n",
       "      <td>648</td>\n",
       "      <td>54</td>\n",
       "      <td>2016</td>\n",
       "      <td>21.0</td>\n",
       "    </tr>\n",
       "    <tr>\n",
       "      <th>2</th>\n",
       "      <td>0</td>\n",
       "      <td>0.0</td>\n",
       "      <td>0.0</td>\n",
       "      <td>0.0</td>\n",
       "      <td>P</td>\n",
       "      <td>2011.0</td>\n",
       "      <td>0.0</td>\n",
       "      <td>NaN</td>\n",
       "      <td>0.0</td>\n",
       "      <td>M</td>\n",
       "      <td>...</td>\n",
       "      <td>1.0</td>\n",
       "      <td>1.0</td>\n",
       "      <td>1.0</td>\n",
       "      <td>1.0</td>\n",
       "      <td>10.00</td>\n",
       "      <td>NaN</td>\n",
       "      <td>648</td>\n",
       "      <td>54</td>\n",
       "      <td>2016</td>\n",
       "      <td>21.0</td>\n",
       "    </tr>\n",
       "    <tr>\n",
       "      <th>3</th>\n",
       "      <td>0</td>\n",
       "      <td>0.0</td>\n",
       "      <td>0.0</td>\n",
       "      <td>0.0</td>\n",
       "      <td>P</td>\n",
       "      <td>2014.0</td>\n",
       "      <td>0.0</td>\n",
       "      <td>NaN</td>\n",
       "      <td>0.0</td>\n",
       "      <td>M</td>\n",
       "      <td>...</td>\n",
       "      <td>NaN</td>\n",
       "      <td>NaN</td>\n",
       "      <td>NaN</td>\n",
       "      <td>NaN</td>\n",
       "      <td>0.00</td>\n",
       "      <td>70.0</td>\n",
       "      <td>648</td>\n",
       "      <td>54</td>\n",
       "      <td>2016</td>\n",
       "      <td>18.0</td>\n",
       "    </tr>\n",
       "    <tr>\n",
       "      <th>4</th>\n",
       "      <td>0</td>\n",
       "      <td>0.0</td>\n",
       "      <td>0.0</td>\n",
       "      <td>0.0</td>\n",
       "      <td>NaN</td>\n",
       "      <td>NaN</td>\n",
       "      <td>0.0</td>\n",
       "      <td>S</td>\n",
       "      <td>0.0</td>\n",
       "      <td>F</td>\n",
       "      <td>...</td>\n",
       "      <td>NaN</td>\n",
       "      <td>NaN</td>\n",
       "      <td>NaN</td>\n",
       "      <td>NaN</td>\n",
       "      <td>0.00</td>\n",
       "      <td>70.0</td>\n",
       "      <td>648</td>\n",
       "      <td>54</td>\n",
       "      <td>2016</td>\n",
       "      <td>18.0</td>\n",
       "    </tr>\n",
       "  </tbody>\n",
       "</table>\n",
       "<p>5 rows × 24 columns</p>\n",
       "</div>"
      ],
      "text/plain": [
       "   SIT_MATRICULA  PAI_FALECIDO  MAE_FALECIDO  RENDA_FAMILIAR  \\\n",
       "0              0           0.0           0.0             NaN   \n",
       "1              0           0.0           0.0             0.0   \n",
       "2              0           0.0           0.0             0.0   \n",
       "3              0           0.0           0.0             0.0   \n",
       "4              0           0.0           0.0             0.0   \n",
       "\n",
       "  TIPO_ESCOLA_ORIGEM  ANO_CONCLUSAO_2_GRAU  RENDA_PER_CAPITA COD_ESTADO_CIVIL  \\\n",
       "0                  E                2014.0               NaN                S   \n",
       "1                  P                2011.0               0.0              NaN   \n",
       "2                  P                2011.0               0.0              NaN   \n",
       "3                  P                2014.0               0.0              NaN   \n",
       "4                NaN                   NaN               0.0                S   \n",
       "\n",
       "   N_FILHOS SEXO       ...       NIVEL_FALA NIVEL_COMPREENSAO NIVEL_ESCRITA  \\\n",
       "0       NaN    M       ...              1.0               1.0           1.0   \n",
       "1       0.0    M       ...              2.0               3.0           3.0   \n",
       "2       0.0    M       ...              1.0               1.0           1.0   \n",
       "3       0.0    M       ...              NaN               NaN           NaN   \n",
       "4       0.0    F       ...              NaN               NaN           NaN   \n",
       "\n",
       "  NIVEL_LEITURA  NOTAS  N_FALTAS  COD_DISCIPLINA  CARGA_HOR ANO_INGRESSO  \\\n",
       "0           1.0   6.70       NaN             648         54         2016   \n",
       "1           3.0  10.00       NaN             648         54         2016   \n",
       "2           1.0  10.00       NaN             648         54         2016   \n",
       "3           NaN   0.00      70.0             648         54         2016   \n",
       "4           NaN   0.00      70.0             648         54         2016   \n",
       "\n",
       "   IDADE_INGRESSO  \n",
       "0            20.0  \n",
       "1            21.0  \n",
       "2            21.0  \n",
       "3            18.0  \n",
       "4            18.0  \n",
       "\n",
       "[5 rows x 24 columns]"
      ]
     },
     "execution_count": 3,
     "metadata": {},
     "output_type": "execute_result"
    }
   ],
   "source": [
    "df.head()"
   ]
  },
  {
   "cell_type": "code",
   "execution_count": 4,
   "metadata": {
    "collapsed": false
   },
   "outputs": [
    {
     "data": {
      "text/plain": [
       "Index([u'SIT_MATRICULA', u'PAI_FALECIDO', u'MAE_FALECIDO', u'RENDA_FAMILIAR',\n",
       "       u'TIPO_ESCOLA_ORIGEM', u'ANO_CONCLUSAO_2_GRAU', u'RENDA_PER_CAPITA',\n",
       "       u'COD_ESTADO_CIVIL', u'N_FILHOS', u'SEXO', u'PROFISSAO', u'DESC_CIDADE',\n",
       "       u'DESC_ESTADO', u'DESC_IDIOMA', u'NIVEL_FALA', u'NIVEL_COMPREENSAO',\n",
       "       u'NIVEL_ESCRITA', u'NIVEL_LEITURA', u'NOTAS', u'N_FALTAS',\n",
       "       u'COD_DISCIPLINA', u'CARGA_HOR', u'ANO_INGRESSO', u'IDADE_INGRESSO'],\n",
       "      dtype='object')"
      ]
     },
     "execution_count": 4,
     "metadata": {},
     "output_type": "execute_result"
    }
   ],
   "source": [
    "df.columns"
   ]
  },
  {
   "cell_type": "code",
   "execution_count": 5,
   "metadata": {
    "collapsed": false
   },
   "outputs": [
    {
     "data": {
      "text/plain": [
       "SIT_MATRICULA             int64\n",
       "PAI_FALECIDO            float64\n",
       "MAE_FALECIDO            float64\n",
       "RENDA_FAMILIAR          float64\n",
       "TIPO_ESCOLA_ORIGEM       object\n",
       "ANO_CONCLUSAO_2_GRAU    float64\n",
       "RENDA_PER_CAPITA        float64\n",
       "COD_ESTADO_CIVIL         object\n",
       "N_FILHOS                float64\n",
       "SEXO                     object\n",
       "PROFISSAO                object\n",
       "DESC_CIDADE              object\n",
       "DESC_ESTADO              object\n",
       "DESC_IDIOMA              object\n",
       "NIVEL_FALA              float64\n",
       "NIVEL_COMPREENSAO       float64\n",
       "NIVEL_ESCRITA           float64\n",
       "NIVEL_LEITURA           float64\n",
       "NOTAS                    object\n",
       "N_FALTAS                float64\n",
       "COD_DISCIPLINA            int64\n",
       "CARGA_HOR                 int64\n",
       "ANO_INGRESSO              int64\n",
       "IDADE_INGRESSO          float64\n",
       "dtype: object"
      ]
     },
     "execution_count": 5,
     "metadata": {},
     "output_type": "execute_result"
    }
   ],
   "source": [
    "df.dtypes"
   ]
  },
  {
   "cell_type": "code",
   "execution_count": 6,
   "metadata": {
    "collapsed": false
   },
   "outputs": [
    {
     "name": "stderr",
     "output_type": "stream",
     "text": [
      "/home/ciceromoura/anaconda/lib/python2.7/site-packages/numpy/lib/function_base.py:3834: RuntimeWarning: Invalid value encountered in percentile\n",
      "  RuntimeWarning)\n"
     ]
    },
    {
     "data": {
      "text/html": [
       "<div>\n",
       "<table border=\"1\" class=\"dataframe\">\n",
       "  <thead>\n",
       "    <tr style=\"text-align: right;\">\n",
       "      <th></th>\n",
       "      <th>SIT_MATRICULA</th>\n",
       "      <th>PAI_FALECIDO</th>\n",
       "      <th>MAE_FALECIDO</th>\n",
       "      <th>RENDA_FAMILIAR</th>\n",
       "      <th>ANO_CONCLUSAO_2_GRAU</th>\n",
       "      <th>RENDA_PER_CAPITA</th>\n",
       "      <th>N_FILHOS</th>\n",
       "      <th>NIVEL_FALA</th>\n",
       "      <th>NIVEL_COMPREENSAO</th>\n",
       "      <th>NIVEL_ESCRITA</th>\n",
       "      <th>NIVEL_LEITURA</th>\n",
       "      <th>N_FALTAS</th>\n",
       "      <th>COD_DISCIPLINA</th>\n",
       "      <th>CARGA_HOR</th>\n",
       "      <th>ANO_INGRESSO</th>\n",
       "      <th>IDADE_INGRESSO</th>\n",
       "    </tr>\n",
       "  </thead>\n",
       "  <tbody>\n",
       "    <tr>\n",
       "      <th>count</th>\n",
       "      <td>20770.000000</td>\n",
       "      <td>15436.000000</td>\n",
       "      <td>15532.0</td>\n",
       "      <td>11374.000000</td>\n",
       "      <td>19163.000000</td>\n",
       "      <td>11534.000000</td>\n",
       "      <td>9921.000000</td>\n",
       "      <td>11983.000000</td>\n",
       "      <td>11983.000000</td>\n",
       "      <td>11983.000000</td>\n",
       "      <td>11983.000000</td>\n",
       "      <td>18430.00000</td>\n",
       "      <td>20770.000000</td>\n",
       "      <td>20770.000000</td>\n",
       "      <td>20770.000000</td>\n",
       "      <td>20770.000000</td>\n",
       "    </tr>\n",
       "    <tr>\n",
       "      <th>mean</th>\n",
       "      <td>6.700818</td>\n",
       "      <td>0.019824</td>\n",
       "      <td>0.0</td>\n",
       "      <td>1.201248</td>\n",
       "      <td>2007.484632</td>\n",
       "      <td>6.704959</td>\n",
       "      <td>0.104425</td>\n",
       "      <td>1.753401</td>\n",
       "      <td>1.991822</td>\n",
       "      <td>1.810732</td>\n",
       "      <td>2.162063</td>\n",
       "      <td>9.75236</td>\n",
       "      <td>10249.072123</td>\n",
       "      <td>51.952576</td>\n",
       "      <td>2010.863746</td>\n",
       "      <td>21.157439</td>\n",
       "    </tr>\n",
       "    <tr>\n",
       "      <th>std</th>\n",
       "      <td>7.147978</td>\n",
       "      <td>0.139399</td>\n",
       "      <td>0.0</td>\n",
       "      <td>1.883402</td>\n",
       "      <td>4.349144</td>\n",
       "      <td>4.278084</td>\n",
       "      <td>0.482331</td>\n",
       "      <td>0.756781</td>\n",
       "      <td>0.751185</td>\n",
       "      <td>0.733509</td>\n",
       "      <td>0.740334</td>\n",
       "      <td>16.91199</td>\n",
       "      <td>4530.071757</td>\n",
       "      <td>15.288996</td>\n",
       "      <td>1.990884</td>\n",
       "      <td>5.114723</td>\n",
       "    </tr>\n",
       "    <tr>\n",
       "      <th>min</th>\n",
       "      <td>0.000000</td>\n",
       "      <td>0.000000</td>\n",
       "      <td>0.0</td>\n",
       "      <td>0.000000</td>\n",
       "      <td>1973.000000</td>\n",
       "      <td>0.000000</td>\n",
       "      <td>0.000000</td>\n",
       "      <td>1.000000</td>\n",
       "      <td>1.000000</td>\n",
       "      <td>1.000000</td>\n",
       "      <td>1.000000</td>\n",
       "      <td>0.00000</td>\n",
       "      <td>648.000000</td>\n",
       "      <td>27.000000</td>\n",
       "      <td>2008.000000</td>\n",
       "      <td>16.000000</td>\n",
       "    </tr>\n",
       "    <tr>\n",
       "      <th>25%</th>\n",
       "      <td>0.000000</td>\n",
       "      <td>NaN</td>\n",
       "      <td>NaN</td>\n",
       "      <td>NaN</td>\n",
       "      <td>NaN</td>\n",
       "      <td>NaN</td>\n",
       "      <td>NaN</td>\n",
       "      <td>NaN</td>\n",
       "      <td>NaN</td>\n",
       "      <td>NaN</td>\n",
       "      <td>NaN</td>\n",
       "      <td>NaN</td>\n",
       "      <td>8595.000000</td>\n",
       "      <td>54.000000</td>\n",
       "      <td>2009.000000</td>\n",
       "      <td>18.000000</td>\n",
       "    </tr>\n",
       "    <tr>\n",
       "      <th>50%</th>\n",
       "      <td>9.000000</td>\n",
       "      <td>NaN</td>\n",
       "      <td>NaN</td>\n",
       "      <td>NaN</td>\n",
       "      <td>NaN</td>\n",
       "      <td>NaN</td>\n",
       "      <td>NaN</td>\n",
       "      <td>NaN</td>\n",
       "      <td>NaN</td>\n",
       "      <td>NaN</td>\n",
       "      <td>NaN</td>\n",
       "      <td>NaN</td>\n",
       "      <td>9111.000000</td>\n",
       "      <td>54.000000</td>\n",
       "      <td>2011.000000</td>\n",
       "      <td>19.000000</td>\n",
       "    </tr>\n",
       "    <tr>\n",
       "      <th>75%</th>\n",
       "      <td>11.000000</td>\n",
       "      <td>NaN</td>\n",
       "      <td>NaN</td>\n",
       "      <td>NaN</td>\n",
       "      <td>NaN</td>\n",
       "      <td>NaN</td>\n",
       "      <td>NaN</td>\n",
       "      <td>NaN</td>\n",
       "      <td>NaN</td>\n",
       "      <td>NaN</td>\n",
       "      <td>NaN</td>\n",
       "      <td>NaN</td>\n",
       "      <td>9134.000000</td>\n",
       "      <td>54.000000</td>\n",
       "      <td>2012.000000</td>\n",
       "      <td>22.000000</td>\n",
       "    </tr>\n",
       "    <tr>\n",
       "      <th>max</th>\n",
       "      <td>20.000000</td>\n",
       "      <td>1.000000</td>\n",
       "      <td>0.0</td>\n",
       "      <td>6.000000</td>\n",
       "      <td>2015.000000</td>\n",
       "      <td>10.000000</td>\n",
       "      <td>4.000000</td>\n",
       "      <td>3.000000</td>\n",
       "      <td>3.000000</td>\n",
       "      <td>3.000000</td>\n",
       "      <td>3.000000</td>\n",
       "      <td>120.00000</td>\n",
       "      <td>24371.000000</td>\n",
       "      <td>81.000000</td>\n",
       "      <td>2016.000000</td>\n",
       "      <td>56.000000</td>\n",
       "    </tr>\n",
       "  </tbody>\n",
       "</table>\n",
       "</div>"
      ],
      "text/plain": [
       "       SIT_MATRICULA  PAI_FALECIDO  MAE_FALECIDO  RENDA_FAMILIAR  \\\n",
       "count   20770.000000  15436.000000       15532.0    11374.000000   \n",
       "mean        6.700818      0.019824           0.0        1.201248   \n",
       "std         7.147978      0.139399           0.0        1.883402   \n",
       "min         0.000000      0.000000           0.0        0.000000   \n",
       "25%         0.000000           NaN           NaN             NaN   \n",
       "50%         9.000000           NaN           NaN             NaN   \n",
       "75%        11.000000           NaN           NaN             NaN   \n",
       "max        20.000000      1.000000           0.0        6.000000   \n",
       "\n",
       "       ANO_CONCLUSAO_2_GRAU  RENDA_PER_CAPITA     N_FILHOS    NIVEL_FALA  \\\n",
       "count          19163.000000      11534.000000  9921.000000  11983.000000   \n",
       "mean            2007.484632          6.704959     0.104425      1.753401   \n",
       "std                4.349144          4.278084     0.482331      0.756781   \n",
       "min             1973.000000          0.000000     0.000000      1.000000   \n",
       "25%                     NaN               NaN          NaN           NaN   \n",
       "50%                     NaN               NaN          NaN           NaN   \n",
       "75%                     NaN               NaN          NaN           NaN   \n",
       "max             2015.000000         10.000000     4.000000      3.000000   \n",
       "\n",
       "       NIVEL_COMPREENSAO  NIVEL_ESCRITA  NIVEL_LEITURA     N_FALTAS  \\\n",
       "count       11983.000000   11983.000000   11983.000000  18430.00000   \n",
       "mean            1.991822       1.810732       2.162063      9.75236   \n",
       "std             0.751185       0.733509       0.740334     16.91199   \n",
       "min             1.000000       1.000000       1.000000      0.00000   \n",
       "25%                  NaN            NaN            NaN          NaN   \n",
       "50%                  NaN            NaN            NaN          NaN   \n",
       "75%                  NaN            NaN            NaN          NaN   \n",
       "max             3.000000       3.000000       3.000000    120.00000   \n",
       "\n",
       "       COD_DISCIPLINA     CARGA_HOR  ANO_INGRESSO  IDADE_INGRESSO  \n",
       "count    20770.000000  20770.000000  20770.000000    20770.000000  \n",
       "mean     10249.072123     51.952576   2010.863746       21.157439  \n",
       "std       4530.071757     15.288996      1.990884        5.114723  \n",
       "min        648.000000     27.000000   2008.000000       16.000000  \n",
       "25%       8595.000000     54.000000   2009.000000       18.000000  \n",
       "50%       9111.000000     54.000000   2011.000000       19.000000  \n",
       "75%       9134.000000     54.000000   2012.000000       22.000000  \n",
       "max      24371.000000     81.000000   2016.000000       56.000000  "
      ]
     },
     "execution_count": 6,
     "metadata": {},
     "output_type": "execute_result"
    }
   ],
   "source": [
    "df.describe()"
   ]
  },
  {
   "cell_type": "code",
   "execution_count": 7,
   "metadata": {
    "collapsed": false
   },
   "outputs": [
    {
     "data": {
      "text/plain": [
       "24"
      ]
     },
     "execution_count": 7,
     "metadata": {},
     "output_type": "execute_result"
    }
   ],
   "source": [
    "len(df.columns)"
   ]
  },
  {
   "cell_type": "code",
   "execution_count": 8,
   "metadata": {
    "collapsed": false
   },
   "outputs": [
    {
     "data": {
      "text/html": [
       "<div>\n",
       "<table border=\"1\" class=\"dataframe\">\n",
       "  <thead>\n",
       "    <tr style=\"text-align: right;\">\n",
       "      <th></th>\n",
       "      <th>SIT_MATRICULA</th>\n",
       "      <th>PAI_FALECIDO</th>\n",
       "      <th>MAE_FALECIDO</th>\n",
       "      <th>RENDA_FAMILIAR</th>\n",
       "      <th>ANO_CONCLUSAO_2_GRAU</th>\n",
       "      <th>RENDA_PER_CAPITA</th>\n",
       "      <th>N_FILHOS</th>\n",
       "      <th>NIVEL_FALA</th>\n",
       "      <th>NIVEL_COMPREENSAO</th>\n",
       "      <th>NIVEL_ESCRITA</th>\n",
       "      <th>NIVEL_LEITURA</th>\n",
       "      <th>N_FALTAS</th>\n",
       "      <th>COD_DISCIPLINA</th>\n",
       "      <th>CARGA_HOR</th>\n",
       "      <th>ANO_INGRESSO</th>\n",
       "      <th>IDADE_INGRESSO</th>\n",
       "    </tr>\n",
       "  </thead>\n",
       "  <tbody>\n",
       "    <tr>\n",
       "      <th>count</th>\n",
       "      <td>2299.000000</td>\n",
       "      <td>2299.0</td>\n",
       "      <td>2299.0</td>\n",
       "      <td>2299.000000</td>\n",
       "      <td>2299.000000</td>\n",
       "      <td>2299.000000</td>\n",
       "      <td>2299.000000</td>\n",
       "      <td>2299.000000</td>\n",
       "      <td>2299.000000</td>\n",
       "      <td>2299.000000</td>\n",
       "      <td>2299.000000</td>\n",
       "      <td>2299.000000</td>\n",
       "      <td>2299.000000</td>\n",
       "      <td>2299.000000</td>\n",
       "      <td>2299.000000</td>\n",
       "      <td>2299.000000</td>\n",
       "    </tr>\n",
       "    <tr>\n",
       "      <th>mean</th>\n",
       "      <td>5.327534</td>\n",
       "      <td>0.0</td>\n",
       "      <td>0.0</td>\n",
       "      <td>1.072205</td>\n",
       "      <td>2008.397999</td>\n",
       "      <td>5.431057</td>\n",
       "      <td>0.026098</td>\n",
       "      <td>1.769900</td>\n",
       "      <td>2.066986</td>\n",
       "      <td>1.789909</td>\n",
       "      <td>2.131361</td>\n",
       "      <td>7.317529</td>\n",
       "      <td>10592.655502</td>\n",
       "      <td>51.815572</td>\n",
       "      <td>2010.662462</td>\n",
       "      <td>19.607656</td>\n",
       "    </tr>\n",
       "    <tr>\n",
       "      <th>std</th>\n",
       "      <td>6.904747</td>\n",
       "      <td>0.0</td>\n",
       "      <td>0.0</td>\n",
       "      <td>1.764165</td>\n",
       "      <td>2.465853</td>\n",
       "      <td>4.770805</td>\n",
       "      <td>0.227020</td>\n",
       "      <td>0.779211</td>\n",
       "      <td>0.761247</td>\n",
       "      <td>0.773676</td>\n",
       "      <td>0.765990</td>\n",
       "      <td>12.059257</td>\n",
       "      <td>4493.402052</td>\n",
       "      <td>14.954381</td>\n",
       "      <td>1.520683</td>\n",
       "      <td>2.623959</td>\n",
       "    </tr>\n",
       "    <tr>\n",
       "      <th>min</th>\n",
       "      <td>0.000000</td>\n",
       "      <td>0.0</td>\n",
       "      <td>0.0</td>\n",
       "      <td>0.000000</td>\n",
       "      <td>1996.000000</td>\n",
       "      <td>0.000000</td>\n",
       "      <td>0.000000</td>\n",
       "      <td>1.000000</td>\n",
       "      <td>1.000000</td>\n",
       "      <td>1.000000</td>\n",
       "      <td>1.000000</td>\n",
       "      <td>0.000000</td>\n",
       "      <td>648.000000</td>\n",
       "      <td>27.000000</td>\n",
       "      <td>2009.000000</td>\n",
       "      <td>17.000000</td>\n",
       "    </tr>\n",
       "    <tr>\n",
       "      <th>25%</th>\n",
       "      <td>0.000000</td>\n",
       "      <td>0.0</td>\n",
       "      <td>0.0</td>\n",
       "      <td>0.000000</td>\n",
       "      <td>2007.000000</td>\n",
       "      <td>0.000000</td>\n",
       "      <td>0.000000</td>\n",
       "      <td>1.000000</td>\n",
       "      <td>1.000000</td>\n",
       "      <td>1.000000</td>\n",
       "      <td>2.000000</td>\n",
       "      <td>0.000000</td>\n",
       "      <td>8654.000000</td>\n",
       "      <td>54.000000</td>\n",
       "      <td>2010.000000</td>\n",
       "      <td>18.000000</td>\n",
       "    </tr>\n",
       "    <tr>\n",
       "      <th>50%</th>\n",
       "      <td>0.000000</td>\n",
       "      <td>0.0</td>\n",
       "      <td>0.0</td>\n",
       "      <td>0.000000</td>\n",
       "      <td>2008.000000</td>\n",
       "      <td>10.000000</td>\n",
       "      <td>0.000000</td>\n",
       "      <td>2.000000</td>\n",
       "      <td>2.000000</td>\n",
       "      <td>2.000000</td>\n",
       "      <td>2.000000</td>\n",
       "      <td>4.000000</td>\n",
       "      <td>9114.000000</td>\n",
       "      <td>54.000000</td>\n",
       "      <td>2010.000000</td>\n",
       "      <td>19.000000</td>\n",
       "    </tr>\n",
       "    <tr>\n",
       "      <th>75%</th>\n",
       "      <td>10.000000</td>\n",
       "      <td>0.0</td>\n",
       "      <td>0.0</td>\n",
       "      <td>3.000000</td>\n",
       "      <td>2010.000000</td>\n",
       "      <td>10.000000</td>\n",
       "      <td>0.000000</td>\n",
       "      <td>2.000000</td>\n",
       "      <td>3.000000</td>\n",
       "      <td>2.000000</td>\n",
       "      <td>3.000000</td>\n",
       "      <td>9.500000</td>\n",
       "      <td>9145.000000</td>\n",
       "      <td>54.000000</td>\n",
       "      <td>2012.000000</td>\n",
       "      <td>20.000000</td>\n",
       "    </tr>\n",
       "    <tr>\n",
       "      <th>max</th>\n",
       "      <td>18.000000</td>\n",
       "      <td>0.0</td>\n",
       "      <td>0.0</td>\n",
       "      <td>5.000000</td>\n",
       "      <td>2014.000000</td>\n",
       "      <td>10.000000</td>\n",
       "      <td>2.000000</td>\n",
       "      <td>3.000000</td>\n",
       "      <td>3.000000</td>\n",
       "      <td>3.000000</td>\n",
       "      <td>3.000000</td>\n",
       "      <td>108.000000</td>\n",
       "      <td>24371.000000</td>\n",
       "      <td>81.000000</td>\n",
       "      <td>2015.000000</td>\n",
       "      <td>35.000000</td>\n",
       "    </tr>\n",
       "  </tbody>\n",
       "</table>\n",
       "</div>"
      ],
      "text/plain": [
       "       SIT_MATRICULA  PAI_FALECIDO  MAE_FALECIDO  RENDA_FAMILIAR  \\\n",
       "count    2299.000000        2299.0        2299.0     2299.000000   \n",
       "mean        5.327534           0.0           0.0        1.072205   \n",
       "std         6.904747           0.0           0.0        1.764165   \n",
       "min         0.000000           0.0           0.0        0.000000   \n",
       "25%         0.000000           0.0           0.0        0.000000   \n",
       "50%         0.000000           0.0           0.0        0.000000   \n",
       "75%        10.000000           0.0           0.0        3.000000   \n",
       "max        18.000000           0.0           0.0        5.000000   \n",
       "\n",
       "       ANO_CONCLUSAO_2_GRAU  RENDA_PER_CAPITA     N_FILHOS   NIVEL_FALA  \\\n",
       "count           2299.000000       2299.000000  2299.000000  2299.000000   \n",
       "mean            2008.397999          5.431057     0.026098     1.769900   \n",
       "std                2.465853          4.770805     0.227020     0.779211   \n",
       "min             1996.000000          0.000000     0.000000     1.000000   \n",
       "25%             2007.000000          0.000000     0.000000     1.000000   \n",
       "50%             2008.000000         10.000000     0.000000     2.000000   \n",
       "75%             2010.000000         10.000000     0.000000     2.000000   \n",
       "max             2014.000000         10.000000     2.000000     3.000000   \n",
       "\n",
       "       NIVEL_COMPREENSAO  NIVEL_ESCRITA  NIVEL_LEITURA     N_FALTAS  \\\n",
       "count        2299.000000    2299.000000    2299.000000  2299.000000   \n",
       "mean            2.066986       1.789909       2.131361     7.317529   \n",
       "std             0.761247       0.773676       0.765990    12.059257   \n",
       "min             1.000000       1.000000       1.000000     0.000000   \n",
       "25%             1.000000       1.000000       2.000000     0.000000   \n",
       "50%             2.000000       2.000000       2.000000     4.000000   \n",
       "75%             3.000000       2.000000       3.000000     9.500000   \n",
       "max             3.000000       3.000000       3.000000   108.000000   \n",
       "\n",
       "       COD_DISCIPLINA    CARGA_HOR  ANO_INGRESSO  IDADE_INGRESSO  \n",
       "count     2299.000000  2299.000000   2299.000000     2299.000000  \n",
       "mean     10592.655502    51.815572   2010.662462       19.607656  \n",
       "std       4493.402052    14.954381      1.520683        2.623959  \n",
       "min        648.000000    27.000000   2009.000000       17.000000  \n",
       "25%       8654.000000    54.000000   2010.000000       18.000000  \n",
       "50%       9114.000000    54.000000   2010.000000       19.000000  \n",
       "75%       9145.000000    54.000000   2012.000000       20.000000  \n",
       "max      24371.000000    81.000000   2015.000000       35.000000  "
      ]
     },
     "execution_count": 8,
     "metadata": {},
     "output_type": "execute_result"
    }
   ],
   "source": [
    "df.dropna().describe()"
   ]
  },
  {
   "cell_type": "code",
   "execution_count": 9,
   "metadata": {
    "collapsed": false
   },
   "outputs": [
    {
     "data": {
      "text/plain": [
       "array([ 0,  9, 10, 11,  2,  4, 20, 14, 18, 13])"
      ]
     },
     "execution_count": 9,
     "metadata": {},
     "output_type": "execute_result"
    }
   ],
   "source": [
    "df.SIT_MATRICULA.unique()"
   ]
  },
  {
   "cell_type": "markdown",
   "metadata": {},
   "source": [
    "<h2>Binarização do campo Situação da Matricula</h2>"
   ]
  },
  {
   "cell_type": "code",
   "execution_count": 10,
   "metadata": {
    "collapsed": false
   },
   "outputs": [
    {
     "data": {
      "text/plain": [
       "0    0\n",
       "1    0\n",
       "Name: SIT_MATRICULA, dtype: int64"
      ]
     },
     "execution_count": 10,
     "metadata": {},
     "output_type": "execute_result"
    }
   ],
   "source": [
    "df.loc[[0,1], 'SIT_MATRICULA']"
   ]
  },
  {
   "cell_type": "code",
   "execution_count": 11,
   "metadata": {
    "collapsed": false
   },
   "outputs": [
    {
     "data": {
      "text/html": [
       "<div>\n",
       "<table border=\"1\" class=\"dataframe\">\n",
       "  <thead>\n",
       "    <tr style=\"text-align: right;\">\n",
       "      <th></th>\n",
       "      <th>SIT_MATRICULA</th>\n",
       "      <th>PAI_FALECIDO</th>\n",
       "      <th>MAE_FALECIDO</th>\n",
       "      <th>RENDA_FAMILIAR</th>\n",
       "      <th>TIPO_ESCOLA_ORIGEM</th>\n",
       "      <th>ANO_CONCLUSAO_2_GRAU</th>\n",
       "      <th>RENDA_PER_CAPITA</th>\n",
       "      <th>COD_ESTADO_CIVIL</th>\n",
       "      <th>N_FILHOS</th>\n",
       "      <th>SEXO</th>\n",
       "      <th>...</th>\n",
       "      <th>NIVEL_FALA</th>\n",
       "      <th>NIVEL_COMPREENSAO</th>\n",
       "      <th>NIVEL_ESCRITA</th>\n",
       "      <th>NIVEL_LEITURA</th>\n",
       "      <th>NOTAS</th>\n",
       "      <th>N_FALTAS</th>\n",
       "      <th>COD_DISCIPLINA</th>\n",
       "      <th>CARGA_HOR</th>\n",
       "      <th>ANO_INGRESSO</th>\n",
       "      <th>IDADE_INGRESSO</th>\n",
       "    </tr>\n",
       "  </thead>\n",
       "  <tbody>\n",
       "    <tr>\n",
       "      <th>0</th>\n",
       "      <td>0</td>\n",
       "      <td>0.0</td>\n",
       "      <td>0.0</td>\n",
       "      <td>NaN</td>\n",
       "      <td>E</td>\n",
       "      <td>2014.0</td>\n",
       "      <td>NaN</td>\n",
       "      <td>S</td>\n",
       "      <td>NaN</td>\n",
       "      <td>M</td>\n",
       "      <td>...</td>\n",
       "      <td>1.0</td>\n",
       "      <td>1.0</td>\n",
       "      <td>1.0</td>\n",
       "      <td>1.0</td>\n",
       "      <td>6.70</td>\n",
       "      <td>NaN</td>\n",
       "      <td>648</td>\n",
       "      <td>54</td>\n",
       "      <td>2016</td>\n",
       "      <td>20.0</td>\n",
       "    </tr>\n",
       "    <tr>\n",
       "      <th>1</th>\n",
       "      <td>0</td>\n",
       "      <td>0.0</td>\n",
       "      <td>0.0</td>\n",
       "      <td>0.0</td>\n",
       "      <td>P</td>\n",
       "      <td>2011.0</td>\n",
       "      <td>0.0</td>\n",
       "      <td>NaN</td>\n",
       "      <td>0.0</td>\n",
       "      <td>M</td>\n",
       "      <td>...</td>\n",
       "      <td>2.0</td>\n",
       "      <td>3.0</td>\n",
       "      <td>3.0</td>\n",
       "      <td>3.0</td>\n",
       "      <td>10.00</td>\n",
       "      <td>NaN</td>\n",
       "      <td>648</td>\n",
       "      <td>54</td>\n",
       "      <td>2016</td>\n",
       "      <td>21.0</td>\n",
       "    </tr>\n",
       "    <tr>\n",
       "      <th>2</th>\n",
       "      <td>0</td>\n",
       "      <td>0.0</td>\n",
       "      <td>0.0</td>\n",
       "      <td>0.0</td>\n",
       "      <td>P</td>\n",
       "      <td>2011.0</td>\n",
       "      <td>0.0</td>\n",
       "      <td>NaN</td>\n",
       "      <td>0.0</td>\n",
       "      <td>M</td>\n",
       "      <td>...</td>\n",
       "      <td>1.0</td>\n",
       "      <td>1.0</td>\n",
       "      <td>1.0</td>\n",
       "      <td>1.0</td>\n",
       "      <td>10.00</td>\n",
       "      <td>NaN</td>\n",
       "      <td>648</td>\n",
       "      <td>54</td>\n",
       "      <td>2016</td>\n",
       "      <td>21.0</td>\n",
       "    </tr>\n",
       "    <tr>\n",
       "      <th>3</th>\n",
       "      <td>0</td>\n",
       "      <td>0.0</td>\n",
       "      <td>0.0</td>\n",
       "      <td>0.0</td>\n",
       "      <td>P</td>\n",
       "      <td>2014.0</td>\n",
       "      <td>0.0</td>\n",
       "      <td>NaN</td>\n",
       "      <td>0.0</td>\n",
       "      <td>M</td>\n",
       "      <td>...</td>\n",
       "      <td>NaN</td>\n",
       "      <td>NaN</td>\n",
       "      <td>NaN</td>\n",
       "      <td>NaN</td>\n",
       "      <td>0.00</td>\n",
       "      <td>70.0</td>\n",
       "      <td>648</td>\n",
       "      <td>54</td>\n",
       "      <td>2016</td>\n",
       "      <td>18.0</td>\n",
       "    </tr>\n",
       "    <tr>\n",
       "      <th>4</th>\n",
       "      <td>0</td>\n",
       "      <td>0.0</td>\n",
       "      <td>0.0</td>\n",
       "      <td>0.0</td>\n",
       "      <td>NaN</td>\n",
       "      <td>NaN</td>\n",
       "      <td>0.0</td>\n",
       "      <td>S</td>\n",
       "      <td>0.0</td>\n",
       "      <td>F</td>\n",
       "      <td>...</td>\n",
       "      <td>NaN</td>\n",
       "      <td>NaN</td>\n",
       "      <td>NaN</td>\n",
       "      <td>NaN</td>\n",
       "      <td>0.00</td>\n",
       "      <td>70.0</td>\n",
       "      <td>648</td>\n",
       "      <td>54</td>\n",
       "      <td>2016</td>\n",
       "      <td>18.0</td>\n",
       "    </tr>\n",
       "  </tbody>\n",
       "</table>\n",
       "<p>5 rows × 24 columns</p>\n",
       "</div>"
      ],
      "text/plain": [
       "   SIT_MATRICULA  PAI_FALECIDO  MAE_FALECIDO  RENDA_FAMILIAR  \\\n",
       "0              0           0.0           0.0             NaN   \n",
       "1              0           0.0           0.0             0.0   \n",
       "2              0           0.0           0.0             0.0   \n",
       "3              0           0.0           0.0             0.0   \n",
       "4              0           0.0           0.0             0.0   \n",
       "\n",
       "  TIPO_ESCOLA_ORIGEM  ANO_CONCLUSAO_2_GRAU  RENDA_PER_CAPITA COD_ESTADO_CIVIL  \\\n",
       "0                  E                2014.0               NaN                S   \n",
       "1                  P                2011.0               0.0              NaN   \n",
       "2                  P                2011.0               0.0              NaN   \n",
       "3                  P                2014.0               0.0              NaN   \n",
       "4                NaN                   NaN               0.0                S   \n",
       "\n",
       "   N_FILHOS SEXO       ...       NIVEL_FALA NIVEL_COMPREENSAO NIVEL_ESCRITA  \\\n",
       "0       NaN    M       ...              1.0               1.0           1.0   \n",
       "1       0.0    M       ...              2.0               3.0           3.0   \n",
       "2       0.0    M       ...              1.0               1.0           1.0   \n",
       "3       0.0    M       ...              NaN               NaN           NaN   \n",
       "4       0.0    F       ...              NaN               NaN           NaN   \n",
       "\n",
       "  NIVEL_LEITURA  NOTAS  N_FALTAS  COD_DISCIPLINA  CARGA_HOR ANO_INGRESSO  \\\n",
       "0           1.0   6.70       NaN             648         54         2016   \n",
       "1           3.0  10.00       NaN             648         54         2016   \n",
       "2           1.0  10.00       NaN             648         54         2016   \n",
       "3           NaN   0.00      70.0             648         54         2016   \n",
       "4           NaN   0.00      70.0             648         54         2016   \n",
       "\n",
       "   IDADE_INGRESSO  \n",
       "0            20.0  \n",
       "1            21.0  \n",
       "2            21.0  \n",
       "3            18.0  \n",
       "4            18.0  \n",
       "\n",
       "[5 rows x 24 columns]"
      ]
     },
     "execution_count": 11,
     "metadata": {},
     "output_type": "execute_result"
    }
   ],
   "source": [
    "df.loc[0:4, :]"
   ]
  },
  {
   "cell_type": "markdown",
   "metadata": {
    "collapsed": false
   },
   "source": [
    "<p>Definindo Binarização da Situação da Matricula <br>\n",
    "<br>\n",
    "categoria 0 = Matriculado<br>\n",
    "categoria 2 = Trancado<br>\n",
    "categoria 4 = Transferido interno<br>\n",
    "categoria 9 = Evasão<br>\n",
    "categoria 10 = Cancelado<br>\n",
    "categoria 11 = Transferido Externo<br>\n",
    "categoria 13 = Aguardando colação de grau<br>\n",
    "categoria 14 = Intercambio<br>\n",
    "categoria 18 = Formado<br>\n",
    "categoria 20 = Cancelamento compulsorio<br>\n",
    "<br>\n",
    "evasão = 2, 4, 9, 10, 11, 20<br>\n",
    "não evasão = 0, 13, 14, 18<br>\n",
    "<br>\n",
    "0 = não evasão,  1 = evasão\n",
    "</p>"
   ]
  },
  {
   "cell_type": "code",
   "execution_count": 12,
   "metadata": {
    "collapsed": false,
    "scrolled": true
   },
   "outputs": [
    {
     "data": {
      "text/html": [
       "<div>\n",
       "<table border=\"1\" class=\"dataframe\">\n",
       "  <thead>\n",
       "    <tr style=\"text-align: right;\">\n",
       "      <th></th>\n",
       "      <th>SIT_MATRICULA</th>\n",
       "      <th>PAI_FALECIDO</th>\n",
       "      <th>MAE_FALECIDO</th>\n",
       "      <th>RENDA_FAMILIAR</th>\n",
       "      <th>TIPO_ESCOLA_ORIGEM</th>\n",
       "      <th>ANO_CONCLUSAO_2_GRAU</th>\n",
       "      <th>RENDA_PER_CAPITA</th>\n",
       "      <th>COD_ESTADO_CIVIL</th>\n",
       "      <th>N_FILHOS</th>\n",
       "      <th>SEXO</th>\n",
       "      <th>...</th>\n",
       "      <th>NIVEL_FALA</th>\n",
       "      <th>NIVEL_COMPREENSAO</th>\n",
       "      <th>NIVEL_ESCRITA</th>\n",
       "      <th>NIVEL_LEITURA</th>\n",
       "      <th>NOTAS</th>\n",
       "      <th>N_FALTAS</th>\n",
       "      <th>COD_DISCIPLINA</th>\n",
       "      <th>CARGA_HOR</th>\n",
       "      <th>ANO_INGRESSO</th>\n",
       "      <th>IDADE_INGRESSO</th>\n",
       "    </tr>\n",
       "  </thead>\n",
       "  <tbody>\n",
       "    <tr>\n",
       "      <th>0</th>\n",
       "      <td>0</td>\n",
       "      <td>0.0</td>\n",
       "      <td>0.0</td>\n",
       "      <td>NaN</td>\n",
       "      <td>E</td>\n",
       "      <td>2014.0</td>\n",
       "      <td>NaN</td>\n",
       "      <td>S</td>\n",
       "      <td>NaN</td>\n",
       "      <td>M</td>\n",
       "      <td>...</td>\n",
       "      <td>1.0</td>\n",
       "      <td>1.0</td>\n",
       "      <td>1.0</td>\n",
       "      <td>1.0</td>\n",
       "      <td>6.70</td>\n",
       "      <td>NaN</td>\n",
       "      <td>648</td>\n",
       "      <td>54</td>\n",
       "      <td>2016</td>\n",
       "      <td>20.0</td>\n",
       "    </tr>\n",
       "    <tr>\n",
       "      <th>1</th>\n",
       "      <td>0</td>\n",
       "      <td>0.0</td>\n",
       "      <td>0.0</td>\n",
       "      <td>0.0</td>\n",
       "      <td>P</td>\n",
       "      <td>2011.0</td>\n",
       "      <td>0.0</td>\n",
       "      <td>NaN</td>\n",
       "      <td>0.0</td>\n",
       "      <td>M</td>\n",
       "      <td>...</td>\n",
       "      <td>2.0</td>\n",
       "      <td>3.0</td>\n",
       "      <td>3.0</td>\n",
       "      <td>3.0</td>\n",
       "      <td>10.00</td>\n",
       "      <td>NaN</td>\n",
       "      <td>648</td>\n",
       "      <td>54</td>\n",
       "      <td>2016</td>\n",
       "      <td>21.0</td>\n",
       "    </tr>\n",
       "    <tr>\n",
       "      <th>2</th>\n",
       "      <td>0</td>\n",
       "      <td>0.0</td>\n",
       "      <td>0.0</td>\n",
       "      <td>0.0</td>\n",
       "      <td>P</td>\n",
       "      <td>2011.0</td>\n",
       "      <td>0.0</td>\n",
       "      <td>NaN</td>\n",
       "      <td>0.0</td>\n",
       "      <td>M</td>\n",
       "      <td>...</td>\n",
       "      <td>1.0</td>\n",
       "      <td>1.0</td>\n",
       "      <td>1.0</td>\n",
       "      <td>1.0</td>\n",
       "      <td>10.00</td>\n",
       "      <td>NaN</td>\n",
       "      <td>648</td>\n",
       "      <td>54</td>\n",
       "      <td>2016</td>\n",
       "      <td>21.0</td>\n",
       "    </tr>\n",
       "    <tr>\n",
       "      <th>3</th>\n",
       "      <td>0</td>\n",
       "      <td>0.0</td>\n",
       "      <td>0.0</td>\n",
       "      <td>0.0</td>\n",
       "      <td>P</td>\n",
       "      <td>2014.0</td>\n",
       "      <td>0.0</td>\n",
       "      <td>NaN</td>\n",
       "      <td>0.0</td>\n",
       "      <td>M</td>\n",
       "      <td>...</td>\n",
       "      <td>NaN</td>\n",
       "      <td>NaN</td>\n",
       "      <td>NaN</td>\n",
       "      <td>NaN</td>\n",
       "      <td>0.00</td>\n",
       "      <td>70.0</td>\n",
       "      <td>648</td>\n",
       "      <td>54</td>\n",
       "      <td>2016</td>\n",
       "      <td>18.0</td>\n",
       "    </tr>\n",
       "    <tr>\n",
       "      <th>4</th>\n",
       "      <td>0</td>\n",
       "      <td>0.0</td>\n",
       "      <td>0.0</td>\n",
       "      <td>0.0</td>\n",
       "      <td>NaN</td>\n",
       "      <td>NaN</td>\n",
       "      <td>0.0</td>\n",
       "      <td>S</td>\n",
       "      <td>0.0</td>\n",
       "      <td>F</td>\n",
       "      <td>...</td>\n",
       "      <td>NaN</td>\n",
       "      <td>NaN</td>\n",
       "      <td>NaN</td>\n",
       "      <td>NaN</td>\n",
       "      <td>0.00</td>\n",
       "      <td>70.0</td>\n",
       "      <td>648</td>\n",
       "      <td>54</td>\n",
       "      <td>2016</td>\n",
       "      <td>18.0</td>\n",
       "    </tr>\n",
       "    <tr>\n",
       "      <th>5</th>\n",
       "      <td>0</td>\n",
       "      <td>0.0</td>\n",
       "      <td>0.0</td>\n",
       "      <td>0.0</td>\n",
       "      <td>E</td>\n",
       "      <td>2014.0</td>\n",
       "      <td>0.0</td>\n",
       "      <td>S</td>\n",
       "      <td>0.0</td>\n",
       "      <td>M</td>\n",
       "      <td>...</td>\n",
       "      <td>1.0</td>\n",
       "      <td>2.0</td>\n",
       "      <td>2.0</td>\n",
       "      <td>2.0</td>\n",
       "      <td>0.00</td>\n",
       "      <td>70.0</td>\n",
       "      <td>648</td>\n",
       "      <td>54</td>\n",
       "      <td>2016</td>\n",
       "      <td>18.0</td>\n",
       "    </tr>\n",
       "    <tr>\n",
       "      <th>6</th>\n",
       "      <td>0</td>\n",
       "      <td>0.0</td>\n",
       "      <td>0.0</td>\n",
       "      <td>0.0</td>\n",
       "      <td>E</td>\n",
       "      <td>2012.0</td>\n",
       "      <td>10.0</td>\n",
       "      <td>NaN</td>\n",
       "      <td>0.0</td>\n",
       "      <td>M</td>\n",
       "      <td>...</td>\n",
       "      <td>NaN</td>\n",
       "      <td>NaN</td>\n",
       "      <td>NaN</td>\n",
       "      <td>NaN</td>\n",
       "      <td>0.00</td>\n",
       "      <td>70.0</td>\n",
       "      <td>648</td>\n",
       "      <td>54</td>\n",
       "      <td>2016</td>\n",
       "      <td>22.0</td>\n",
       "    </tr>\n",
       "    <tr>\n",
       "      <th>7</th>\n",
       "      <td>0</td>\n",
       "      <td>0.0</td>\n",
       "      <td>0.0</td>\n",
       "      <td>0.0</td>\n",
       "      <td>NaN</td>\n",
       "      <td>2014.0</td>\n",
       "      <td>10.0</td>\n",
       "      <td>S</td>\n",
       "      <td>0.0</td>\n",
       "      <td>M</td>\n",
       "      <td>...</td>\n",
       "      <td>3.0</td>\n",
       "      <td>2.0</td>\n",
       "      <td>3.0</td>\n",
       "      <td>3.0</td>\n",
       "      <td>1.30</td>\n",
       "      <td>8.0</td>\n",
       "      <td>648</td>\n",
       "      <td>54</td>\n",
       "      <td>2015</td>\n",
       "      <td>18.0</td>\n",
       "    </tr>\n",
       "    <tr>\n",
       "      <th>8</th>\n",
       "      <td>0</td>\n",
       "      <td>0.0</td>\n",
       "      <td>0.0</td>\n",
       "      <td>0.0</td>\n",
       "      <td>NaN</td>\n",
       "      <td>NaN</td>\n",
       "      <td>10.0</td>\n",
       "      <td>S</td>\n",
       "      <td>0.0</td>\n",
       "      <td>F</td>\n",
       "      <td>...</td>\n",
       "      <td>NaN</td>\n",
       "      <td>NaN</td>\n",
       "      <td>NaN</td>\n",
       "      <td>NaN</td>\n",
       "      <td>8.00</td>\n",
       "      <td>8.0</td>\n",
       "      <td>648</td>\n",
       "      <td>54</td>\n",
       "      <td>2015</td>\n",
       "      <td>18.0</td>\n",
       "    </tr>\n",
       "    <tr>\n",
       "      <th>9</th>\n",
       "      <td>0</td>\n",
       "      <td>0.0</td>\n",
       "      <td>0.0</td>\n",
       "      <td>0.0</td>\n",
       "      <td>E</td>\n",
       "      <td>2013.0</td>\n",
       "      <td>10.0</td>\n",
       "      <td>S</td>\n",
       "      <td>0.0</td>\n",
       "      <td>M</td>\n",
       "      <td>...</td>\n",
       "      <td>1.0</td>\n",
       "      <td>1.0</td>\n",
       "      <td>1.0</td>\n",
       "      <td>1.0</td>\n",
       "      <td>0.00</td>\n",
       "      <td>70.0</td>\n",
       "      <td>648</td>\n",
       "      <td>54</td>\n",
       "      <td>2015</td>\n",
       "      <td>19.0</td>\n",
       "    </tr>\n",
       "    <tr>\n",
       "      <th>10</th>\n",
       "      <td>0</td>\n",
       "      <td>0.0</td>\n",
       "      <td>0.0</td>\n",
       "      <td>0.0</td>\n",
       "      <td>E</td>\n",
       "      <td>2014.0</td>\n",
       "      <td>NaN</td>\n",
       "      <td>NaN</td>\n",
       "      <td>NaN</td>\n",
       "      <td>M</td>\n",
       "      <td>...</td>\n",
       "      <td>NaN</td>\n",
       "      <td>NaN</td>\n",
       "      <td>NaN</td>\n",
       "      <td>NaN</td>\n",
       "      <td>0.50</td>\n",
       "      <td>10.0</td>\n",
       "      <td>648</td>\n",
       "      <td>54</td>\n",
       "      <td>2015</td>\n",
       "      <td>19.0</td>\n",
       "    </tr>\n",
       "    <tr>\n",
       "      <th>11</th>\n",
       "      <td>0</td>\n",
       "      <td>0.0</td>\n",
       "      <td>0.0</td>\n",
       "      <td>0.0</td>\n",
       "      <td>E</td>\n",
       "      <td>2014.0</td>\n",
       "      <td>10.0</td>\n",
       "      <td>S</td>\n",
       "      <td>0.0</td>\n",
       "      <td>M</td>\n",
       "      <td>...</td>\n",
       "      <td>2.0</td>\n",
       "      <td>3.0</td>\n",
       "      <td>2.0</td>\n",
       "      <td>2.0</td>\n",
       "      <td>0.00</td>\n",
       "      <td>70.0</td>\n",
       "      <td>648</td>\n",
       "      <td>54</td>\n",
       "      <td>2015</td>\n",
       "      <td>18.0</td>\n",
       "    </tr>\n",
       "    <tr>\n",
       "      <th>12</th>\n",
       "      <td>0</td>\n",
       "      <td>0.0</td>\n",
       "      <td>0.0</td>\n",
       "      <td>0.0</td>\n",
       "      <td>P</td>\n",
       "      <td>2011.0</td>\n",
       "      <td>10.0</td>\n",
       "      <td>NaN</td>\n",
       "      <td>0.0</td>\n",
       "      <td>M</td>\n",
       "      <td>...</td>\n",
       "      <td>2.0</td>\n",
       "      <td>2.0</td>\n",
       "      <td>2.0</td>\n",
       "      <td>2.0</td>\n",
       "      <td>6.60</td>\n",
       "      <td>8.0</td>\n",
       "      <td>648</td>\n",
       "      <td>54</td>\n",
       "      <td>2015</td>\n",
       "      <td>22.0</td>\n",
       "    </tr>\n",
       "    <tr>\n",
       "      <th>13</th>\n",
       "      <td>0</td>\n",
       "      <td>0.0</td>\n",
       "      <td>0.0</td>\n",
       "      <td>0.0</td>\n",
       "      <td>E</td>\n",
       "      <td>2014.0</td>\n",
       "      <td>10.0</td>\n",
       "      <td>NaN</td>\n",
       "      <td>0.0</td>\n",
       "      <td>M</td>\n",
       "      <td>...</td>\n",
       "      <td>NaN</td>\n",
       "      <td>NaN</td>\n",
       "      <td>NaN</td>\n",
       "      <td>NaN</td>\n",
       "      <td>0.00</td>\n",
       "      <td>70.0</td>\n",
       "      <td>648</td>\n",
       "      <td>54</td>\n",
       "      <td>2015</td>\n",
       "      <td>18.0</td>\n",
       "    </tr>\n",
       "    <tr>\n",
       "      <th>14</th>\n",
       "      <td>0</td>\n",
       "      <td>0.0</td>\n",
       "      <td>0.0</td>\n",
       "      <td>0.0</td>\n",
       "      <td>E</td>\n",
       "      <td>2014.0</td>\n",
       "      <td>10.0</td>\n",
       "      <td>S</td>\n",
       "      <td>0.0</td>\n",
       "      <td>M</td>\n",
       "      <td>...</td>\n",
       "      <td>2.0</td>\n",
       "      <td>2.0</td>\n",
       "      <td>2.0</td>\n",
       "      <td>2.0</td>\n",
       "      <td>0.70</td>\n",
       "      <td>12.0</td>\n",
       "      <td>648</td>\n",
       "      <td>54</td>\n",
       "      <td>2015</td>\n",
       "      <td>18.0</td>\n",
       "    </tr>\n",
       "    <tr>\n",
       "      <th>15</th>\n",
       "      <td>0</td>\n",
       "      <td>0.0</td>\n",
       "      <td>0.0</td>\n",
       "      <td>NaN</td>\n",
       "      <td>O</td>\n",
       "      <td>2010.0</td>\n",
       "      <td>NaN</td>\n",
       "      <td>S</td>\n",
       "      <td>NaN</td>\n",
       "      <td>M</td>\n",
       "      <td>...</td>\n",
       "      <td>2.0</td>\n",
       "      <td>3.0</td>\n",
       "      <td>2.0</td>\n",
       "      <td>2.0</td>\n",
       "      <td>06/10/2016</td>\n",
       "      <td>NaN</td>\n",
       "      <td>648</td>\n",
       "      <td>54</td>\n",
       "      <td>2015</td>\n",
       "      <td>23.0</td>\n",
       "    </tr>\n",
       "    <tr>\n",
       "      <th>16</th>\n",
       "      <td>0</td>\n",
       "      <td>0.0</td>\n",
       "      <td>0.0</td>\n",
       "      <td>0.0</td>\n",
       "      <td>NaN</td>\n",
       "      <td>NaN</td>\n",
       "      <td>10.0</td>\n",
       "      <td>S</td>\n",
       "      <td>0.0</td>\n",
       "      <td>M</td>\n",
       "      <td>...</td>\n",
       "      <td>2.0</td>\n",
       "      <td>2.0</td>\n",
       "      <td>2.0</td>\n",
       "      <td>3.0</td>\n",
       "      <td>0.00</td>\n",
       "      <td>70.0</td>\n",
       "      <td>648</td>\n",
       "      <td>54</td>\n",
       "      <td>2015</td>\n",
       "      <td>21.0</td>\n",
       "    </tr>\n",
       "    <tr>\n",
       "      <th>17</th>\n",
       "      <td>0</td>\n",
       "      <td>0.0</td>\n",
       "      <td>0.0</td>\n",
       "      <td>0.0</td>\n",
       "      <td>P</td>\n",
       "      <td>2015.0</td>\n",
       "      <td>10.0</td>\n",
       "      <td>NaN</td>\n",
       "      <td>0.0</td>\n",
       "      <td>M</td>\n",
       "      <td>...</td>\n",
       "      <td>NaN</td>\n",
       "      <td>NaN</td>\n",
       "      <td>NaN</td>\n",
       "      <td>NaN</td>\n",
       "      <td>0.00</td>\n",
       "      <td>70.0</td>\n",
       "      <td>648</td>\n",
       "      <td>54</td>\n",
       "      <td>2015</td>\n",
       "      <td>18.0</td>\n",
       "    </tr>\n",
       "    <tr>\n",
       "      <th>18</th>\n",
       "      <td>0</td>\n",
       "      <td>0.0</td>\n",
       "      <td>0.0</td>\n",
       "      <td>0.0</td>\n",
       "      <td>NaN</td>\n",
       "      <td>NaN</td>\n",
       "      <td>10.0</td>\n",
       "      <td>S</td>\n",
       "      <td>0.0</td>\n",
       "      <td>M</td>\n",
       "      <td>...</td>\n",
       "      <td>2.0</td>\n",
       "      <td>2.0</td>\n",
       "      <td>2.0</td>\n",
       "      <td>3.0</td>\n",
       "      <td>0.00</td>\n",
       "      <td>70.0</td>\n",
       "      <td>648</td>\n",
       "      <td>54</td>\n",
       "      <td>2015</td>\n",
       "      <td>21.0</td>\n",
       "    </tr>\n",
       "    <tr>\n",
       "      <th>19</th>\n",
       "      <td>0</td>\n",
       "      <td>0.0</td>\n",
       "      <td>0.0</td>\n",
       "      <td>0.0</td>\n",
       "      <td>P</td>\n",
       "      <td>2014.0</td>\n",
       "      <td>10.0</td>\n",
       "      <td>NaN</td>\n",
       "      <td>0.0</td>\n",
       "      <td>M</td>\n",
       "      <td>...</td>\n",
       "      <td>2.0</td>\n",
       "      <td>3.0</td>\n",
       "      <td>2.0</td>\n",
       "      <td>3.0</td>\n",
       "      <td>8.80</td>\n",
       "      <td>4.0</td>\n",
       "      <td>648</td>\n",
       "      <td>54</td>\n",
       "      <td>2015</td>\n",
       "      <td>18.0</td>\n",
       "    </tr>\n",
       "    <tr>\n",
       "      <th>20</th>\n",
       "      <td>0</td>\n",
       "      <td>0.0</td>\n",
       "      <td>0.0</td>\n",
       "      <td>NaN</td>\n",
       "      <td>P</td>\n",
       "      <td>2014.0</td>\n",
       "      <td>NaN</td>\n",
       "      <td>S</td>\n",
       "      <td>NaN</td>\n",
       "      <td>M</td>\n",
       "      <td>...</td>\n",
       "      <td>NaN</td>\n",
       "      <td>NaN</td>\n",
       "      <td>NaN</td>\n",
       "      <td>NaN</td>\n",
       "      <td>6.60</td>\n",
       "      <td>10.0</td>\n",
       "      <td>648</td>\n",
       "      <td>54</td>\n",
       "      <td>2015</td>\n",
       "      <td>18.0</td>\n",
       "    </tr>\n",
       "    <tr>\n",
       "      <th>22</th>\n",
       "      <td>0</td>\n",
       "      <td>0.0</td>\n",
       "      <td>0.0</td>\n",
       "      <td>0.0</td>\n",
       "      <td>P</td>\n",
       "      <td>2009.0</td>\n",
       "      <td>10.0</td>\n",
       "      <td>NaN</td>\n",
       "      <td>0.0</td>\n",
       "      <td>F</td>\n",
       "      <td>...</td>\n",
       "      <td>NaN</td>\n",
       "      <td>NaN</td>\n",
       "      <td>NaN</td>\n",
       "      <td>NaN</td>\n",
       "      <td>09/10/2016</td>\n",
       "      <td>6.0</td>\n",
       "      <td>648</td>\n",
       "      <td>54</td>\n",
       "      <td>2015</td>\n",
       "      <td>23.0</td>\n",
       "    </tr>\n",
       "    <tr>\n",
       "      <th>23</th>\n",
       "      <td>0</td>\n",
       "      <td>0.0</td>\n",
       "      <td>0.0</td>\n",
       "      <td>0.0</td>\n",
       "      <td>P</td>\n",
       "      <td>2014.0</td>\n",
       "      <td>10.0</td>\n",
       "      <td>NaN</td>\n",
       "      <td>0.0</td>\n",
       "      <td>M</td>\n",
       "      <td>...</td>\n",
       "      <td>NaN</td>\n",
       "      <td>NaN</td>\n",
       "      <td>NaN</td>\n",
       "      <td>NaN</td>\n",
       "      <td>0.50</td>\n",
       "      <td>70.0</td>\n",
       "      <td>648</td>\n",
       "      <td>54</td>\n",
       "      <td>2015</td>\n",
       "      <td>19.0</td>\n",
       "    </tr>\n",
       "    <tr>\n",
       "      <th>24</th>\n",
       "      <td>0</td>\n",
       "      <td>0.0</td>\n",
       "      <td>0.0</td>\n",
       "      <td>0.0</td>\n",
       "      <td>P</td>\n",
       "      <td>2014.0</td>\n",
       "      <td>10.0</td>\n",
       "      <td>S</td>\n",
       "      <td>0.0</td>\n",
       "      <td>M</td>\n",
       "      <td>...</td>\n",
       "      <td>NaN</td>\n",
       "      <td>NaN</td>\n",
       "      <td>NaN</td>\n",
       "      <td>NaN</td>\n",
       "      <td>6.00</td>\n",
       "      <td>0.0</td>\n",
       "      <td>648</td>\n",
       "      <td>54</td>\n",
       "      <td>2015</td>\n",
       "      <td>18.0</td>\n",
       "    </tr>\n",
       "    <tr>\n",
       "      <th>25</th>\n",
       "      <td>0</td>\n",
       "      <td>0.0</td>\n",
       "      <td>0.0</td>\n",
       "      <td>0.0</td>\n",
       "      <td>P</td>\n",
       "      <td>2014.0</td>\n",
       "      <td>10.0</td>\n",
       "      <td>NaN</td>\n",
       "      <td>0.0</td>\n",
       "      <td>M</td>\n",
       "      <td>...</td>\n",
       "      <td>NaN</td>\n",
       "      <td>NaN</td>\n",
       "      <td>NaN</td>\n",
       "      <td>NaN</td>\n",
       "      <td>0.50</td>\n",
       "      <td>0.0</td>\n",
       "      <td>648</td>\n",
       "      <td>54</td>\n",
       "      <td>2015</td>\n",
       "      <td>19.0</td>\n",
       "    </tr>\n",
       "    <tr>\n",
       "      <th>26</th>\n",
       "      <td>0</td>\n",
       "      <td>0.0</td>\n",
       "      <td>0.0</td>\n",
       "      <td>0.0</td>\n",
       "      <td>P</td>\n",
       "      <td>2014.0</td>\n",
       "      <td>10.0</td>\n",
       "      <td>NaN</td>\n",
       "      <td>0.0</td>\n",
       "      <td>M</td>\n",
       "      <td>...</td>\n",
       "      <td>NaN</td>\n",
       "      <td>NaN</td>\n",
       "      <td>NaN</td>\n",
       "      <td>NaN</td>\n",
       "      <td>7.20</td>\n",
       "      <td>0.0</td>\n",
       "      <td>648</td>\n",
       "      <td>54</td>\n",
       "      <td>2015</td>\n",
       "      <td>18.0</td>\n",
       "    </tr>\n",
       "    <tr>\n",
       "      <th>27</th>\n",
       "      <td>0</td>\n",
       "      <td>0.0</td>\n",
       "      <td>0.0</td>\n",
       "      <td>0.0</td>\n",
       "      <td>E</td>\n",
       "      <td>2013.0</td>\n",
       "      <td>10.0</td>\n",
       "      <td>NaN</td>\n",
       "      <td>0.0</td>\n",
       "      <td>M</td>\n",
       "      <td>...</td>\n",
       "      <td>NaN</td>\n",
       "      <td>NaN</td>\n",
       "      <td>NaN</td>\n",
       "      <td>NaN</td>\n",
       "      <td>6.00</td>\n",
       "      <td>0.0</td>\n",
       "      <td>648</td>\n",
       "      <td>54</td>\n",
       "      <td>2015</td>\n",
       "      <td>18.0</td>\n",
       "    </tr>\n",
       "    <tr>\n",
       "      <th>28</th>\n",
       "      <td>0</td>\n",
       "      <td>0.0</td>\n",
       "      <td>0.0</td>\n",
       "      <td>0.0</td>\n",
       "      <td>P</td>\n",
       "      <td>2014.0</td>\n",
       "      <td>10.0</td>\n",
       "      <td>NaN</td>\n",
       "      <td>0.0</td>\n",
       "      <td>F</td>\n",
       "      <td>...</td>\n",
       "      <td>NaN</td>\n",
       "      <td>NaN</td>\n",
       "      <td>NaN</td>\n",
       "      <td>NaN</td>\n",
       "      <td>6.00</td>\n",
       "      <td>0.0</td>\n",
       "      <td>648</td>\n",
       "      <td>54</td>\n",
       "      <td>2015</td>\n",
       "      <td>18.0</td>\n",
       "    </tr>\n",
       "    <tr>\n",
       "      <th>29</th>\n",
       "      <td>0</td>\n",
       "      <td>0.0</td>\n",
       "      <td>0.0</td>\n",
       "      <td>0.0</td>\n",
       "      <td>P</td>\n",
       "      <td>2014.0</td>\n",
       "      <td>10.0</td>\n",
       "      <td>NaN</td>\n",
       "      <td>0.0</td>\n",
       "      <td>F</td>\n",
       "      <td>...</td>\n",
       "      <td>NaN</td>\n",
       "      <td>NaN</td>\n",
       "      <td>NaN</td>\n",
       "      <td>NaN</td>\n",
       "      <td>6.00</td>\n",
       "      <td>0.0</td>\n",
       "      <td>648</td>\n",
       "      <td>54</td>\n",
       "      <td>2015</td>\n",
       "      <td>18.0</td>\n",
       "    </tr>\n",
       "    <tr>\n",
       "      <th>31</th>\n",
       "      <td>0</td>\n",
       "      <td>0.0</td>\n",
       "      <td>0.0</td>\n",
       "      <td>0.0</td>\n",
       "      <td>P</td>\n",
       "      <td>2014.0</td>\n",
       "      <td>10.0</td>\n",
       "      <td>NaN</td>\n",
       "      <td>0.0</td>\n",
       "      <td>M</td>\n",
       "      <td>...</td>\n",
       "      <td>NaN</td>\n",
       "      <td>NaN</td>\n",
       "      <td>NaN</td>\n",
       "      <td>NaN</td>\n",
       "      <td>6.00</td>\n",
       "      <td>0.0</td>\n",
       "      <td>648</td>\n",
       "      <td>54</td>\n",
       "      <td>2015</td>\n",
       "      <td>18.0</td>\n",
       "    </tr>\n",
       "    <tr>\n",
       "      <th>...</th>\n",
       "      <td>...</td>\n",
       "      <td>...</td>\n",
       "      <td>...</td>\n",
       "      <td>...</td>\n",
       "      <td>...</td>\n",
       "      <td>...</td>\n",
       "      <td>...</td>\n",
       "      <td>...</td>\n",
       "      <td>...</td>\n",
       "      <td>...</td>\n",
       "      <td>...</td>\n",
       "      <td>...</td>\n",
       "      <td>...</td>\n",
       "      <td>...</td>\n",
       "      <td>...</td>\n",
       "      <td>...</td>\n",
       "      <td>...</td>\n",
       "      <td>...</td>\n",
       "      <td>...</td>\n",
       "      <td>...</td>\n",
       "      <td>...</td>\n",
       "    </tr>\n",
       "    <tr>\n",
       "      <th>20731</th>\n",
       "      <td>0</td>\n",
       "      <td>0.0</td>\n",
       "      <td>0.0</td>\n",
       "      <td>0.0</td>\n",
       "      <td>E</td>\n",
       "      <td>2010.0</td>\n",
       "      <td>10.0</td>\n",
       "      <td>S</td>\n",
       "      <td>NaN</td>\n",
       "      <td>M</td>\n",
       "      <td>...</td>\n",
       "      <td>NaN</td>\n",
       "      <td>NaN</td>\n",
       "      <td>NaN</td>\n",
       "      <td>NaN</td>\n",
       "      <td>10.00</td>\n",
       "      <td>0.0</td>\n",
       "      <td>22651</td>\n",
       "      <td>54</td>\n",
       "      <td>2012</td>\n",
       "      <td>21.0</td>\n",
       "    </tr>\n",
       "    <tr>\n",
       "      <th>20732</th>\n",
       "      <td>0</td>\n",
       "      <td>0.0</td>\n",
       "      <td>0.0</td>\n",
       "      <td>0.0</td>\n",
       "      <td>P</td>\n",
       "      <td>2005.0</td>\n",
       "      <td>10.0</td>\n",
       "      <td>S</td>\n",
       "      <td>NaN</td>\n",
       "      <td>M</td>\n",
       "      <td>...</td>\n",
       "      <td>NaN</td>\n",
       "      <td>NaN</td>\n",
       "      <td>NaN</td>\n",
       "      <td>NaN</td>\n",
       "      <td>07/10/2016</td>\n",
       "      <td>8.0</td>\n",
       "      <td>23775</td>\n",
       "      <td>54</td>\n",
       "      <td>2012</td>\n",
       "      <td>24.0</td>\n",
       "    </tr>\n",
       "    <tr>\n",
       "      <th>20733</th>\n",
       "      <td>0</td>\n",
       "      <td>0.0</td>\n",
       "      <td>0.0</td>\n",
       "      <td>0.0</td>\n",
       "      <td>E</td>\n",
       "      <td>2009.0</td>\n",
       "      <td>10.0</td>\n",
       "      <td>S</td>\n",
       "      <td>NaN</td>\n",
       "      <td>M</td>\n",
       "      <td>...</td>\n",
       "      <td>1.0</td>\n",
       "      <td>1.0</td>\n",
       "      <td>2.0</td>\n",
       "      <td>2.0</td>\n",
       "      <td>9.40</td>\n",
       "      <td>6.0</td>\n",
       "      <td>23775</td>\n",
       "      <td>54</td>\n",
       "      <td>2012</td>\n",
       "      <td>21.0</td>\n",
       "    </tr>\n",
       "    <tr>\n",
       "      <th>20734</th>\n",
       "      <td>0</td>\n",
       "      <td>0.0</td>\n",
       "      <td>0.0</td>\n",
       "      <td>NaN</td>\n",
       "      <td>E</td>\n",
       "      <td>2009.0</td>\n",
       "      <td>NaN</td>\n",
       "      <td>S</td>\n",
       "      <td>NaN</td>\n",
       "      <td>M</td>\n",
       "      <td>...</td>\n",
       "      <td>3.0</td>\n",
       "      <td>3.0</td>\n",
       "      <td>3.0</td>\n",
       "      <td>3.0</td>\n",
       "      <td>10.00</td>\n",
       "      <td>NaN</td>\n",
       "      <td>23775</td>\n",
       "      <td>54</td>\n",
       "      <td>2011</td>\n",
       "      <td>19.0</td>\n",
       "    </tr>\n",
       "    <tr>\n",
       "      <th>20735</th>\n",
       "      <td>0</td>\n",
       "      <td>0.0</td>\n",
       "      <td>0.0</td>\n",
       "      <td>0.0</td>\n",
       "      <td>P</td>\n",
       "      <td>2010.0</td>\n",
       "      <td>10.0</td>\n",
       "      <td>S</td>\n",
       "      <td>0.0</td>\n",
       "      <td>M</td>\n",
       "      <td>...</td>\n",
       "      <td>NaN</td>\n",
       "      <td>NaN</td>\n",
       "      <td>NaN</td>\n",
       "      <td>NaN</td>\n",
       "      <td>7.80</td>\n",
       "      <td>NaN</td>\n",
       "      <td>23775</td>\n",
       "      <td>54</td>\n",
       "      <td>2014</td>\n",
       "      <td>22.0</td>\n",
       "    </tr>\n",
       "    <tr>\n",
       "      <th>20740</th>\n",
       "      <td>0</td>\n",
       "      <td>NaN</td>\n",
       "      <td>NaN</td>\n",
       "      <td>NaN</td>\n",
       "      <td>P</td>\n",
       "      <td>1994.0</td>\n",
       "      <td>NaN</td>\n",
       "      <td>S</td>\n",
       "      <td>NaN</td>\n",
       "      <td>M</td>\n",
       "      <td>...</td>\n",
       "      <td>NaN</td>\n",
       "      <td>NaN</td>\n",
       "      <td>NaN</td>\n",
       "      <td>NaN</td>\n",
       "      <td>7.20</td>\n",
       "      <td>NaN</td>\n",
       "      <td>23775</td>\n",
       "      <td>54</td>\n",
       "      <td>2016</td>\n",
       "      <td>39.0</td>\n",
       "    </tr>\n",
       "    <tr>\n",
       "      <th>20743</th>\n",
       "      <td>0</td>\n",
       "      <td>NaN</td>\n",
       "      <td>NaN</td>\n",
       "      <td>NaN</td>\n",
       "      <td>E</td>\n",
       "      <td>2001.0</td>\n",
       "      <td>10.0</td>\n",
       "      <td>S</td>\n",
       "      <td>0.0</td>\n",
       "      <td>M</td>\n",
       "      <td>...</td>\n",
       "      <td>NaN</td>\n",
       "      <td>NaN</td>\n",
       "      <td>NaN</td>\n",
       "      <td>NaN</td>\n",
       "      <td>6.80</td>\n",
       "      <td>NaN</td>\n",
       "      <td>23775</td>\n",
       "      <td>54</td>\n",
       "      <td>2015</td>\n",
       "      <td>36.0</td>\n",
       "    </tr>\n",
       "    <tr>\n",
       "      <th>20744</th>\n",
       "      <td>0</td>\n",
       "      <td>0.0</td>\n",
       "      <td>0.0</td>\n",
       "      <td>0.0</td>\n",
       "      <td>P</td>\n",
       "      <td>2009.0</td>\n",
       "      <td>10.0</td>\n",
       "      <td>S</td>\n",
       "      <td>0.0</td>\n",
       "      <td>M</td>\n",
       "      <td>...</td>\n",
       "      <td>3.0</td>\n",
       "      <td>3.0</td>\n",
       "      <td>3.0</td>\n",
       "      <td>3.0</td>\n",
       "      <td>6.70</td>\n",
       "      <td>NaN</td>\n",
       "      <td>23775</td>\n",
       "      <td>54</td>\n",
       "      <td>2010</td>\n",
       "      <td>18.0</td>\n",
       "    </tr>\n",
       "    <tr>\n",
       "      <th>20745</th>\n",
       "      <td>0</td>\n",
       "      <td>0.0</td>\n",
       "      <td>0.0</td>\n",
       "      <td>0.0</td>\n",
       "      <td>P</td>\n",
       "      <td>2009.0</td>\n",
       "      <td>10.0</td>\n",
       "      <td>S</td>\n",
       "      <td>0.0</td>\n",
       "      <td>M</td>\n",
       "      <td>...</td>\n",
       "      <td>1.0</td>\n",
       "      <td>3.0</td>\n",
       "      <td>1.0</td>\n",
       "      <td>3.0</td>\n",
       "      <td>6.70</td>\n",
       "      <td>NaN</td>\n",
       "      <td>23775</td>\n",
       "      <td>54</td>\n",
       "      <td>2010</td>\n",
       "      <td>18.0</td>\n",
       "    </tr>\n",
       "    <tr>\n",
       "      <th>20746</th>\n",
       "      <td>0</td>\n",
       "      <td>0.0</td>\n",
       "      <td>0.0</td>\n",
       "      <td>0.0</td>\n",
       "      <td>E</td>\n",
       "      <td>2005.0</td>\n",
       "      <td>10.0</td>\n",
       "      <td>S</td>\n",
       "      <td>0.0</td>\n",
       "      <td>M</td>\n",
       "      <td>...</td>\n",
       "      <td>NaN</td>\n",
       "      <td>NaN</td>\n",
       "      <td>NaN</td>\n",
       "      <td>NaN</td>\n",
       "      <td>8.50</td>\n",
       "      <td>0.0</td>\n",
       "      <td>24371</td>\n",
       "      <td>27</td>\n",
       "      <td>2010</td>\n",
       "      <td>22.0</td>\n",
       "    </tr>\n",
       "    <tr>\n",
       "      <th>20747</th>\n",
       "      <td>0</td>\n",
       "      <td>0.0</td>\n",
       "      <td>0.0</td>\n",
       "      <td>0.0</td>\n",
       "      <td>E</td>\n",
       "      <td>2008.0</td>\n",
       "      <td>3.0</td>\n",
       "      <td>C</td>\n",
       "      <td>0.0</td>\n",
       "      <td>M</td>\n",
       "      <td>...</td>\n",
       "      <td>3.0</td>\n",
       "      <td>3.0</td>\n",
       "      <td>3.0</td>\n",
       "      <td>3.0</td>\n",
       "      <td>8.50</td>\n",
       "      <td>0.0</td>\n",
       "      <td>24371</td>\n",
       "      <td>27</td>\n",
       "      <td>2009</td>\n",
       "      <td>19.0</td>\n",
       "    </tr>\n",
       "    <tr>\n",
       "      <th>20748</th>\n",
       "      <td>0</td>\n",
       "      <td>0.0</td>\n",
       "      <td>0.0</td>\n",
       "      <td>0.0</td>\n",
       "      <td>F</td>\n",
       "      <td>2008.0</td>\n",
       "      <td>0.0</td>\n",
       "      <td>S</td>\n",
       "      <td>0.0</td>\n",
       "      <td>M</td>\n",
       "      <td>...</td>\n",
       "      <td>2.0</td>\n",
       "      <td>3.0</td>\n",
       "      <td>2.0</td>\n",
       "      <td>3.0</td>\n",
       "      <td>9.40</td>\n",
       "      <td>0.0</td>\n",
       "      <td>24371</td>\n",
       "      <td>27</td>\n",
       "      <td>2009</td>\n",
       "      <td>18.0</td>\n",
       "    </tr>\n",
       "    <tr>\n",
       "      <th>20749</th>\n",
       "      <td>0</td>\n",
       "      <td>NaN</td>\n",
       "      <td>NaN</td>\n",
       "      <td>NaN</td>\n",
       "      <td>F</td>\n",
       "      <td>2007.0</td>\n",
       "      <td>NaN</td>\n",
       "      <td>S</td>\n",
       "      <td>NaN</td>\n",
       "      <td>M</td>\n",
       "      <td>...</td>\n",
       "      <td>NaN</td>\n",
       "      <td>NaN</td>\n",
       "      <td>NaN</td>\n",
       "      <td>NaN</td>\n",
       "      <td>0.00</td>\n",
       "      <td>0.0</td>\n",
       "      <td>24371</td>\n",
       "      <td>27</td>\n",
       "      <td>2009</td>\n",
       "      <td>20.0</td>\n",
       "    </tr>\n",
       "    <tr>\n",
       "      <th>20750</th>\n",
       "      <td>0</td>\n",
       "      <td>NaN</td>\n",
       "      <td>NaN</td>\n",
       "      <td>NaN</td>\n",
       "      <td>F</td>\n",
       "      <td>2013.0</td>\n",
       "      <td>10.0</td>\n",
       "      <td>S</td>\n",
       "      <td>NaN</td>\n",
       "      <td>F</td>\n",
       "      <td>...</td>\n",
       "      <td>1.0</td>\n",
       "      <td>1.0</td>\n",
       "      <td>1.0</td>\n",
       "      <td>1.0</td>\n",
       "      <td>8.70</td>\n",
       "      <td>0.0</td>\n",
       "      <td>24371</td>\n",
       "      <td>27</td>\n",
       "      <td>2013</td>\n",
       "      <td>19.0</td>\n",
       "    </tr>\n",
       "    <tr>\n",
       "      <th>20752</th>\n",
       "      <td>0</td>\n",
       "      <td>0.0</td>\n",
       "      <td>0.0</td>\n",
       "      <td>3.0</td>\n",
       "      <td>P</td>\n",
       "      <td>NaN</td>\n",
       "      <td>NaN</td>\n",
       "      <td>S</td>\n",
       "      <td>0.0</td>\n",
       "      <td>M</td>\n",
       "      <td>...</td>\n",
       "      <td>2.0</td>\n",
       "      <td>2.0</td>\n",
       "      <td>2.0</td>\n",
       "      <td>2.0</td>\n",
       "      <td>6.50</td>\n",
       "      <td>0.0</td>\n",
       "      <td>24371</td>\n",
       "      <td>27</td>\n",
       "      <td>2008</td>\n",
       "      <td>27.0</td>\n",
       "    </tr>\n",
       "    <tr>\n",
       "      <th>20755</th>\n",
       "      <td>0</td>\n",
       "      <td>NaN</td>\n",
       "      <td>NaN</td>\n",
       "      <td>NaN</td>\n",
       "      <td>F</td>\n",
       "      <td>2010.0</td>\n",
       "      <td>0.0</td>\n",
       "      <td>S</td>\n",
       "      <td>0.0</td>\n",
       "      <td>M</td>\n",
       "      <td>...</td>\n",
       "      <td>1.0</td>\n",
       "      <td>2.0</td>\n",
       "      <td>2.0</td>\n",
       "      <td>2.0</td>\n",
       "      <td>8.70</td>\n",
       "      <td>0.0</td>\n",
       "      <td>24371</td>\n",
       "      <td>27</td>\n",
       "      <td>2011</td>\n",
       "      <td>20.0</td>\n",
       "    </tr>\n",
       "    <tr>\n",
       "      <th>20756</th>\n",
       "      <td>0</td>\n",
       "      <td>NaN</td>\n",
       "      <td>NaN</td>\n",
       "      <td>NaN</td>\n",
       "      <td>P</td>\n",
       "      <td>2006.0</td>\n",
       "      <td>NaN</td>\n",
       "      <td>S</td>\n",
       "      <td>NaN</td>\n",
       "      <td>M</td>\n",
       "      <td>...</td>\n",
       "      <td>3.0</td>\n",
       "      <td>3.0</td>\n",
       "      <td>3.0</td>\n",
       "      <td>3.0</td>\n",
       "      <td>6.00</td>\n",
       "      <td>0.0</td>\n",
       "      <td>24371</td>\n",
       "      <td>27</td>\n",
       "      <td>2008</td>\n",
       "      <td>19.0</td>\n",
       "    </tr>\n",
       "    <tr>\n",
       "      <th>20757</th>\n",
       "      <td>0</td>\n",
       "      <td>0.0</td>\n",
       "      <td>0.0</td>\n",
       "      <td>NaN</td>\n",
       "      <td>E</td>\n",
       "      <td>2001.0</td>\n",
       "      <td>NaN</td>\n",
       "      <td>S</td>\n",
       "      <td>NaN</td>\n",
       "      <td>M</td>\n",
       "      <td>...</td>\n",
       "      <td>NaN</td>\n",
       "      <td>NaN</td>\n",
       "      <td>NaN</td>\n",
       "      <td>NaN</td>\n",
       "      <td>6.70</td>\n",
       "      <td>0.0</td>\n",
       "      <td>24371</td>\n",
       "      <td>27</td>\n",
       "      <td>2011</td>\n",
       "      <td>28.0</td>\n",
       "    </tr>\n",
       "    <tr>\n",
       "      <th>20758</th>\n",
       "      <td>0</td>\n",
       "      <td>0.0</td>\n",
       "      <td>0.0</td>\n",
       "      <td>0.0</td>\n",
       "      <td>P</td>\n",
       "      <td>2009.0</td>\n",
       "      <td>10.0</td>\n",
       "      <td>NaN</td>\n",
       "      <td>0.0</td>\n",
       "      <td>M</td>\n",
       "      <td>...</td>\n",
       "      <td>3.0</td>\n",
       "      <td>3.0</td>\n",
       "      <td>2.0</td>\n",
       "      <td>3.0</td>\n",
       "      <td>6.00</td>\n",
       "      <td>0.0</td>\n",
       "      <td>24371</td>\n",
       "      <td>27</td>\n",
       "      <td>2010</td>\n",
       "      <td>18.0</td>\n",
       "    </tr>\n",
       "    <tr>\n",
       "      <th>20759</th>\n",
       "      <td>0</td>\n",
       "      <td>0.0</td>\n",
       "      <td>0.0</td>\n",
       "      <td>0.0</td>\n",
       "      <td>P</td>\n",
       "      <td>2009.0</td>\n",
       "      <td>10.0</td>\n",
       "      <td>NaN</td>\n",
       "      <td>0.0</td>\n",
       "      <td>M</td>\n",
       "      <td>...</td>\n",
       "      <td>1.0</td>\n",
       "      <td>3.0</td>\n",
       "      <td>1.0</td>\n",
       "      <td>3.0</td>\n",
       "      <td>6.00</td>\n",
       "      <td>0.0</td>\n",
       "      <td>24371</td>\n",
       "      <td>27</td>\n",
       "      <td>2010</td>\n",
       "      <td>18.0</td>\n",
       "    </tr>\n",
       "    <tr>\n",
       "      <th>20760</th>\n",
       "      <td>0</td>\n",
       "      <td>0.0</td>\n",
       "      <td>0.0</td>\n",
       "      <td>2.0</td>\n",
       "      <td>E</td>\n",
       "      <td>2009.0</td>\n",
       "      <td>0.0</td>\n",
       "      <td>S</td>\n",
       "      <td>0.0</td>\n",
       "      <td>M</td>\n",
       "      <td>...</td>\n",
       "      <td>3.0</td>\n",
       "      <td>3.0</td>\n",
       "      <td>3.0</td>\n",
       "      <td>3.0</td>\n",
       "      <td>9.60</td>\n",
       "      <td>0.0</td>\n",
       "      <td>24371</td>\n",
       "      <td>27</td>\n",
       "      <td>2010</td>\n",
       "      <td>18.0</td>\n",
       "    </tr>\n",
       "    <tr>\n",
       "      <th>20761</th>\n",
       "      <td>0</td>\n",
       "      <td>0.0</td>\n",
       "      <td>0.0</td>\n",
       "      <td>0.0</td>\n",
       "      <td>P</td>\n",
       "      <td>2009.0</td>\n",
       "      <td>10.0</td>\n",
       "      <td>NaN</td>\n",
       "      <td>0.0</td>\n",
       "      <td>M</td>\n",
       "      <td>...</td>\n",
       "      <td>NaN</td>\n",
       "      <td>NaN</td>\n",
       "      <td>NaN</td>\n",
       "      <td>NaN</td>\n",
       "      <td>8.20</td>\n",
       "      <td>0.0</td>\n",
       "      <td>24371</td>\n",
       "      <td>27</td>\n",
       "      <td>2010</td>\n",
       "      <td>17.0</td>\n",
       "    </tr>\n",
       "    <tr>\n",
       "      <th>20762</th>\n",
       "      <td>0</td>\n",
       "      <td>0.0</td>\n",
       "      <td>0.0</td>\n",
       "      <td>3.0</td>\n",
       "      <td>E</td>\n",
       "      <td>2007.0</td>\n",
       "      <td>2.0</td>\n",
       "      <td>C</td>\n",
       "      <td>0.0</td>\n",
       "      <td>M</td>\n",
       "      <td>...</td>\n",
       "      <td>NaN</td>\n",
       "      <td>NaN</td>\n",
       "      <td>NaN</td>\n",
       "      <td>NaN</td>\n",
       "      <td>2.70</td>\n",
       "      <td>0.0</td>\n",
       "      <td>24371</td>\n",
       "      <td>27</td>\n",
       "      <td>2010</td>\n",
       "      <td>21.0</td>\n",
       "    </tr>\n",
       "    <tr>\n",
       "      <th>20763</th>\n",
       "      <td>0</td>\n",
       "      <td>0.0</td>\n",
       "      <td>0.0</td>\n",
       "      <td>0.0</td>\n",
       "      <td>P</td>\n",
       "      <td>2010.0</td>\n",
       "      <td>10.0</td>\n",
       "      <td>S</td>\n",
       "      <td>0.0</td>\n",
       "      <td>M</td>\n",
       "      <td>...</td>\n",
       "      <td>NaN</td>\n",
       "      <td>NaN</td>\n",
       "      <td>NaN</td>\n",
       "      <td>NaN</td>\n",
       "      <td>8.20</td>\n",
       "      <td>0.0</td>\n",
       "      <td>24371</td>\n",
       "      <td>27</td>\n",
       "      <td>2014</td>\n",
       "      <td>22.0</td>\n",
       "    </tr>\n",
       "    <tr>\n",
       "      <th>20764</th>\n",
       "      <td>0</td>\n",
       "      <td>0.0</td>\n",
       "      <td>0.0</td>\n",
       "      <td>0.0</td>\n",
       "      <td>E</td>\n",
       "      <td>2009.0</td>\n",
       "      <td>0.0</td>\n",
       "      <td>S</td>\n",
       "      <td>0.0</td>\n",
       "      <td>M</td>\n",
       "      <td>...</td>\n",
       "      <td>NaN</td>\n",
       "      <td>NaN</td>\n",
       "      <td>NaN</td>\n",
       "      <td>NaN</td>\n",
       "      <td>6.00</td>\n",
       "      <td>0.0</td>\n",
       "      <td>24371</td>\n",
       "      <td>27</td>\n",
       "      <td>2011</td>\n",
       "      <td>19.0</td>\n",
       "    </tr>\n",
       "    <tr>\n",
       "      <th>20765</th>\n",
       "      <td>0</td>\n",
       "      <td>0.0</td>\n",
       "      <td>0.0</td>\n",
       "      <td>NaN</td>\n",
       "      <td>P</td>\n",
       "      <td>2005.0</td>\n",
       "      <td>NaN</td>\n",
       "      <td>S</td>\n",
       "      <td>NaN</td>\n",
       "      <td>M</td>\n",
       "      <td>...</td>\n",
       "      <td>1.0</td>\n",
       "      <td>1.0</td>\n",
       "      <td>1.0</td>\n",
       "      <td>2.0</td>\n",
       "      <td>0.00</td>\n",
       "      <td>0.0</td>\n",
       "      <td>24371</td>\n",
       "      <td>27</td>\n",
       "      <td>2012</td>\n",
       "      <td>25.0</td>\n",
       "    </tr>\n",
       "    <tr>\n",
       "      <th>20766</th>\n",
       "      <td>0</td>\n",
       "      <td>0.0</td>\n",
       "      <td>0.0</td>\n",
       "      <td>0.0</td>\n",
       "      <td>E</td>\n",
       "      <td>2010.0</td>\n",
       "      <td>10.0</td>\n",
       "      <td>S</td>\n",
       "      <td>NaN</td>\n",
       "      <td>M</td>\n",
       "      <td>...</td>\n",
       "      <td>NaN</td>\n",
       "      <td>NaN</td>\n",
       "      <td>NaN</td>\n",
       "      <td>NaN</td>\n",
       "      <td>8.60</td>\n",
       "      <td>0.0</td>\n",
       "      <td>24371</td>\n",
       "      <td>27</td>\n",
       "      <td>2012</td>\n",
       "      <td>21.0</td>\n",
       "    </tr>\n",
       "    <tr>\n",
       "      <th>20767</th>\n",
       "      <td>0</td>\n",
       "      <td>0.0</td>\n",
       "      <td>0.0</td>\n",
       "      <td>0.0</td>\n",
       "      <td>P</td>\n",
       "      <td>2011.0</td>\n",
       "      <td>0.0</td>\n",
       "      <td>S</td>\n",
       "      <td>0.0</td>\n",
       "      <td>F</td>\n",
       "      <td>...</td>\n",
       "      <td>NaN</td>\n",
       "      <td>NaN</td>\n",
       "      <td>NaN</td>\n",
       "      <td>NaN</td>\n",
       "      <td>7.90</td>\n",
       "      <td>0.0</td>\n",
       "      <td>24371</td>\n",
       "      <td>27</td>\n",
       "      <td>2012</td>\n",
       "      <td>18.0</td>\n",
       "    </tr>\n",
       "    <tr>\n",
       "      <th>20768</th>\n",
       "      <td>0</td>\n",
       "      <td>0.0</td>\n",
       "      <td>0.0</td>\n",
       "      <td>0.0</td>\n",
       "      <td>P</td>\n",
       "      <td>2012.0</td>\n",
       "      <td>0.0</td>\n",
       "      <td>S</td>\n",
       "      <td>NaN</td>\n",
       "      <td>F</td>\n",
       "      <td>...</td>\n",
       "      <td>NaN</td>\n",
       "      <td>NaN</td>\n",
       "      <td>NaN</td>\n",
       "      <td>NaN</td>\n",
       "      <td>8.60</td>\n",
       "      <td>0.0</td>\n",
       "      <td>24371</td>\n",
       "      <td>27</td>\n",
       "      <td>2012</td>\n",
       "      <td>17.0</td>\n",
       "    </tr>\n",
       "    <tr>\n",
       "      <th>20769</th>\n",
       "      <td>0</td>\n",
       "      <td>0.0</td>\n",
       "      <td>0.0</td>\n",
       "      <td>NaN</td>\n",
       "      <td>E</td>\n",
       "      <td>2007.0</td>\n",
       "      <td>NaN</td>\n",
       "      <td>S</td>\n",
       "      <td>NaN</td>\n",
       "      <td>F</td>\n",
       "      <td>...</td>\n",
       "      <td>NaN</td>\n",
       "      <td>NaN</td>\n",
       "      <td>NaN</td>\n",
       "      <td>NaN</td>\n",
       "      <td>8.60</td>\n",
       "      <td>0.0</td>\n",
       "      <td>24371</td>\n",
       "      <td>27</td>\n",
       "      <td>2012</td>\n",
       "      <td>22.0</td>\n",
       "    </tr>\n",
       "  </tbody>\n",
       "</table>\n",
       "<p>9637 rows × 24 columns</p>\n",
       "</div>"
      ],
      "text/plain": [
       "       SIT_MATRICULA  PAI_FALECIDO  MAE_FALECIDO  RENDA_FAMILIAR  \\\n",
       "0                  0           0.0           0.0             NaN   \n",
       "1                  0           0.0           0.0             0.0   \n",
       "2                  0           0.0           0.0             0.0   \n",
       "3                  0           0.0           0.0             0.0   \n",
       "4                  0           0.0           0.0             0.0   \n",
       "5                  0           0.0           0.0             0.0   \n",
       "6                  0           0.0           0.0             0.0   \n",
       "7                  0           0.0           0.0             0.0   \n",
       "8                  0           0.0           0.0             0.0   \n",
       "9                  0           0.0           0.0             0.0   \n",
       "10                 0           0.0           0.0             0.0   \n",
       "11                 0           0.0           0.0             0.0   \n",
       "12                 0           0.0           0.0             0.0   \n",
       "13                 0           0.0           0.0             0.0   \n",
       "14                 0           0.0           0.0             0.0   \n",
       "15                 0           0.0           0.0             NaN   \n",
       "16                 0           0.0           0.0             0.0   \n",
       "17                 0           0.0           0.0             0.0   \n",
       "18                 0           0.0           0.0             0.0   \n",
       "19                 0           0.0           0.0             0.0   \n",
       "20                 0           0.0           0.0             NaN   \n",
       "22                 0           0.0           0.0             0.0   \n",
       "23                 0           0.0           0.0             0.0   \n",
       "24                 0           0.0           0.0             0.0   \n",
       "25                 0           0.0           0.0             0.0   \n",
       "26                 0           0.0           0.0             0.0   \n",
       "27                 0           0.0           0.0             0.0   \n",
       "28                 0           0.0           0.0             0.0   \n",
       "29                 0           0.0           0.0             0.0   \n",
       "31                 0           0.0           0.0             0.0   \n",
       "...              ...           ...           ...             ...   \n",
       "20731              0           0.0           0.0             0.0   \n",
       "20732              0           0.0           0.0             0.0   \n",
       "20733              0           0.0           0.0             0.0   \n",
       "20734              0           0.0           0.0             NaN   \n",
       "20735              0           0.0           0.0             0.0   \n",
       "20740              0           NaN           NaN             NaN   \n",
       "20743              0           NaN           NaN             NaN   \n",
       "20744              0           0.0           0.0             0.0   \n",
       "20745              0           0.0           0.0             0.0   \n",
       "20746              0           0.0           0.0             0.0   \n",
       "20747              0           0.0           0.0             0.0   \n",
       "20748              0           0.0           0.0             0.0   \n",
       "20749              0           NaN           NaN             NaN   \n",
       "20750              0           NaN           NaN             NaN   \n",
       "20752              0           0.0           0.0             3.0   \n",
       "20755              0           NaN           NaN             NaN   \n",
       "20756              0           NaN           NaN             NaN   \n",
       "20757              0           0.0           0.0             NaN   \n",
       "20758              0           0.0           0.0             0.0   \n",
       "20759              0           0.0           0.0             0.0   \n",
       "20760              0           0.0           0.0             2.0   \n",
       "20761              0           0.0           0.0             0.0   \n",
       "20762              0           0.0           0.0             3.0   \n",
       "20763              0           0.0           0.0             0.0   \n",
       "20764              0           0.0           0.0             0.0   \n",
       "20765              0           0.0           0.0             NaN   \n",
       "20766              0           0.0           0.0             0.0   \n",
       "20767              0           0.0           0.0             0.0   \n",
       "20768              0           0.0           0.0             0.0   \n",
       "20769              0           0.0           0.0             NaN   \n",
       "\n",
       "      TIPO_ESCOLA_ORIGEM  ANO_CONCLUSAO_2_GRAU  RENDA_PER_CAPITA  \\\n",
       "0                      E                2014.0               NaN   \n",
       "1                      P                2011.0               0.0   \n",
       "2                      P                2011.0               0.0   \n",
       "3                      P                2014.0               0.0   \n",
       "4                    NaN                   NaN               0.0   \n",
       "5                      E                2014.0               0.0   \n",
       "6                      E                2012.0              10.0   \n",
       "7                    NaN                2014.0              10.0   \n",
       "8                    NaN                   NaN              10.0   \n",
       "9                      E                2013.0              10.0   \n",
       "10                     E                2014.0               NaN   \n",
       "11                     E                2014.0              10.0   \n",
       "12                     P                2011.0              10.0   \n",
       "13                     E                2014.0              10.0   \n",
       "14                     E                2014.0              10.0   \n",
       "15                     O                2010.0               NaN   \n",
       "16                   NaN                   NaN              10.0   \n",
       "17                     P                2015.0              10.0   \n",
       "18                   NaN                   NaN              10.0   \n",
       "19                     P                2014.0              10.0   \n",
       "20                     P                2014.0               NaN   \n",
       "22                     P                2009.0              10.0   \n",
       "23                     P                2014.0              10.0   \n",
       "24                     P                2014.0              10.0   \n",
       "25                     P                2014.0              10.0   \n",
       "26                     P                2014.0              10.0   \n",
       "27                     E                2013.0              10.0   \n",
       "28                     P                2014.0              10.0   \n",
       "29                     P                2014.0              10.0   \n",
       "31                     P                2014.0              10.0   \n",
       "...                  ...                   ...               ...   \n",
       "20731                  E                2010.0              10.0   \n",
       "20732                  P                2005.0              10.0   \n",
       "20733                  E                2009.0              10.0   \n",
       "20734                  E                2009.0               NaN   \n",
       "20735                  P                2010.0              10.0   \n",
       "20740                  P                1994.0               NaN   \n",
       "20743                  E                2001.0              10.0   \n",
       "20744                  P                2009.0              10.0   \n",
       "20745                  P                2009.0              10.0   \n",
       "20746                  E                2005.0              10.0   \n",
       "20747                  E                2008.0               3.0   \n",
       "20748                  F                2008.0               0.0   \n",
       "20749                  F                2007.0               NaN   \n",
       "20750                  F                2013.0              10.0   \n",
       "20752                  P                   NaN               NaN   \n",
       "20755                  F                2010.0               0.0   \n",
       "20756                  P                2006.0               NaN   \n",
       "20757                  E                2001.0               NaN   \n",
       "20758                  P                2009.0              10.0   \n",
       "20759                  P                2009.0              10.0   \n",
       "20760                  E                2009.0               0.0   \n",
       "20761                  P                2009.0              10.0   \n",
       "20762                  E                2007.0               2.0   \n",
       "20763                  P                2010.0              10.0   \n",
       "20764                  E                2009.0               0.0   \n",
       "20765                  P                2005.0               NaN   \n",
       "20766                  E                2010.0              10.0   \n",
       "20767                  P                2011.0               0.0   \n",
       "20768                  P                2012.0               0.0   \n",
       "20769                  E                2007.0               NaN   \n",
       "\n",
       "      COD_ESTADO_CIVIL  N_FILHOS SEXO       ...       NIVEL_FALA  \\\n",
       "0                    S       NaN    M       ...              1.0   \n",
       "1                  NaN       0.0    M       ...              2.0   \n",
       "2                  NaN       0.0    M       ...              1.0   \n",
       "3                  NaN       0.0    M       ...              NaN   \n",
       "4                    S       0.0    F       ...              NaN   \n",
       "5                    S       0.0    M       ...              1.0   \n",
       "6                  NaN       0.0    M       ...              NaN   \n",
       "7                    S       0.0    M       ...              3.0   \n",
       "8                    S       0.0    F       ...              NaN   \n",
       "9                    S       0.0    M       ...              1.0   \n",
       "10                 NaN       NaN    M       ...              NaN   \n",
       "11                   S       0.0    M       ...              2.0   \n",
       "12                 NaN       0.0    M       ...              2.0   \n",
       "13                 NaN       0.0    M       ...              NaN   \n",
       "14                   S       0.0    M       ...              2.0   \n",
       "15                   S       NaN    M       ...              2.0   \n",
       "16                   S       0.0    M       ...              2.0   \n",
       "17                 NaN       0.0    M       ...              NaN   \n",
       "18                   S       0.0    M       ...              2.0   \n",
       "19                 NaN       0.0    M       ...              2.0   \n",
       "20                   S       NaN    M       ...              NaN   \n",
       "22                 NaN       0.0    F       ...              NaN   \n",
       "23                 NaN       0.0    M       ...              NaN   \n",
       "24                   S       0.0    M       ...              NaN   \n",
       "25                 NaN       0.0    M       ...              NaN   \n",
       "26                 NaN       0.0    M       ...              NaN   \n",
       "27                 NaN       0.0    M       ...              NaN   \n",
       "28                 NaN       0.0    F       ...              NaN   \n",
       "29                 NaN       0.0    F       ...              NaN   \n",
       "31                 NaN       0.0    M       ...              NaN   \n",
       "...                ...       ...  ...       ...              ...   \n",
       "20731                S       NaN    M       ...              NaN   \n",
       "20732                S       NaN    M       ...              NaN   \n",
       "20733                S       NaN    M       ...              1.0   \n",
       "20734                S       NaN    M       ...              3.0   \n",
       "20735                S       0.0    M       ...              NaN   \n",
       "20740                S       NaN    M       ...              NaN   \n",
       "20743                S       0.0    M       ...              NaN   \n",
       "20744                S       0.0    M       ...              3.0   \n",
       "20745                S       0.0    M       ...              1.0   \n",
       "20746                S       0.0    M       ...              NaN   \n",
       "20747                C       0.0    M       ...              3.0   \n",
       "20748                S       0.0    M       ...              2.0   \n",
       "20749                S       NaN    M       ...              NaN   \n",
       "20750                S       NaN    F       ...              1.0   \n",
       "20752                S       0.0    M       ...              2.0   \n",
       "20755                S       0.0    M       ...              1.0   \n",
       "20756                S       NaN    M       ...              3.0   \n",
       "20757                S       NaN    M       ...              NaN   \n",
       "20758              NaN       0.0    M       ...              3.0   \n",
       "20759              NaN       0.0    M       ...              1.0   \n",
       "20760                S       0.0    M       ...              3.0   \n",
       "20761              NaN       0.0    M       ...              NaN   \n",
       "20762                C       0.0    M       ...              NaN   \n",
       "20763                S       0.0    M       ...              NaN   \n",
       "20764                S       0.0    M       ...              NaN   \n",
       "20765                S       NaN    M       ...              1.0   \n",
       "20766                S       NaN    M       ...              NaN   \n",
       "20767                S       0.0    F       ...              NaN   \n",
       "20768                S       NaN    F       ...              NaN   \n",
       "20769                S       NaN    F       ...              NaN   \n",
       "\n",
       "      NIVEL_COMPREENSAO NIVEL_ESCRITA NIVEL_LEITURA       NOTAS  N_FALTAS  \\\n",
       "0                   1.0           1.0           1.0        6.70       NaN   \n",
       "1                   3.0           3.0           3.0       10.00       NaN   \n",
       "2                   1.0           1.0           1.0       10.00       NaN   \n",
       "3                   NaN           NaN           NaN        0.00      70.0   \n",
       "4                   NaN           NaN           NaN        0.00      70.0   \n",
       "5                   2.0           2.0           2.0        0.00      70.0   \n",
       "6                   NaN           NaN           NaN        0.00      70.0   \n",
       "7                   2.0           3.0           3.0        1.30       8.0   \n",
       "8                   NaN           NaN           NaN        8.00       8.0   \n",
       "9                   1.0           1.0           1.0        0.00      70.0   \n",
       "10                  NaN           NaN           NaN        0.50      10.0   \n",
       "11                  3.0           2.0           2.0        0.00      70.0   \n",
       "12                  2.0           2.0           2.0        6.60       8.0   \n",
       "13                  NaN           NaN           NaN        0.00      70.0   \n",
       "14                  2.0           2.0           2.0        0.70      12.0   \n",
       "15                  3.0           2.0           2.0  06/10/2016       NaN   \n",
       "16                  2.0           2.0           3.0        0.00      70.0   \n",
       "17                  NaN           NaN           NaN        0.00      70.0   \n",
       "18                  2.0           2.0           3.0        0.00      70.0   \n",
       "19                  3.0           2.0           3.0        8.80       4.0   \n",
       "20                  NaN           NaN           NaN        6.60      10.0   \n",
       "22                  NaN           NaN           NaN  09/10/2016       6.0   \n",
       "23                  NaN           NaN           NaN        0.50      70.0   \n",
       "24                  NaN           NaN           NaN        6.00       0.0   \n",
       "25                  NaN           NaN           NaN        0.50       0.0   \n",
       "26                  NaN           NaN           NaN        7.20       0.0   \n",
       "27                  NaN           NaN           NaN        6.00       0.0   \n",
       "28                  NaN           NaN           NaN        6.00       0.0   \n",
       "29                  NaN           NaN           NaN        6.00       0.0   \n",
       "31                  NaN           NaN           NaN        6.00       0.0   \n",
       "...                 ...           ...           ...         ...       ...   \n",
       "20731               NaN           NaN           NaN       10.00       0.0   \n",
       "20732               NaN           NaN           NaN  07/10/2016       8.0   \n",
       "20733               1.0           2.0           2.0        9.40       6.0   \n",
       "20734               3.0           3.0           3.0       10.00       NaN   \n",
       "20735               NaN           NaN           NaN        7.80       NaN   \n",
       "20740               NaN           NaN           NaN        7.20       NaN   \n",
       "20743               NaN           NaN           NaN        6.80       NaN   \n",
       "20744               3.0           3.0           3.0        6.70       NaN   \n",
       "20745               3.0           1.0           3.0        6.70       NaN   \n",
       "20746               NaN           NaN           NaN        8.50       0.0   \n",
       "20747               3.0           3.0           3.0        8.50       0.0   \n",
       "20748               3.0           2.0           3.0        9.40       0.0   \n",
       "20749               NaN           NaN           NaN        0.00       0.0   \n",
       "20750               1.0           1.0           1.0        8.70       0.0   \n",
       "20752               2.0           2.0           2.0        6.50       0.0   \n",
       "20755               2.0           2.0           2.0        8.70       0.0   \n",
       "20756               3.0           3.0           3.0        6.00       0.0   \n",
       "20757               NaN           NaN           NaN        6.70       0.0   \n",
       "20758               3.0           2.0           3.0        6.00       0.0   \n",
       "20759               3.0           1.0           3.0        6.00       0.0   \n",
       "20760               3.0           3.0           3.0        9.60       0.0   \n",
       "20761               NaN           NaN           NaN        8.20       0.0   \n",
       "20762               NaN           NaN           NaN        2.70       0.0   \n",
       "20763               NaN           NaN           NaN        8.20       0.0   \n",
       "20764               NaN           NaN           NaN        6.00       0.0   \n",
       "20765               1.0           1.0           2.0        0.00       0.0   \n",
       "20766               NaN           NaN           NaN        8.60       0.0   \n",
       "20767               NaN           NaN           NaN        7.90       0.0   \n",
       "20768               NaN           NaN           NaN        8.60       0.0   \n",
       "20769               NaN           NaN           NaN        8.60       0.0   \n",
       "\n",
       "       COD_DISCIPLINA  CARGA_HOR ANO_INGRESSO  IDADE_INGRESSO  \n",
       "0                 648         54         2016            20.0  \n",
       "1                 648         54         2016            21.0  \n",
       "2                 648         54         2016            21.0  \n",
       "3                 648         54         2016            18.0  \n",
       "4                 648         54         2016            18.0  \n",
       "5                 648         54         2016            18.0  \n",
       "6                 648         54         2016            22.0  \n",
       "7                 648         54         2015            18.0  \n",
       "8                 648         54         2015            18.0  \n",
       "9                 648         54         2015            19.0  \n",
       "10                648         54         2015            19.0  \n",
       "11                648         54         2015            18.0  \n",
       "12                648         54         2015            22.0  \n",
       "13                648         54         2015            18.0  \n",
       "14                648         54         2015            18.0  \n",
       "15                648         54         2015            23.0  \n",
       "16                648         54         2015            21.0  \n",
       "17                648         54         2015            18.0  \n",
       "18                648         54         2015            21.0  \n",
       "19                648         54         2015            18.0  \n",
       "20                648         54         2015            18.0  \n",
       "22                648         54         2015            23.0  \n",
       "23                648         54         2015            19.0  \n",
       "24                648         54         2015            18.0  \n",
       "25                648         54         2015            19.0  \n",
       "26                648         54         2015            18.0  \n",
       "27                648         54         2015            18.0  \n",
       "28                648         54         2015            18.0  \n",
       "29                648         54         2015            18.0  \n",
       "31                648         54         2015            18.0  \n",
       "...               ...        ...          ...             ...  \n",
       "20731           22651         54         2012            21.0  \n",
       "20732           23775         54         2012            24.0  \n",
       "20733           23775         54         2012            21.0  \n",
       "20734           23775         54         2011            19.0  \n",
       "20735           23775         54         2014            22.0  \n",
       "20740           23775         54         2016            39.0  \n",
       "20743           23775         54         2015            36.0  \n",
       "20744           23775         54         2010            18.0  \n",
       "20745           23775         54         2010            18.0  \n",
       "20746           24371         27         2010            22.0  \n",
       "20747           24371         27         2009            19.0  \n",
       "20748           24371         27         2009            18.0  \n",
       "20749           24371         27         2009            20.0  \n",
       "20750           24371         27         2013            19.0  \n",
       "20752           24371         27         2008            27.0  \n",
       "20755           24371         27         2011            20.0  \n",
       "20756           24371         27         2008            19.0  \n",
       "20757           24371         27         2011            28.0  \n",
       "20758           24371         27         2010            18.0  \n",
       "20759           24371         27         2010            18.0  \n",
       "20760           24371         27         2010            18.0  \n",
       "20761           24371         27         2010            17.0  \n",
       "20762           24371         27         2010            21.0  \n",
       "20763           24371         27         2014            22.0  \n",
       "20764           24371         27         2011            19.0  \n",
       "20765           24371         27         2012            25.0  \n",
       "20766           24371         27         2012            21.0  \n",
       "20767           24371         27         2012            18.0  \n",
       "20768           24371         27         2012            17.0  \n",
       "20769           24371         27         2012            22.0  \n",
       "\n",
       "[9637 rows x 24 columns]"
      ]
     },
     "execution_count": 12,
     "metadata": {},
     "output_type": "execute_result"
    }
   ],
   "source": [
    "df.loc[df.SIT_MATRICULA == 0, :]"
   ]
  },
  {
   "cell_type": "code",
   "execution_count": 13,
   "metadata": {
    "collapsed": true
   },
   "outputs": [],
   "source": [
    "df.loc[df.SIT_MATRICULA == 2, 'SIT_MATRICULA'] = 1\n",
    "df.loc[df.SIT_MATRICULA == 4, 'SIT_MATRICULA'] = 1\n",
    "df.loc[df.SIT_MATRICULA == 9, 'SIT_MATRICULA'] = 1\n",
    "df.loc[df.SIT_MATRICULA == 10, 'SIT_MATRICULA'] = 1\n",
    "df.loc[df.SIT_MATRICULA == 11, 'SIT_MATRICULA'] = 1\n",
    "df.loc[df.SIT_MATRICULA == 20, 'SIT_MATRICULA'] = 1"
   ]
  },
  {
   "cell_type": "code",
   "execution_count": 14,
   "metadata": {
    "collapsed": true
   },
   "outputs": [],
   "source": [
    "df.loc[df.SIT_MATRICULA == 0, 'SIT_MATRICULA'] = 0\n",
    "df.loc[df.SIT_MATRICULA == 13, 'SIT_MATRICULA'] = 0\n",
    "df.loc[df.SIT_MATRICULA == 14, 'SIT_MATRICULA'] = 0\n",
    "df.loc[df.SIT_MATRICULA == 18, 'SIT_MATRICULA'] = 0"
   ]
  },
  {
   "cell_type": "code",
   "execution_count": 15,
   "metadata": {
    "collapsed": false
   },
   "outputs": [
    {
     "data": {
      "text/plain": [
       "14074"
      ]
     },
     "execution_count": 15,
     "metadata": {},
     "output_type": "execute_result"
    }
   ],
   "source": [
    "len(df.loc[df.SIT_MATRICULA == 0, 'SIT_MATRICULA'])"
   ]
  },
  {
   "cell_type": "code",
   "execution_count": 16,
   "metadata": {
    "collapsed": false
   },
   "outputs": [
    {
     "data": {
      "text/plain": [
       "6696"
      ]
     },
     "execution_count": 16,
     "metadata": {},
     "output_type": "execute_result"
    }
   ],
   "source": [
    "len(df.loc[df.SIT_MATRICULA == 1, 'SIT_MATRICULA'])"
   ]
  },
  {
   "cell_type": "code",
   "execution_count": 17,
   "metadata": {
    "collapsed": false
   },
   "outputs": [
    {
     "data": {
      "text/plain": [
       "0"
      ]
     },
     "execution_count": 17,
     "metadata": {},
     "output_type": "execute_result"
    }
   ],
   "source": [
    "len(df.loc[df.SIT_MATRICULA == 13, 'SIT_MATRICULA'])"
   ]
  },
  {
   "cell_type": "code",
   "execution_count": 18,
   "metadata": {
    "collapsed": false,
    "scrolled": true
   },
   "outputs": [
    {
     "data": {
      "text/plain": [
       "dtype('int64')"
      ]
     },
     "execution_count": 18,
     "metadata": {},
     "output_type": "execute_result"
    }
   ],
   "source": [
    "df.SIT_MATRICULA.dtypes"
   ]
  },
  {
   "cell_type": "code",
   "execution_count": 19,
   "metadata": {
    "collapsed": false
   },
   "outputs": [
    {
     "data": {
      "text/html": [
       "<div>\n",
       "<table border=\"1\" class=\"dataframe\">\n",
       "  <thead>\n",
       "    <tr style=\"text-align: right;\">\n",
       "      <th></th>\n",
       "      <th>SIT_MATRICULA</th>\n",
       "      <th>PAI_FALECIDO</th>\n",
       "      <th>MAE_FALECIDO</th>\n",
       "      <th>RENDA_FAMILIAR</th>\n",
       "      <th>ANO_CONCLUSAO_2_GRAU</th>\n",
       "      <th>RENDA_PER_CAPITA</th>\n",
       "      <th>N_FILHOS</th>\n",
       "      <th>NIVEL_FALA</th>\n",
       "      <th>NIVEL_COMPREENSAO</th>\n",
       "      <th>NIVEL_ESCRITA</th>\n",
       "      <th>NIVEL_LEITURA</th>\n",
       "      <th>N_FALTAS</th>\n",
       "      <th>COD_DISCIPLINA</th>\n",
       "      <th>CARGA_HOR</th>\n",
       "      <th>ANO_INGRESSO</th>\n",
       "      <th>IDADE_INGRESSO</th>\n",
       "    </tr>\n",
       "  </thead>\n",
       "  <tbody>\n",
       "    <tr>\n",
       "      <th>count</th>\n",
       "      <td>20770.000000</td>\n",
       "      <td>15436.000000</td>\n",
       "      <td>15532.0</td>\n",
       "      <td>11374.000000</td>\n",
       "      <td>19163.000000</td>\n",
       "      <td>11534.000000</td>\n",
       "      <td>9921.000000</td>\n",
       "      <td>11983.000000</td>\n",
       "      <td>11983.000000</td>\n",
       "      <td>11983.000000</td>\n",
       "      <td>11983.000000</td>\n",
       "      <td>18430.00000</td>\n",
       "      <td>20770.000000</td>\n",
       "      <td>20770.000000</td>\n",
       "      <td>20770.000000</td>\n",
       "      <td>20770.000000</td>\n",
       "    </tr>\n",
       "    <tr>\n",
       "      <th>mean</th>\n",
       "      <td>0.322388</td>\n",
       "      <td>0.019824</td>\n",
       "      <td>0.0</td>\n",
       "      <td>1.201248</td>\n",
       "      <td>2007.484632</td>\n",
       "      <td>6.704959</td>\n",
       "      <td>0.104425</td>\n",
       "      <td>1.753401</td>\n",
       "      <td>1.991822</td>\n",
       "      <td>1.810732</td>\n",
       "      <td>2.162063</td>\n",
       "      <td>9.75236</td>\n",
       "      <td>10249.072123</td>\n",
       "      <td>51.952576</td>\n",
       "      <td>2010.863746</td>\n",
       "      <td>21.157439</td>\n",
       "    </tr>\n",
       "    <tr>\n",
       "      <th>std</th>\n",
       "      <td>0.467402</td>\n",
       "      <td>0.139399</td>\n",
       "      <td>0.0</td>\n",
       "      <td>1.883402</td>\n",
       "      <td>4.349144</td>\n",
       "      <td>4.278084</td>\n",
       "      <td>0.482331</td>\n",
       "      <td>0.756781</td>\n",
       "      <td>0.751185</td>\n",
       "      <td>0.733509</td>\n",
       "      <td>0.740334</td>\n",
       "      <td>16.91199</td>\n",
       "      <td>4530.071757</td>\n",
       "      <td>15.288996</td>\n",
       "      <td>1.990884</td>\n",
       "      <td>5.114723</td>\n",
       "    </tr>\n",
       "    <tr>\n",
       "      <th>min</th>\n",
       "      <td>0.000000</td>\n",
       "      <td>0.000000</td>\n",
       "      <td>0.0</td>\n",
       "      <td>0.000000</td>\n",
       "      <td>1973.000000</td>\n",
       "      <td>0.000000</td>\n",
       "      <td>0.000000</td>\n",
       "      <td>1.000000</td>\n",
       "      <td>1.000000</td>\n",
       "      <td>1.000000</td>\n",
       "      <td>1.000000</td>\n",
       "      <td>0.00000</td>\n",
       "      <td>648.000000</td>\n",
       "      <td>27.000000</td>\n",
       "      <td>2008.000000</td>\n",
       "      <td>16.000000</td>\n",
       "    </tr>\n",
       "    <tr>\n",
       "      <th>25%</th>\n",
       "      <td>0.000000</td>\n",
       "      <td>NaN</td>\n",
       "      <td>NaN</td>\n",
       "      <td>NaN</td>\n",
       "      <td>NaN</td>\n",
       "      <td>NaN</td>\n",
       "      <td>NaN</td>\n",
       "      <td>NaN</td>\n",
       "      <td>NaN</td>\n",
       "      <td>NaN</td>\n",
       "      <td>NaN</td>\n",
       "      <td>NaN</td>\n",
       "      <td>8595.000000</td>\n",
       "      <td>54.000000</td>\n",
       "      <td>2009.000000</td>\n",
       "      <td>18.000000</td>\n",
       "    </tr>\n",
       "    <tr>\n",
       "      <th>50%</th>\n",
       "      <td>0.000000</td>\n",
       "      <td>NaN</td>\n",
       "      <td>NaN</td>\n",
       "      <td>NaN</td>\n",
       "      <td>NaN</td>\n",
       "      <td>NaN</td>\n",
       "      <td>NaN</td>\n",
       "      <td>NaN</td>\n",
       "      <td>NaN</td>\n",
       "      <td>NaN</td>\n",
       "      <td>NaN</td>\n",
       "      <td>NaN</td>\n",
       "      <td>9111.000000</td>\n",
       "      <td>54.000000</td>\n",
       "      <td>2011.000000</td>\n",
       "      <td>19.000000</td>\n",
       "    </tr>\n",
       "    <tr>\n",
       "      <th>75%</th>\n",
       "      <td>1.000000</td>\n",
       "      <td>NaN</td>\n",
       "      <td>NaN</td>\n",
       "      <td>NaN</td>\n",
       "      <td>NaN</td>\n",
       "      <td>NaN</td>\n",
       "      <td>NaN</td>\n",
       "      <td>NaN</td>\n",
       "      <td>NaN</td>\n",
       "      <td>NaN</td>\n",
       "      <td>NaN</td>\n",
       "      <td>NaN</td>\n",
       "      <td>9134.000000</td>\n",
       "      <td>54.000000</td>\n",
       "      <td>2012.000000</td>\n",
       "      <td>22.000000</td>\n",
       "    </tr>\n",
       "    <tr>\n",
       "      <th>max</th>\n",
       "      <td>1.000000</td>\n",
       "      <td>1.000000</td>\n",
       "      <td>0.0</td>\n",
       "      <td>6.000000</td>\n",
       "      <td>2015.000000</td>\n",
       "      <td>10.000000</td>\n",
       "      <td>4.000000</td>\n",
       "      <td>3.000000</td>\n",
       "      <td>3.000000</td>\n",
       "      <td>3.000000</td>\n",
       "      <td>3.000000</td>\n",
       "      <td>120.00000</td>\n",
       "      <td>24371.000000</td>\n",
       "      <td>81.000000</td>\n",
       "      <td>2016.000000</td>\n",
       "      <td>56.000000</td>\n",
       "    </tr>\n",
       "  </tbody>\n",
       "</table>\n",
       "</div>"
      ],
      "text/plain": [
       "       SIT_MATRICULA  PAI_FALECIDO  MAE_FALECIDO  RENDA_FAMILIAR  \\\n",
       "count   20770.000000  15436.000000       15532.0    11374.000000   \n",
       "mean        0.322388      0.019824           0.0        1.201248   \n",
       "std         0.467402      0.139399           0.0        1.883402   \n",
       "min         0.000000      0.000000           0.0        0.000000   \n",
       "25%         0.000000           NaN           NaN             NaN   \n",
       "50%         0.000000           NaN           NaN             NaN   \n",
       "75%         1.000000           NaN           NaN             NaN   \n",
       "max         1.000000      1.000000           0.0        6.000000   \n",
       "\n",
       "       ANO_CONCLUSAO_2_GRAU  RENDA_PER_CAPITA     N_FILHOS    NIVEL_FALA  \\\n",
       "count          19163.000000      11534.000000  9921.000000  11983.000000   \n",
       "mean            2007.484632          6.704959     0.104425      1.753401   \n",
       "std                4.349144          4.278084     0.482331      0.756781   \n",
       "min             1973.000000          0.000000     0.000000      1.000000   \n",
       "25%                     NaN               NaN          NaN           NaN   \n",
       "50%                     NaN               NaN          NaN           NaN   \n",
       "75%                     NaN               NaN          NaN           NaN   \n",
       "max             2015.000000         10.000000     4.000000      3.000000   \n",
       "\n",
       "       NIVEL_COMPREENSAO  NIVEL_ESCRITA  NIVEL_LEITURA     N_FALTAS  \\\n",
       "count       11983.000000   11983.000000   11983.000000  18430.00000   \n",
       "mean            1.991822       1.810732       2.162063      9.75236   \n",
       "std             0.751185       0.733509       0.740334     16.91199   \n",
       "min             1.000000       1.000000       1.000000      0.00000   \n",
       "25%                  NaN            NaN            NaN          NaN   \n",
       "50%                  NaN            NaN            NaN          NaN   \n",
       "75%                  NaN            NaN            NaN          NaN   \n",
       "max             3.000000       3.000000       3.000000    120.00000   \n",
       "\n",
       "       COD_DISCIPLINA     CARGA_HOR  ANO_INGRESSO  IDADE_INGRESSO  \n",
       "count    20770.000000  20770.000000  20770.000000    20770.000000  \n",
       "mean     10249.072123     51.952576   2010.863746       21.157439  \n",
       "std       4530.071757     15.288996      1.990884        5.114723  \n",
       "min        648.000000     27.000000   2008.000000       16.000000  \n",
       "25%       8595.000000     54.000000   2009.000000       18.000000  \n",
       "50%       9111.000000     54.000000   2011.000000       19.000000  \n",
       "75%       9134.000000     54.000000   2012.000000       22.000000  \n",
       "max      24371.000000     81.000000   2016.000000       56.000000  "
      ]
     },
     "execution_count": 19,
     "metadata": {},
     "output_type": "execute_result"
    }
   ],
   "source": [
    "df.describe()"
   ]
  },
  {
   "cell_type": "code",
   "execution_count": 20,
   "metadata": {
    "collapsed": false
   },
   "outputs": [
    {
     "data": {
      "text/html": [
       "<div>\n",
       "<table border=\"1\" class=\"dataframe\">\n",
       "  <thead>\n",
       "    <tr style=\"text-align: right;\">\n",
       "      <th></th>\n",
       "      <th>SIT_MATRICULA</th>\n",
       "      <th>PAI_FALECIDO</th>\n",
       "      <th>MAE_FALECIDO</th>\n",
       "      <th>RENDA_FAMILIAR</th>\n",
       "      <th>ANO_CONCLUSAO_2_GRAU</th>\n",
       "      <th>RENDA_PER_CAPITA</th>\n",
       "      <th>N_FILHOS</th>\n",
       "      <th>NIVEL_FALA</th>\n",
       "      <th>NIVEL_COMPREENSAO</th>\n",
       "      <th>NIVEL_ESCRITA</th>\n",
       "      <th>NIVEL_LEITURA</th>\n",
       "      <th>N_FALTAS</th>\n",
       "      <th>COD_DISCIPLINA</th>\n",
       "      <th>CARGA_HOR</th>\n",
       "      <th>ANO_INGRESSO</th>\n",
       "      <th>IDADE_INGRESSO</th>\n",
       "    </tr>\n",
       "  </thead>\n",
       "  <tbody>\n",
       "    <tr>\n",
       "      <th>count</th>\n",
       "      <td>2299.000000</td>\n",
       "      <td>2299.0</td>\n",
       "      <td>2299.0</td>\n",
       "      <td>2299.000000</td>\n",
       "      <td>2299.000000</td>\n",
       "      <td>2299.000000</td>\n",
       "      <td>2299.000000</td>\n",
       "      <td>2299.000000</td>\n",
       "      <td>2299.000000</td>\n",
       "      <td>2299.000000</td>\n",
       "      <td>2299.000000</td>\n",
       "      <td>2299.000000</td>\n",
       "      <td>2299.000000</td>\n",
       "      <td>2299.000000</td>\n",
       "      <td>2299.000000</td>\n",
       "      <td>2299.000000</td>\n",
       "    </tr>\n",
       "    <tr>\n",
       "      <th>mean</th>\n",
       "      <td>0.193562</td>\n",
       "      <td>0.0</td>\n",
       "      <td>0.0</td>\n",
       "      <td>1.072205</td>\n",
       "      <td>2008.397999</td>\n",
       "      <td>5.431057</td>\n",
       "      <td>0.026098</td>\n",
       "      <td>1.769900</td>\n",
       "      <td>2.066986</td>\n",
       "      <td>1.789909</td>\n",
       "      <td>2.131361</td>\n",
       "      <td>7.317529</td>\n",
       "      <td>10592.655502</td>\n",
       "      <td>51.815572</td>\n",
       "      <td>2010.662462</td>\n",
       "      <td>19.607656</td>\n",
       "    </tr>\n",
       "    <tr>\n",
       "      <th>std</th>\n",
       "      <td>0.395176</td>\n",
       "      <td>0.0</td>\n",
       "      <td>0.0</td>\n",
       "      <td>1.764165</td>\n",
       "      <td>2.465853</td>\n",
       "      <td>4.770805</td>\n",
       "      <td>0.227020</td>\n",
       "      <td>0.779211</td>\n",
       "      <td>0.761247</td>\n",
       "      <td>0.773676</td>\n",
       "      <td>0.765990</td>\n",
       "      <td>12.059257</td>\n",
       "      <td>4493.402052</td>\n",
       "      <td>14.954381</td>\n",
       "      <td>1.520683</td>\n",
       "      <td>2.623959</td>\n",
       "    </tr>\n",
       "    <tr>\n",
       "      <th>min</th>\n",
       "      <td>0.000000</td>\n",
       "      <td>0.0</td>\n",
       "      <td>0.0</td>\n",
       "      <td>0.000000</td>\n",
       "      <td>1996.000000</td>\n",
       "      <td>0.000000</td>\n",
       "      <td>0.000000</td>\n",
       "      <td>1.000000</td>\n",
       "      <td>1.000000</td>\n",
       "      <td>1.000000</td>\n",
       "      <td>1.000000</td>\n",
       "      <td>0.000000</td>\n",
       "      <td>648.000000</td>\n",
       "      <td>27.000000</td>\n",
       "      <td>2009.000000</td>\n",
       "      <td>17.000000</td>\n",
       "    </tr>\n",
       "    <tr>\n",
       "      <th>25%</th>\n",
       "      <td>0.000000</td>\n",
       "      <td>0.0</td>\n",
       "      <td>0.0</td>\n",
       "      <td>0.000000</td>\n",
       "      <td>2007.000000</td>\n",
       "      <td>0.000000</td>\n",
       "      <td>0.000000</td>\n",
       "      <td>1.000000</td>\n",
       "      <td>1.000000</td>\n",
       "      <td>1.000000</td>\n",
       "      <td>2.000000</td>\n",
       "      <td>0.000000</td>\n",
       "      <td>8654.000000</td>\n",
       "      <td>54.000000</td>\n",
       "      <td>2010.000000</td>\n",
       "      <td>18.000000</td>\n",
       "    </tr>\n",
       "    <tr>\n",
       "      <th>50%</th>\n",
       "      <td>0.000000</td>\n",
       "      <td>0.0</td>\n",
       "      <td>0.0</td>\n",
       "      <td>0.000000</td>\n",
       "      <td>2008.000000</td>\n",
       "      <td>10.000000</td>\n",
       "      <td>0.000000</td>\n",
       "      <td>2.000000</td>\n",
       "      <td>2.000000</td>\n",
       "      <td>2.000000</td>\n",
       "      <td>2.000000</td>\n",
       "      <td>4.000000</td>\n",
       "      <td>9114.000000</td>\n",
       "      <td>54.000000</td>\n",
       "      <td>2010.000000</td>\n",
       "      <td>19.000000</td>\n",
       "    </tr>\n",
       "    <tr>\n",
       "      <th>75%</th>\n",
       "      <td>0.000000</td>\n",
       "      <td>0.0</td>\n",
       "      <td>0.0</td>\n",
       "      <td>3.000000</td>\n",
       "      <td>2010.000000</td>\n",
       "      <td>10.000000</td>\n",
       "      <td>0.000000</td>\n",
       "      <td>2.000000</td>\n",
       "      <td>3.000000</td>\n",
       "      <td>2.000000</td>\n",
       "      <td>3.000000</td>\n",
       "      <td>9.500000</td>\n",
       "      <td>9145.000000</td>\n",
       "      <td>54.000000</td>\n",
       "      <td>2012.000000</td>\n",
       "      <td>20.000000</td>\n",
       "    </tr>\n",
       "    <tr>\n",
       "      <th>max</th>\n",
       "      <td>1.000000</td>\n",
       "      <td>0.0</td>\n",
       "      <td>0.0</td>\n",
       "      <td>5.000000</td>\n",
       "      <td>2014.000000</td>\n",
       "      <td>10.000000</td>\n",
       "      <td>2.000000</td>\n",
       "      <td>3.000000</td>\n",
       "      <td>3.000000</td>\n",
       "      <td>3.000000</td>\n",
       "      <td>3.000000</td>\n",
       "      <td>108.000000</td>\n",
       "      <td>24371.000000</td>\n",
       "      <td>81.000000</td>\n",
       "      <td>2015.000000</td>\n",
       "      <td>35.000000</td>\n",
       "    </tr>\n",
       "  </tbody>\n",
       "</table>\n",
       "</div>"
      ],
      "text/plain": [
       "       SIT_MATRICULA  PAI_FALECIDO  MAE_FALECIDO  RENDA_FAMILIAR  \\\n",
       "count    2299.000000        2299.0        2299.0     2299.000000   \n",
       "mean        0.193562           0.0           0.0        1.072205   \n",
       "std         0.395176           0.0           0.0        1.764165   \n",
       "min         0.000000           0.0           0.0        0.000000   \n",
       "25%         0.000000           0.0           0.0        0.000000   \n",
       "50%         0.000000           0.0           0.0        0.000000   \n",
       "75%         0.000000           0.0           0.0        3.000000   \n",
       "max         1.000000           0.0           0.0        5.000000   \n",
       "\n",
       "       ANO_CONCLUSAO_2_GRAU  RENDA_PER_CAPITA     N_FILHOS   NIVEL_FALA  \\\n",
       "count           2299.000000       2299.000000  2299.000000  2299.000000   \n",
       "mean            2008.397999          5.431057     0.026098     1.769900   \n",
       "std                2.465853          4.770805     0.227020     0.779211   \n",
       "min             1996.000000          0.000000     0.000000     1.000000   \n",
       "25%             2007.000000          0.000000     0.000000     1.000000   \n",
       "50%             2008.000000         10.000000     0.000000     2.000000   \n",
       "75%             2010.000000         10.000000     0.000000     2.000000   \n",
       "max             2014.000000         10.000000     2.000000     3.000000   \n",
       "\n",
       "       NIVEL_COMPREENSAO  NIVEL_ESCRITA  NIVEL_LEITURA     N_FALTAS  \\\n",
       "count        2299.000000    2299.000000    2299.000000  2299.000000   \n",
       "mean            2.066986       1.789909       2.131361     7.317529   \n",
       "std             0.761247       0.773676       0.765990    12.059257   \n",
       "min             1.000000       1.000000       1.000000     0.000000   \n",
       "25%             1.000000       1.000000       2.000000     0.000000   \n",
       "50%             2.000000       2.000000       2.000000     4.000000   \n",
       "75%             3.000000       2.000000       3.000000     9.500000   \n",
       "max             3.000000       3.000000       3.000000   108.000000   \n",
       "\n",
       "       COD_DISCIPLINA    CARGA_HOR  ANO_INGRESSO  IDADE_INGRESSO  \n",
       "count     2299.000000  2299.000000   2299.000000     2299.000000  \n",
       "mean     10592.655502    51.815572   2010.662462       19.607656  \n",
       "std       4493.402052    14.954381      1.520683        2.623959  \n",
       "min        648.000000    27.000000   2009.000000       17.000000  \n",
       "25%       8654.000000    54.000000   2010.000000       18.000000  \n",
       "50%       9114.000000    54.000000   2010.000000       19.000000  \n",
       "75%       9145.000000    54.000000   2012.000000       20.000000  \n",
       "max      24371.000000    81.000000   2015.000000       35.000000  "
      ]
     },
     "execution_count": 20,
     "metadata": {},
     "output_type": "execute_result"
    }
   ],
   "source": [
    "df.dropna().describe()"
   ]
  },
  {
   "cell_type": "markdown",
   "metadata": {
    "collapsed": false
   },
   "source": [
    "<h2>Excluindo campo Pai e Mãe Falecido</h2>"
   ]
  },
  {
   "cell_type": "code",
   "execution_count": 21,
   "metadata": {
    "collapsed": false
   },
   "outputs": [
    {
     "data": {
      "text/plain": [
       "array([  0.,   1.,  nan])"
      ]
     },
     "execution_count": 21,
     "metadata": {},
     "output_type": "execute_result"
    }
   ],
   "source": [
    "df.PAI_FALECIDO.unique()"
   ]
  },
  {
   "cell_type": "code",
   "execution_count": 22,
   "metadata": {
    "collapsed": false
   },
   "outputs": [
    {
     "data": {
      "text/plain": [
       "array([  0.,  nan])"
      ]
     },
     "execution_count": 22,
     "metadata": {},
     "output_type": "execute_result"
    }
   ],
   "source": [
    "df.MAE_FALECIDO.unique()"
   ]
  },
  {
   "cell_type": "code",
   "execution_count": 23,
   "metadata": {
    "collapsed": true
   },
   "outputs": [],
   "source": [
    "df = df.drop('PAI_FALECIDO', axis=1)\n",
    "df.drop('MAE_FALECIDO', axis=1, inplace=True)"
   ]
  },
  {
   "cell_type": "code",
   "execution_count": 24,
   "metadata": {
    "collapsed": false
   },
   "outputs": [
    {
     "data": {
      "text/html": [
       "<div>\n",
       "<table border=\"1\" class=\"dataframe\">\n",
       "  <thead>\n",
       "    <tr style=\"text-align: right;\">\n",
       "      <th></th>\n",
       "      <th>SIT_MATRICULA</th>\n",
       "      <th>RENDA_FAMILIAR</th>\n",
       "      <th>TIPO_ESCOLA_ORIGEM</th>\n",
       "      <th>ANO_CONCLUSAO_2_GRAU</th>\n",
       "      <th>RENDA_PER_CAPITA</th>\n",
       "      <th>COD_ESTADO_CIVIL</th>\n",
       "      <th>N_FILHOS</th>\n",
       "      <th>SEXO</th>\n",
       "      <th>PROFISSAO</th>\n",
       "      <th>DESC_CIDADE</th>\n",
       "      <th>...</th>\n",
       "      <th>NIVEL_FALA</th>\n",
       "      <th>NIVEL_COMPREENSAO</th>\n",
       "      <th>NIVEL_ESCRITA</th>\n",
       "      <th>NIVEL_LEITURA</th>\n",
       "      <th>NOTAS</th>\n",
       "      <th>N_FALTAS</th>\n",
       "      <th>COD_DISCIPLINA</th>\n",
       "      <th>CARGA_HOR</th>\n",
       "      <th>ANO_INGRESSO</th>\n",
       "      <th>IDADE_INGRESSO</th>\n",
       "    </tr>\n",
       "  </thead>\n",
       "  <tbody>\n",
       "    <tr>\n",
       "      <th>0</th>\n",
       "      <td>0</td>\n",
       "      <td>NaN</td>\n",
       "      <td>E</td>\n",
       "      <td>2014.0</td>\n",
       "      <td>NaN</td>\n",
       "      <td>S</td>\n",
       "      <td>NaN</td>\n",
       "      <td>M</td>\n",
       "      <td>NaN</td>\n",
       "      <td>Goiânia</td>\n",
       "      <td>...</td>\n",
       "      <td>1.0</td>\n",
       "      <td>1.0</td>\n",
       "      <td>1.0</td>\n",
       "      <td>1.0</td>\n",
       "      <td>6.70</td>\n",
       "      <td>NaN</td>\n",
       "      <td>648</td>\n",
       "      <td>54</td>\n",
       "      <td>2016</td>\n",
       "      <td>20.0</td>\n",
       "    </tr>\n",
       "    <tr>\n",
       "      <th>1</th>\n",
       "      <td>0</td>\n",
       "      <td>0.0</td>\n",
       "      <td>P</td>\n",
       "      <td>2011.0</td>\n",
       "      <td>0.0</td>\n",
       "      <td>NaN</td>\n",
       "      <td>0.0</td>\n",
       "      <td>M</td>\n",
       "      <td>NaN</td>\n",
       "      <td>Goiânia</td>\n",
       "      <td>...</td>\n",
       "      <td>2.0</td>\n",
       "      <td>3.0</td>\n",
       "      <td>3.0</td>\n",
       "      <td>3.0</td>\n",
       "      <td>10.00</td>\n",
       "      <td>NaN</td>\n",
       "      <td>648</td>\n",
       "      <td>54</td>\n",
       "      <td>2016</td>\n",
       "      <td>21.0</td>\n",
       "    </tr>\n",
       "    <tr>\n",
       "      <th>2</th>\n",
       "      <td>0</td>\n",
       "      <td>0.0</td>\n",
       "      <td>P</td>\n",
       "      <td>2011.0</td>\n",
       "      <td>0.0</td>\n",
       "      <td>NaN</td>\n",
       "      <td>0.0</td>\n",
       "      <td>M</td>\n",
       "      <td>NaN</td>\n",
       "      <td>Goiânia</td>\n",
       "      <td>...</td>\n",
       "      <td>1.0</td>\n",
       "      <td>1.0</td>\n",
       "      <td>1.0</td>\n",
       "      <td>1.0</td>\n",
       "      <td>10.00</td>\n",
       "      <td>NaN</td>\n",
       "      <td>648</td>\n",
       "      <td>54</td>\n",
       "      <td>2016</td>\n",
       "      <td>21.0</td>\n",
       "    </tr>\n",
       "    <tr>\n",
       "      <th>3</th>\n",
       "      <td>0</td>\n",
       "      <td>0.0</td>\n",
       "      <td>P</td>\n",
       "      <td>2014.0</td>\n",
       "      <td>0.0</td>\n",
       "      <td>NaN</td>\n",
       "      <td>0.0</td>\n",
       "      <td>M</td>\n",
       "      <td>NaN</td>\n",
       "      <td>Goiania</td>\n",
       "      <td>...</td>\n",
       "      <td>NaN</td>\n",
       "      <td>NaN</td>\n",
       "      <td>NaN</td>\n",
       "      <td>NaN</td>\n",
       "      <td>0.00</td>\n",
       "      <td>70.0</td>\n",
       "      <td>648</td>\n",
       "      <td>54</td>\n",
       "      <td>2016</td>\n",
       "      <td>18.0</td>\n",
       "    </tr>\n",
       "    <tr>\n",
       "      <th>4</th>\n",
       "      <td>0</td>\n",
       "      <td>0.0</td>\n",
       "      <td>NaN</td>\n",
       "      <td>NaN</td>\n",
       "      <td>0.0</td>\n",
       "      <td>S</td>\n",
       "      <td>0.0</td>\n",
       "      <td>F</td>\n",
       "      <td>NaN</td>\n",
       "      <td>Goiânia</td>\n",
       "      <td>...</td>\n",
       "      <td>NaN</td>\n",
       "      <td>NaN</td>\n",
       "      <td>NaN</td>\n",
       "      <td>NaN</td>\n",
       "      <td>0.00</td>\n",
       "      <td>70.0</td>\n",
       "      <td>648</td>\n",
       "      <td>54</td>\n",
       "      <td>2016</td>\n",
       "      <td>18.0</td>\n",
       "    </tr>\n",
       "  </tbody>\n",
       "</table>\n",
       "<p>5 rows × 22 columns</p>\n",
       "</div>"
      ],
      "text/plain": [
       "   SIT_MATRICULA  RENDA_FAMILIAR TIPO_ESCOLA_ORIGEM  ANO_CONCLUSAO_2_GRAU  \\\n",
       "0              0             NaN                  E                2014.0   \n",
       "1              0             0.0                  P                2011.0   \n",
       "2              0             0.0                  P                2011.0   \n",
       "3              0             0.0                  P                2014.0   \n",
       "4              0             0.0                NaN                   NaN   \n",
       "\n",
       "   RENDA_PER_CAPITA COD_ESTADO_CIVIL  N_FILHOS SEXO PROFISSAO DESC_CIDADE  \\\n",
       "0               NaN                S       NaN    M       NaN     Goiânia   \n",
       "1               0.0              NaN       0.0    M       NaN     Goiânia   \n",
       "2               0.0              NaN       0.0    M       NaN     Goiânia   \n",
       "3               0.0              NaN       0.0    M       NaN     Goiania   \n",
       "4               0.0                S       0.0    F       NaN     Goiânia   \n",
       "\n",
       "        ...       NIVEL_FALA NIVEL_COMPREENSAO  NIVEL_ESCRITA  NIVEL_LEITURA  \\\n",
       "0       ...              1.0               1.0            1.0            1.0   \n",
       "1       ...              2.0               3.0            3.0            3.0   \n",
       "2       ...              1.0               1.0            1.0            1.0   \n",
       "3       ...              NaN               NaN            NaN            NaN   \n",
       "4       ...              NaN               NaN            NaN            NaN   \n",
       "\n",
       "   NOTAS  N_FALTAS COD_DISCIPLINA  CARGA_HOR  ANO_INGRESSO  IDADE_INGRESSO  \n",
       "0   6.70       NaN            648         54          2016            20.0  \n",
       "1  10.00       NaN            648         54          2016            21.0  \n",
       "2  10.00       NaN            648         54          2016            21.0  \n",
       "3   0.00      70.0            648         54          2016            18.0  \n",
       "4   0.00      70.0            648         54          2016            18.0  \n",
       "\n",
       "[5 rows x 22 columns]"
      ]
     },
     "execution_count": 24,
     "metadata": {},
     "output_type": "execute_result"
    }
   ],
   "source": [
    "df.head()"
   ]
  },
  {
   "cell_type": "markdown",
   "metadata": {},
   "source": [
    "<h2>Normalizando Campo Renda Familiar</h2>"
   ]
  },
  {
   "cell_type": "code",
   "execution_count": 25,
   "metadata": {
    "collapsed": false
   },
   "outputs": [
    {
     "data": {
      "text/plain": [
       "0        0\n",
       "15       0\n",
       "20       0\n",
       "21       1\n",
       "43       1\n",
       "45       1\n",
       "46       0\n",
       "67       0\n",
       "78       0\n",
       "86       1\n",
       "87       0\n",
       "88       1\n",
       "124      0\n",
       "125      0\n",
       "130      0\n",
       "132      1\n",
       "134      1\n",
       "135      0\n",
       "136      0\n",
       "143      0\n",
       "144      0\n",
       "150      1\n",
       "168      0\n",
       "169      0\n",
       "170      0\n",
       "171      0\n",
       "173      0\n",
       "174      0\n",
       "177      1\n",
       "178      1\n",
       "        ..\n",
       "20678    0\n",
       "20679    0\n",
       "20682    0\n",
       "20683    1\n",
       "20684    0\n",
       "20685    0\n",
       "20686    0\n",
       "20693    0\n",
       "20697    0\n",
       "20703    0\n",
       "20705    1\n",
       "20706    0\n",
       "20708    0\n",
       "20710    0\n",
       "20711    0\n",
       "20713    1\n",
       "20734    0\n",
       "20737    1\n",
       "20740    0\n",
       "20741    1\n",
       "20742    0\n",
       "20743    0\n",
       "20749    0\n",
       "20750    0\n",
       "20751    1\n",
       "20755    0\n",
       "20756    0\n",
       "20757    0\n",
       "20765    0\n",
       "20769    0\n",
       "Name: SIT_MATRICULA, dtype: int64"
      ]
     },
     "execution_count": 25,
     "metadata": {},
     "output_type": "execute_result"
    }
   ],
   "source": [
    "df.loc[df.RENDA_FAMILIAR.isnull(), 'SIT_MATRICULA']"
   ]
  },
  {
   "cell_type": "code",
   "execution_count": 26,
   "metadata": {
    "collapsed": false
   },
   "outputs": [
    {
     "data": {
      "text/plain": [
       "array([ nan,   0.,   3.,   4.,   6.,   5.,   1.,   2.])"
      ]
     },
     "execution_count": 26,
     "metadata": {},
     "output_type": "execute_result"
    }
   ],
   "source": [
    "df.RENDA_FAMILIAR.unique()"
   ]
  },
  {
   "cell_type": "code",
   "execution_count": 27,
   "metadata": {
    "collapsed": false
   },
   "outputs": [
    {
     "data": {
      "text/plain": [
       "0.0    7731\n",
       "3.0    1206\n",
       "4.0     812\n",
       "5.0     709\n",
       "2.0     521\n",
       "6.0     363\n",
       "1.0      32\n",
       "Name: RENDA_FAMILIAR, dtype: int64"
      ]
     },
     "execution_count": 27,
     "metadata": {},
     "output_type": "execute_result"
    }
   ],
   "source": [
    "df.RENDA_FAMILIAR.value_counts()"
   ]
  },
  {
   "cell_type": "code",
   "execution_count": 28,
   "metadata": {
    "collapsed": false
   },
   "outputs": [
    {
     "data": {
      "text/plain": [
       "4.0"
      ]
     },
     "execution_count": 28,
     "metadata": {},
     "output_type": "execute_result"
    }
   ],
   "source": [
    "media = df.loc[ (df['RENDA_FAMILIAR']!=0) & (df['RENDA_FAMILIAR'].notnull()), 'RENDA_FAMILIAR'].mean()\n",
    "\n",
    "media = round(media)\n",
    "media"
   ]
  },
  {
   "cell_type": "code",
   "execution_count": 29,
   "metadata": {
    "collapsed": true
   },
   "outputs": [],
   "source": [
    "df.loc[df['RENDA_FAMILIAR'].isnull(), 'RENDA_FAMILIAR'] = media"
   ]
  },
  {
   "cell_type": "code",
   "execution_count": 30,
   "metadata": {
    "collapsed": false
   },
   "outputs": [
    {
     "data": {
      "text/plain": [
       "array([ 4.,  0.,  3.,  6.,  5.,  1.,  2.])"
      ]
     },
     "execution_count": 30,
     "metadata": {},
     "output_type": "execute_result"
    }
   ],
   "source": [
    "df.RENDA_FAMILIAR.unique()"
   ]
  },
  {
   "cell_type": "code",
   "execution_count": 31,
   "metadata": {
    "collapsed": false
   },
   "outputs": [
    {
     "data": {
      "text/plain": [
       "array([ nan,   0.,  10.,   2.,   5.,   1.,   6.,   7.,   4.,   3.])"
      ]
     },
     "execution_count": 31,
     "metadata": {},
     "output_type": "execute_result"
    }
   ],
   "source": [
    "df.RENDA_PER_CAPITA.unique()"
   ]
  },
  {
   "cell_type": "code",
   "execution_count": 32,
   "metadata": {
    "collapsed": false
   },
   "outputs": [
    {
     "data": {
      "text/plain": [
       "count    20770.000000\n",
       "mean         2.467357\n",
       "std          1.970537\n",
       "min          0.000000\n",
       "25%          0.000000\n",
       "50%          4.000000\n",
       "75%          4.000000\n",
       "max          6.000000\n",
       "Name: RENDA_FAMILIAR, dtype: float64"
      ]
     },
     "execution_count": 32,
     "metadata": {},
     "output_type": "execute_result"
    }
   ],
   "source": [
    "df.RENDA_FAMILIAR.describe()"
   ]
  },
  {
   "cell_type": "code",
   "execution_count": 33,
   "metadata": {
    "collapsed": false
   },
   "outputs": [
    {
     "data": {
      "text/plain": [
       "count    11534.000000\n",
       "mean         6.704959\n",
       "std          4.278084\n",
       "min          0.000000\n",
       "25%               NaN\n",
       "50%               NaN\n",
       "75%               NaN\n",
       "max         10.000000\n",
       "Name: RENDA_PER_CAPITA, dtype: float64"
      ]
     },
     "execution_count": 33,
     "metadata": {},
     "output_type": "execute_result"
    }
   ],
   "source": [
    "df.RENDA_PER_CAPITA.describe()"
   ]
  },
  {
   "cell_type": "code",
   "execution_count": 34,
   "metadata": {
    "collapsed": false
   },
   "outputs": [
    {
     "data": {
      "text/plain": [
       "Index([u'SIT_MATRICULA', u'RENDA_FAMILIAR', u'TIPO_ESCOLA_ORIGEM',\n",
       "       u'ANO_CONCLUSAO_2_GRAU', u'COD_ESTADO_CIVIL', u'N_FILHOS', u'SEXO',\n",
       "       u'PROFISSAO', u'DESC_CIDADE', u'DESC_ESTADO', u'DESC_IDIOMA',\n",
       "       u'NIVEL_FALA', u'NIVEL_COMPREENSAO', u'NIVEL_ESCRITA', u'NIVEL_LEITURA',\n",
       "       u'NOTAS', u'N_FALTAS', u'COD_DISCIPLINA', u'CARGA_HOR', u'ANO_INGRESSO',\n",
       "       u'IDADE_INGRESSO'],\n",
       "      dtype='object')"
      ]
     },
     "execution_count": 34,
     "metadata": {},
     "output_type": "execute_result"
    }
   ],
   "source": [
    "df.drop('RENDA_PER_CAPITA', axis=1, inplace=True)\n",
    "df.columns"
   ]
  },
  {
   "cell_type": "code",
   "execution_count": 35,
   "metadata": {
    "collapsed": false
   },
   "outputs": [
    {
     "data": {
      "text/plain": [
       "array([ 4.,  0.,  3.,  6.,  5.,  1.,  2.])"
      ]
     },
     "execution_count": 35,
     "metadata": {},
     "output_type": "execute_result"
    }
   ],
   "source": [
    "df.loc[df.RENDA_FAMILIAR.isnull(),'RENDA_FAMILIAR'] = 0\n",
    "df.RENDA_FAMILIAR.unique()"
   ]
  },
  {
   "cell_type": "markdown",
   "metadata": {},
   "source": [
    "<h2>Conlcusão do Segundo Grau e Ano de Ingresso</h2>"
   ]
  },
  {
   "cell_type": "code",
   "execution_count": 36,
   "metadata": {
    "collapsed": false
   },
   "outputs": [
    {
     "data": {
      "text/plain": [
       "<matplotlib.axes._subplots.AxesSubplot at 0x7f2b7a9b3450>"
      ]
     },
     "execution_count": 36,
     "metadata": {},
     "output_type": "execute_result"
    },
    {
     "data": {
      "image/png": "[encoded data removed]",
      "text/plain": [
       "<matplotlib.figure.Figure at 0x7f2b7a9569d0>"
      ]
     },
     "metadata": {},
     "output_type": "display_data"
    }
   ],
   "source": [
    "df.ANO_CONCLUSAO_2_GRAU.hist()"
   ]
  },
  {
   "cell_type": "markdown",
   "metadata": {},
   "source": [
    "Separando os campos em outro DataFrame"
   ]
  },
  {
   "cell_type": "code",
   "execution_count": 37,
   "metadata": {
    "collapsed": false
   },
   "outputs": [
    {
     "data": {
      "text/html": [
       "<div>\n",
       "<table border=\"1\" class=\"dataframe\">\n",
       "  <thead>\n",
       "    <tr style=\"text-align: right;\">\n",
       "      <th></th>\n",
       "      <th>ANO_CONCLUSAO_2_GRAU</th>\n",
       "      <th>ANO_INGRESSO</th>\n",
       "      <th>SIT_MATRICULA</th>\n",
       "    </tr>\n",
       "  </thead>\n",
       "  <tbody>\n",
       "    <tr>\n",
       "      <th>0</th>\n",
       "      <td>2014.0</td>\n",
       "      <td>2016</td>\n",
       "      <td>0</td>\n",
       "    </tr>\n",
       "    <tr>\n",
       "      <th>1</th>\n",
       "      <td>2011.0</td>\n",
       "      <td>2016</td>\n",
       "      <td>0</td>\n",
       "    </tr>\n",
       "    <tr>\n",
       "      <th>2</th>\n",
       "      <td>2011.0</td>\n",
       "      <td>2016</td>\n",
       "      <td>0</td>\n",
       "    </tr>\n",
       "    <tr>\n",
       "      <th>3</th>\n",
       "      <td>2014.0</td>\n",
       "      <td>2016</td>\n",
       "      <td>0</td>\n",
       "    </tr>\n",
       "    <tr>\n",
       "      <th>4</th>\n",
       "      <td>NaN</td>\n",
       "      <td>2016</td>\n",
       "      <td>0</td>\n",
       "    </tr>\n",
       "    <tr>\n",
       "      <th>5</th>\n",
       "      <td>2014.0</td>\n",
       "      <td>2016</td>\n",
       "      <td>0</td>\n",
       "    </tr>\n",
       "    <tr>\n",
       "      <th>6</th>\n",
       "      <td>2012.0</td>\n",
       "      <td>2016</td>\n",
       "      <td>0</td>\n",
       "    </tr>\n",
       "    <tr>\n",
       "      <th>7</th>\n",
       "      <td>2014.0</td>\n",
       "      <td>2015</td>\n",
       "      <td>0</td>\n",
       "    </tr>\n",
       "    <tr>\n",
       "      <th>8</th>\n",
       "      <td>NaN</td>\n",
       "      <td>2015</td>\n",
       "      <td>0</td>\n",
       "    </tr>\n",
       "    <tr>\n",
       "      <th>9</th>\n",
       "      <td>2013.0</td>\n",
       "      <td>2015</td>\n",
       "      <td>0</td>\n",
       "    </tr>\n",
       "    <tr>\n",
       "      <th>10</th>\n",
       "      <td>2014.0</td>\n",
       "      <td>2015</td>\n",
       "      <td>0</td>\n",
       "    </tr>\n",
       "    <tr>\n",
       "      <th>11</th>\n",
       "      <td>2014.0</td>\n",
       "      <td>2015</td>\n",
       "      <td>0</td>\n",
       "    </tr>\n",
       "    <tr>\n",
       "      <th>12</th>\n",
       "      <td>2011.0</td>\n",
       "      <td>2015</td>\n",
       "      <td>0</td>\n",
       "    </tr>\n",
       "    <tr>\n",
       "      <th>13</th>\n",
       "      <td>2014.0</td>\n",
       "      <td>2015</td>\n",
       "      <td>0</td>\n",
       "    </tr>\n",
       "    <tr>\n",
       "      <th>14</th>\n",
       "      <td>2014.0</td>\n",
       "      <td>2015</td>\n",
       "      <td>0</td>\n",
       "    </tr>\n",
       "    <tr>\n",
       "      <th>15</th>\n",
       "      <td>2010.0</td>\n",
       "      <td>2015</td>\n",
       "      <td>0</td>\n",
       "    </tr>\n",
       "    <tr>\n",
       "      <th>16</th>\n",
       "      <td>NaN</td>\n",
       "      <td>2015</td>\n",
       "      <td>0</td>\n",
       "    </tr>\n",
       "    <tr>\n",
       "      <th>17</th>\n",
       "      <td>2015.0</td>\n",
       "      <td>2015</td>\n",
       "      <td>0</td>\n",
       "    </tr>\n",
       "    <tr>\n",
       "      <th>18</th>\n",
       "      <td>NaN</td>\n",
       "      <td>2015</td>\n",
       "      <td>0</td>\n",
       "    </tr>\n",
       "    <tr>\n",
       "      <th>19</th>\n",
       "      <td>2014.0</td>\n",
       "      <td>2015</td>\n",
       "      <td>0</td>\n",
       "    </tr>\n",
       "    <tr>\n",
       "      <th>20</th>\n",
       "      <td>2014.0</td>\n",
       "      <td>2015</td>\n",
       "      <td>0</td>\n",
       "    </tr>\n",
       "    <tr>\n",
       "      <th>21</th>\n",
       "      <td>2013.0</td>\n",
       "      <td>2015</td>\n",
       "      <td>1</td>\n",
       "    </tr>\n",
       "    <tr>\n",
       "      <th>22</th>\n",
       "      <td>2009.0</td>\n",
       "      <td>2015</td>\n",
       "      <td>0</td>\n",
       "    </tr>\n",
       "    <tr>\n",
       "      <th>23</th>\n",
       "      <td>2014.0</td>\n",
       "      <td>2015</td>\n",
       "      <td>0</td>\n",
       "    </tr>\n",
       "    <tr>\n",
       "      <th>24</th>\n",
       "      <td>2014.0</td>\n",
       "      <td>2015</td>\n",
       "      <td>0</td>\n",
       "    </tr>\n",
       "    <tr>\n",
       "      <th>25</th>\n",
       "      <td>2014.0</td>\n",
       "      <td>2015</td>\n",
       "      <td>0</td>\n",
       "    </tr>\n",
       "    <tr>\n",
       "      <th>26</th>\n",
       "      <td>2014.0</td>\n",
       "      <td>2015</td>\n",
       "      <td>0</td>\n",
       "    </tr>\n",
       "    <tr>\n",
       "      <th>27</th>\n",
       "      <td>2013.0</td>\n",
       "      <td>2015</td>\n",
       "      <td>0</td>\n",
       "    </tr>\n",
       "    <tr>\n",
       "      <th>28</th>\n",
       "      <td>2014.0</td>\n",
       "      <td>2015</td>\n",
       "      <td>0</td>\n",
       "    </tr>\n",
       "    <tr>\n",
       "      <th>29</th>\n",
       "      <td>2014.0</td>\n",
       "      <td>2015</td>\n",
       "      <td>0</td>\n",
       "    </tr>\n",
       "    <tr>\n",
       "      <th>...</th>\n",
       "      <td>...</td>\n",
       "      <td>...</td>\n",
       "      <td>...</td>\n",
       "    </tr>\n",
       "    <tr>\n",
       "      <th>20740</th>\n",
       "      <td>1994.0</td>\n",
       "      <td>2016</td>\n",
       "      <td>0</td>\n",
       "    </tr>\n",
       "    <tr>\n",
       "      <th>20741</th>\n",
       "      <td>2005.0</td>\n",
       "      <td>2012</td>\n",
       "      <td>1</td>\n",
       "    </tr>\n",
       "    <tr>\n",
       "      <th>20742</th>\n",
       "      <td>2004.0</td>\n",
       "      <td>2010</td>\n",
       "      <td>0</td>\n",
       "    </tr>\n",
       "    <tr>\n",
       "      <th>20743</th>\n",
       "      <td>2001.0</td>\n",
       "      <td>2015</td>\n",
       "      <td>0</td>\n",
       "    </tr>\n",
       "    <tr>\n",
       "      <th>20744</th>\n",
       "      <td>2009.0</td>\n",
       "      <td>2010</td>\n",
       "      <td>0</td>\n",
       "    </tr>\n",
       "    <tr>\n",
       "      <th>20745</th>\n",
       "      <td>2009.0</td>\n",
       "      <td>2010</td>\n",
       "      <td>0</td>\n",
       "    </tr>\n",
       "    <tr>\n",
       "      <th>20746</th>\n",
       "      <td>2005.0</td>\n",
       "      <td>2010</td>\n",
       "      <td>0</td>\n",
       "    </tr>\n",
       "    <tr>\n",
       "      <th>20747</th>\n",
       "      <td>2008.0</td>\n",
       "      <td>2009</td>\n",
       "      <td>0</td>\n",
       "    </tr>\n",
       "    <tr>\n",
       "      <th>20748</th>\n",
       "      <td>2008.0</td>\n",
       "      <td>2009</td>\n",
       "      <td>0</td>\n",
       "    </tr>\n",
       "    <tr>\n",
       "      <th>20749</th>\n",
       "      <td>2007.0</td>\n",
       "      <td>2009</td>\n",
       "      <td>0</td>\n",
       "    </tr>\n",
       "    <tr>\n",
       "      <th>20750</th>\n",
       "      <td>2013.0</td>\n",
       "      <td>2013</td>\n",
       "      <td>0</td>\n",
       "    </tr>\n",
       "    <tr>\n",
       "      <th>20751</th>\n",
       "      <td>2006.0</td>\n",
       "      <td>2011</td>\n",
       "      <td>1</td>\n",
       "    </tr>\n",
       "    <tr>\n",
       "      <th>20752</th>\n",
       "      <td>NaN</td>\n",
       "      <td>2008</td>\n",
       "      <td>0</td>\n",
       "    </tr>\n",
       "    <tr>\n",
       "      <th>20753</th>\n",
       "      <td>2006.0</td>\n",
       "      <td>2012</td>\n",
       "      <td>0</td>\n",
       "    </tr>\n",
       "    <tr>\n",
       "      <th>20754</th>\n",
       "      <td>2006.0</td>\n",
       "      <td>2012</td>\n",
       "      <td>0</td>\n",
       "    </tr>\n",
       "    <tr>\n",
       "      <th>20755</th>\n",
       "      <td>2010.0</td>\n",
       "      <td>2011</td>\n",
       "      <td>0</td>\n",
       "    </tr>\n",
       "    <tr>\n",
       "      <th>20756</th>\n",
       "      <td>2006.0</td>\n",
       "      <td>2008</td>\n",
       "      <td>0</td>\n",
       "    </tr>\n",
       "    <tr>\n",
       "      <th>20757</th>\n",
       "      <td>2001.0</td>\n",
       "      <td>2011</td>\n",
       "      <td>0</td>\n",
       "    </tr>\n",
       "    <tr>\n",
       "      <th>20758</th>\n",
       "      <td>2009.0</td>\n",
       "      <td>2010</td>\n",
       "      <td>0</td>\n",
       "    </tr>\n",
       "    <tr>\n",
       "      <th>20759</th>\n",
       "      <td>2009.0</td>\n",
       "      <td>2010</td>\n",
       "      <td>0</td>\n",
       "    </tr>\n",
       "    <tr>\n",
       "      <th>20760</th>\n",
       "      <td>2009.0</td>\n",
       "      <td>2010</td>\n",
       "      <td>0</td>\n",
       "    </tr>\n",
       "    <tr>\n",
       "      <th>20761</th>\n",
       "      <td>2009.0</td>\n",
       "      <td>2010</td>\n",
       "      <td>0</td>\n",
       "    </tr>\n",
       "    <tr>\n",
       "      <th>20762</th>\n",
       "      <td>2007.0</td>\n",
       "      <td>2010</td>\n",
       "      <td>0</td>\n",
       "    </tr>\n",
       "    <tr>\n",
       "      <th>20763</th>\n",
       "      <td>2010.0</td>\n",
       "      <td>2014</td>\n",
       "      <td>0</td>\n",
       "    </tr>\n",
       "    <tr>\n",
       "      <th>20764</th>\n",
       "      <td>2009.0</td>\n",
       "      <td>2011</td>\n",
       "      <td>0</td>\n",
       "    </tr>\n",
       "    <tr>\n",
       "      <th>20765</th>\n",
       "      <td>2005.0</td>\n",
       "      <td>2012</td>\n",
       "      <td>0</td>\n",
       "    </tr>\n",
       "    <tr>\n",
       "      <th>20766</th>\n",
       "      <td>2010.0</td>\n",
       "      <td>2012</td>\n",
       "      <td>0</td>\n",
       "    </tr>\n",
       "    <tr>\n",
       "      <th>20767</th>\n",
       "      <td>2011.0</td>\n",
       "      <td>2012</td>\n",
       "      <td>0</td>\n",
       "    </tr>\n",
       "    <tr>\n",
       "      <th>20768</th>\n",
       "      <td>2012.0</td>\n",
       "      <td>2012</td>\n",
       "      <td>0</td>\n",
       "    </tr>\n",
       "    <tr>\n",
       "      <th>20769</th>\n",
       "      <td>2007.0</td>\n",
       "      <td>2012</td>\n",
       "      <td>0</td>\n",
       "    </tr>\n",
       "  </tbody>\n",
       "</table>\n",
       "<p>20770 rows × 3 columns</p>\n",
       "</div>"
      ],
      "text/plain": [
       "       ANO_CONCLUSAO_2_GRAU  ANO_INGRESSO  SIT_MATRICULA\n",
       "0                    2014.0          2016              0\n",
       "1                    2011.0          2016              0\n",
       "2                    2011.0          2016              0\n",
       "3                    2014.0          2016              0\n",
       "4                       NaN          2016              0\n",
       "5                    2014.0          2016              0\n",
       "6                    2012.0          2016              0\n",
       "7                    2014.0          2015              0\n",
       "8                       NaN          2015              0\n",
       "9                    2013.0          2015              0\n",
       "10                   2014.0          2015              0\n",
       "11                   2014.0          2015              0\n",
       "12                   2011.0          2015              0\n",
       "13                   2014.0          2015              0\n",
       "14                   2014.0          2015              0\n",
       "15                   2010.0          2015              0\n",
       "16                      NaN          2015              0\n",
       "17                   2015.0          2015              0\n",
       "18                      NaN          2015              0\n",
       "19                   2014.0          2015              0\n",
       "20                   2014.0          2015              0\n",
       "21                   2013.0          2015              1\n",
       "22                   2009.0          2015              0\n",
       "23                   2014.0          2015              0\n",
       "24                   2014.0          2015              0\n",
       "25                   2014.0          2015              0\n",
       "26                   2014.0          2015              0\n",
       "27                   2013.0          2015              0\n",
       "28                   2014.0          2015              0\n",
       "29                   2014.0          2015              0\n",
       "...                     ...           ...            ...\n",
       "20740                1994.0          2016              0\n",
       "20741                2005.0          2012              1\n",
       "20742                2004.0          2010              0\n",
       "20743                2001.0          2015              0\n",
       "20744                2009.0          2010              0\n",
       "20745                2009.0          2010              0\n",
       "20746                2005.0          2010              0\n",
       "20747                2008.0          2009              0\n",
       "20748                2008.0          2009              0\n",
       "20749                2007.0          2009              0\n",
       "20750                2013.0          2013              0\n",
       "20751                2006.0          2011              1\n",
       "20752                   NaN          2008              0\n",
       "20753                2006.0          2012              0\n",
       "20754                2006.0          2012              0\n",
       "20755                2010.0          2011              0\n",
       "20756                2006.0          2008              0\n",
       "20757                2001.0          2011              0\n",
       "20758                2009.0          2010              0\n",
       "20759                2009.0          2010              0\n",
       "20760                2009.0          2010              0\n",
       "20761                2009.0          2010              0\n",
       "20762                2007.0          2010              0\n",
       "20763                2010.0          2014              0\n",
       "20764                2009.0          2011              0\n",
       "20765                2005.0          2012              0\n",
       "20766                2010.0          2012              0\n",
       "20767                2011.0          2012              0\n",
       "20768                2012.0          2012              0\n",
       "20769                2007.0          2012              0\n",
       "\n",
       "[20770 rows x 3 columns]"
      ]
     },
     "execution_count": 37,
     "metadata": {},
     "output_type": "execute_result"
    }
   ],
   "source": [
    "df2 = df.loc[:, ['ANO_CONCLUSAO_2_GRAU','ANO_INGRESSO', 'SIT_MATRICULA']]\n",
    "df2"
   ]
  },
  {
   "cell_type": "code",
   "execution_count": 38,
   "metadata": {
    "collapsed": false
   },
   "outputs": [
    {
     "data": {
      "text/plain": [
       "<seaborn.axisgrid.PairGrid at 0x7f2b7ad40e10>"
      ]
     },
     "execution_count": 38,
     "metadata": {},
     "output_type": "execute_result"
    },
    {
     "data": {
      "image/png": "[encoded data removed]",
      "text/plain": [
       "<matplotlib.figure.Figure at 0x7f2b7a9b1490>"
      ]
     },
     "metadata": {},
     "output_type": "display_data"
    }
   ],
   "source": [
    "sb.pairplot(df2.dropna(), hue='SIT_MATRICULA')"
   ]
  },
  {
   "cell_type": "code",
   "execution_count": 39,
   "metadata": {
    "collapsed": false
   },
   "outputs": [
    {
     "data": {
      "text/html": [
       "<div>\n",
       "<table border=\"1\" class=\"dataframe\">\n",
       "  <thead>\n",
       "    <tr style=\"text-align: right;\">\n",
       "      <th></th>\n",
       "      <th>ANO_CONCLUSAO_2_GRAU</th>\n",
       "      <th>ANO_INGRESSO</th>\n",
       "      <th>SIT_MATRICULA</th>\n",
       "    </tr>\n",
       "  </thead>\n",
       "  <tbody>\n",
       "    <tr>\n",
       "      <th>ANO_CONCLUSAO_2_GRAU</th>\n",
       "      <td>1.000000</td>\n",
       "      <td>0.515777</td>\n",
       "      <td>-0.13248</td>\n",
       "    </tr>\n",
       "    <tr>\n",
       "      <th>ANO_INGRESSO</th>\n",
       "      <td>0.515777</td>\n",
       "      <td>1.000000</td>\n",
       "      <td>-0.05249</td>\n",
       "    </tr>\n",
       "    <tr>\n",
       "      <th>SIT_MATRICULA</th>\n",
       "      <td>-0.132480</td>\n",
       "      <td>-0.052490</td>\n",
       "      <td>1.00000</td>\n",
       "    </tr>\n",
       "  </tbody>\n",
       "</table>\n",
       "</div>"
      ],
      "text/plain": [
       "                      ANO_CONCLUSAO_2_GRAU  ANO_INGRESSO  SIT_MATRICULA\n",
       "ANO_CONCLUSAO_2_GRAU              1.000000      0.515777       -0.13248\n",
       "ANO_INGRESSO                      0.515777      1.000000       -0.05249\n",
       "SIT_MATRICULA                    -0.132480     -0.052490        1.00000"
      ]
     },
     "execution_count": 39,
     "metadata": {},
     "output_type": "execute_result"
    }
   ],
   "source": [
    "df2.corr(method='spearman')"
   ]
  },
  {
   "cell_type": "code",
   "execution_count": 40,
   "metadata": {
    "collapsed": false
   },
   "outputs": [
    {
     "data": {
      "text/plain": [
       "array([ 2014.,  2011.,    nan,  2012.,  2013.,  2010.,  2015.,  2009.,\n",
       "        2006.,  2007.,  2008.,  2002.,  2004.,  2001.,  2003.,  1992.,\n",
       "        1997.,  1995.,  1999.,  1986.,  2005.,  2000.,  1993.,  1996.,\n",
       "        1982.,  1998.,  1973.,  1985.,  1990.,  1991.,  1994.])"
      ]
     },
     "execution_count": 40,
     "metadata": {},
     "output_type": "execute_result"
    }
   ],
   "source": [
    "df.ANO_CONCLUSAO_2_GRAU.unique()"
   ]
  },
  {
   "cell_type": "code",
   "execution_count": 41,
   "metadata": {
    "collapsed": false
   },
   "outputs": [
    {
     "data": {
      "text/plain": [
       "array([2016, 2015, 2014, 2013, 2012, 2011, 2010, 2009, 2008])"
      ]
     },
     "execution_count": 41,
     "metadata": {},
     "output_type": "execute_result"
    }
   ],
   "source": [
    "df.ANO_INGRESSO.unique()"
   ]
  },
  {
   "cell_type": "code",
   "execution_count": 42,
   "metadata": {
    "collapsed": false
   },
   "outputs": [
    {
     "data": {
      "text/plain": [
       "Index([u'ANO_CONCLUSAO_2_GRAU', u'ANO_INGRESSO', u'SIT_MATRICULA'], dtype='object')"
      ]
     },
     "execution_count": 42,
     "metadata": {},
     "output_type": "execute_result"
    }
   ],
   "source": [
    "df2 = df2.dropna()\n",
    "df2.columns"
   ]
  },
  {
   "cell_type": "code",
   "execution_count": 43,
   "metadata": {
    "collapsed": false
   },
   "outputs": [],
   "source": [
    "valores = df2[['ANO_CONCLUSAO_2_GRAU', 'ANO_INGRESSO', 'SIT_MATRICULA']].values\n",
    "valores = valores.astype('int64')"
   ]
  },
  {
   "cell_type": "code",
   "execution_count": 44,
   "metadata": {
    "collapsed": false
   },
   "outputs": [
    {
     "data": {
      "text/plain": [
       "array([[2016,    0],\n",
       "       [2016,    0],\n",
       "       [2016,    0],\n",
       "       ..., \n",
       "       [2012,    0],\n",
       "       [2012,    0],\n",
       "       [2012,    0]])"
      ]
     },
     "execution_count": 44,
     "metadata": {},
     "output_type": "execute_result"
    }
   ],
   "source": [
    "features = valores[:, 1:3]\n",
    "features"
   ]
  },
  {
   "cell_type": "code",
   "execution_count": 45,
   "metadata": {
    "collapsed": false
   },
   "outputs": [
    {
     "data": {
      "text/plain": [
       "array([[2014],\n",
       "       [2011],\n",
       "       [2011],\n",
       "       ..., \n",
       "       [2011],\n",
       "       [2012],\n",
       "       [2007]])"
      ]
     },
     "execution_count": 45,
     "metadata": {},
     "output_type": "execute_result"
    }
   ],
   "source": [
    "target = valores[:, np.newaxis, 0]\n",
    "target"
   ]
  },
  {
   "cell_type": "markdown",
   "metadata": {},
   "source": [
    "<h3>Regressão Linear</h3>"
   ]
  },
  {
   "cell_type": "code",
   "execution_count": 46,
   "metadata": {
    "collapsed": false
   },
   "outputs": [
    {
     "data": {
      "text/plain": [
       "LinearRegression(copy_X=True, fit_intercept=True, n_jobs=1, normalize=False)"
      ]
     },
     "execution_count": 46,
     "metadata": {},
     "output_type": "execute_result"
    }
   ],
   "source": [
    "from sklearn import linear_model\n",
    "regr = linear_model.LinearRegression()\n",
    "regr.fit(features, target)"
   ]
  },
  {
   "cell_type": "code",
   "execution_count": 47,
   "metadata": {
    "collapsed": false
   },
   "outputs": [
    {
     "data": {
      "text/plain": [
       "array([[ 2008.72342296]])"
      ]
     },
     "execution_count": 47,
     "metadata": {},
     "output_type": "execute_result"
    }
   ],
   "source": [
    "regr.predict([[2012, 0]])"
   ]
  },
  {
   "cell_type": "code",
   "execution_count": 48,
   "metadata": {
    "collapsed": false
   },
   "outputs": [
    {
     "data": {
      "text/plain": [
       "array([[ 2011.79866197],\n",
       "       [ 2011.02985221],\n",
       "       [ 2011.02985221],\n",
       "       ..., \n",
       "       [ 2009.49223271],\n",
       "       [ 2007.95461321],\n",
       "       [ 2005.64818395]])"
      ]
     },
     "execution_count": 48,
     "metadata": {},
     "output_type": "execute_result"
    }
   ],
   "source": [
    "regr.predict(df.loc[df.ANO_CONCLUSAO_2_GRAU.isnull(), ['ANO_INGRESSO', 'SIT_MATRICULA']])"
   ]
  },
  {
   "cell_type": "markdown",
   "metadata": {},
   "source": [
    "<h3>Corrindo campo Notas</h3>"
   ]
  },
  {
   "cell_type": "code",
   "execution_count": 49,
   "metadata": {
    "collapsed": true
   },
   "outputs": [],
   "source": [
    "def input_ano_conclusao(row):   \n",
    "    if row['ANO_CONCLUSAO_2_GRAU'] != 0:    \n",
    "        return row['ANO_CONCLUSAO_2_GRAU']\n",
    "    else:  \n",
    "        r = regr.predict([[row['ANO_INGRESSO'], row['SIT_MATRICULA']]])\n",
    "        return r[0][0].astype('int64')"
   ]
  },
  {
   "cell_type": "code",
   "execution_count": 50,
   "metadata": {
    "collapsed": false
   },
   "outputs": [],
   "source": [
    "df.loc[df.ANO_CONCLUSAO_2_GRAU.isnull(), 'ANO_CONCLUSAO_2_GRAU'] = 0\n",
    "df_c = df.loc[:, ['ANO_INGRESSO', 'ANO_CONCLUSAO_2_GRAU', 'SIT_MATRICULA']]\n",
    "\n",
    "df_c.SIT_MATRICULA = df_c.SIT_MATRICULA.astype('int64')\n",
    "df_c.ANO_INGRESSO = df_c.ANO_INGRESSO.astype('int64')\n",
    "\n",
    "df['ANO_CONCLUSAO_2_GRAU'] = df_c.apply(input_ano_conclusao, axis=1)"
   ]
  },
  {
   "cell_type": "code",
   "execution_count": 51,
   "metadata": {
    "collapsed": false
   },
   "outputs": [
    {
     "data": {
      "text/plain": [
       "2007.0    2703\n",
       "2008.0    2627\n",
       "2009.0    2622\n",
       "2006.0    2419\n",
       "2010.0    2344\n",
       "2011.0    1448\n",
       "2012.0    1370\n",
       "2004.0    1152\n",
       "2005.0     971\n",
       "2013.0     669\n",
       "2002.0     499\n",
       "2001.0     337\n",
       "2014.0     320\n",
       "2003.0     232\n",
       "1997.0     176\n",
       "2000.0     163\n",
       "1999.0     142\n",
       "1998.0     106\n",
       "1992.0      77\n",
       "1991.0      76\n",
       "1982.0      66\n",
       "1996.0      55\n",
       "1990.0      49\n",
       "1993.0      34\n",
       "1985.0      32\n",
       "1995.0      22\n",
       "1986.0      20\n",
       "1973.0      18\n",
       "2015.0      16\n",
       "1994.0       5\n",
       "Name: ANO_CONCLUSAO_2_GRAU, dtype: int64"
      ]
     },
     "execution_count": 51,
     "metadata": {},
     "output_type": "execute_result"
    }
   ],
   "source": [
    "df.ANO_CONCLUSAO_2_GRAU.value_counts()"
   ]
  },
  {
   "cell_type": "markdown",
   "metadata": {},
   "source": [
    "<h2>Corrindo campo Notas</h2>"
   ]
  },
  {
   "cell_type": "code",
   "execution_count": 52,
   "metadata": {
    "collapsed": false
   },
   "outputs": [
    {
     "data": {
      "text/plain": [
       "array(['6.70', '10.00', '0.00', '1.30', '8.00', '0.50', '6.60', '0.70',\n",
       "       '06/10/2016', '8.80', '09/10/2016', '6.00', '7.20', '7.30', '7.00',\n",
       "       '7.50', '7.60', '8.50', '6.50', '5.70', '5.20', '7.90',\n",
       "       '08/10/2016', '07/10/2016', '9.50', '7.70', '6.20', '5.00', '4.20',\n",
       "       '5.60', '5.30', '5.80', '5.40', '9.70', '2.60', '9.00',\n",
       "       '05/10/2016', '1.00', '5.90', '5.50', '1.50', '6.90', '7.80',\n",
       "       '6.30', '6.80', '4.50', '6.40', '7.40', '9.60', '9.40', '8.90',\n",
       "       '8.60', '3.20', '0.80', '8.40', '8.30', nan, '9.20', '4.80', '3.30',\n",
       "       '3.50', '3.70', '2.30', '2.70', '8.70', '2.00', '9.80', '3.90',\n",
       "       '2.50', '3.80', '9.90', '0.30', '4.60', '4.00', '1.40', '1.20',\n",
       "       '1.90', '0.90', '1.80', '3.60', '01/10/2016', '1.60', '8.20',\n",
       "       '2.20', '2.80', '9.30', '0.40', '0.10', '2.40', '4.70', '0.20',\n",
       "       '4.40', '04/10/2016', '3.00', '4.90', '4.30', '1.70', '2.90',\n",
       "       '3.40', '03/10/2016', '0.60', '02/10/2016', '80.00', '60.00'], dtype=object)"
      ]
     },
     "execution_count": 52,
     "metadata": {},
     "output_type": "execute_result"
    }
   ],
   "source": [
    "df.NOTAS.unique()"
   ]
  },
  {
   "cell_type": "code",
   "execution_count": 53,
   "metadata": {
    "collapsed": false
   },
   "outputs": [
    {
     "data": {
      "text/plain": [
       "array([  6.7,  10. ,   0. ,   1.3,   8. ,   0.5,   6.6,   0.7,   8.8,\n",
       "         6. ,   7.2,   7.3,   7. ,   7.5,   7.6,   8.5,   6.5,   5.7,\n",
       "         5.2,   7.9,   9.5,   7.7,   6.2,   5. ,   4.2,   5.6,   5.3,\n",
       "         5.8,   5.4,   9.7,   2.6,   9. ,   1. ,   5.9,   5.5,   1.5,\n",
       "         6.9,   7.8,   6.3,   6.8,   4.5,   6.4,   7.4,   9.6,   9.4,\n",
       "         8.9,   8.6,   3.2,   0.8,   8.4,   8.3,   9.2,   4.8,   3.3,\n",
       "         3.5,   3.7,   2.3,   2.7,   8.7,   2. ,   9.8,   3.9,   2.5,\n",
       "         3.8,   9.9,   0.3,   4.6,   4. ,   1.4,   1.2,   1.9,   0.9,\n",
       "         1.8,   3.6,   1.6,   8.2,   2.2,   2.8,   9.3,   0.4,   0.1,\n",
       "         2.4,   4.7,   0.2,   4.4,   3. ,   4.9,   4.3,   1.7,   2.9,\n",
       "         3.4,   0.6,  80. ,  60. ])"
      ]
     },
     "execution_count": 53,
     "metadata": {},
     "output_type": "execute_result"
    }
   ],
   "source": [
    "df.drop(df[df.NOTAS.str.contains(\"/\", na=False)].index, inplace=True)\n",
    "\n",
    "df.NOTAS = df.NOTAS.astype('float64')\n",
    "\n",
    "df.loc[df.NOTAS.isnull(), 'NOTAS'] = 0\n",
    "\n",
    "df.NOTAS.unique()"
   ]
  },
  {
   "cell_type": "code",
   "execution_count": 54,
   "metadata": {
    "collapsed": false
   },
   "outputs": [
    {
     "data": {
      "text/plain": [
       "array([  6.7,  10. ,   0. ,   1.3,   8. ,   0.5,   6.6,   0.7,   8.8,\n",
       "         6. ,   7.2,   7.3,   7. ,   7.5,   7.6,   8.5,   6.5,   5.7,\n",
       "         5.2,   7.9,   9.5,   7.7,   6.2,   5. ,   4.2,   5.6,   5.3,\n",
       "         5.8,   5.4,   9.7,   2.6,   9. ,   1. ,   5.9,   5.5,   1.5,\n",
       "         6.9,   7.8,   6.3,   6.8,   4.5,   6.4,   7.4,   9.6,   9.4,\n",
       "         8.9,   8.6,   3.2,   0.8,   8.4,   8.3,   9.2,   4.8,   3.3,\n",
       "         3.5,   3.7,   2.3,   2.7,   8.7,   2. ,   9.8,   3.9,   2.5,\n",
       "         3.8,   9.9,   0.3,   4.6,   4. ,   1.4,   1.2,   1.9,   0.9,\n",
       "         1.8,   3.6,   1.6,   8.2,   2.2,   2.8,   9.3,   0.4,   0.1,\n",
       "         2.4,   4.7,   0.2,   4.4,   3. ,   4.9,   4.3,   1.7,   2.9,\n",
       "         3.4,   0.6])"
      ]
     },
     "execution_count": 54,
     "metadata": {},
     "output_type": "execute_result"
    }
   ],
   "source": [
    "def maior_que_dez(x):\n",
    "    if(x>10):\n",
    "        return x/10\n",
    "    else:\n",
    "        return x\n",
    "\n",
    "    \n",
    "df.NOTAS = df.loc[:,'NOTAS'].apply(maior_que_dez)  \n",
    "\n",
    "df.NOTAS.unique()"
   ]
  },
  {
   "cell_type": "code",
   "execution_count": 55,
   "metadata": {
    "collapsed": false
   },
   "outputs": [
    {
     "data": {
      "text/plain": [
       "Index([u'SIT_MATRICULA', u'RENDA_FAMILIAR', u'TIPO_ESCOLA_ORIGEM',\n",
       "       u'ANO_CONCLUSAO_2_GRAU', u'COD_ESTADO_CIVIL', u'N_FILHOS', u'SEXO',\n",
       "       u'PROFISSAO', u'DESC_CIDADE', u'DESC_ESTADO', u'DESC_IDIOMA',\n",
       "       u'NIVEL_FALA', u'NIVEL_COMPREENSAO', u'NIVEL_ESCRITA', u'NIVEL_LEITURA',\n",
       "       u'NOTAS', u'N_FALTAS', u'COD_DISCIPLINA', u'CARGA_HOR', u'ANO_INGRESSO',\n",
       "       u'IDADE_INGRESSO'],\n",
       "      dtype='object')"
      ]
     },
     "execution_count": 55,
     "metadata": {},
     "output_type": "execute_result"
    }
   ],
   "source": [
    "df.columns"
   ]
  },
  {
   "cell_type": "code",
   "execution_count": 56,
   "metadata": {
    "collapsed": false
   },
   "outputs": [
    {
     "data": {
      "text/html": [
       "<div>\n",
       "<table border=\"1\" class=\"dataframe\">\n",
       "  <thead>\n",
       "    <tr style=\"text-align: right;\">\n",
       "      <th></th>\n",
       "      <th>SIT_MATRICULA</th>\n",
       "      <th>RENDA_FAMILIAR</th>\n",
       "      <th>ANO_CONCLUSAO_2_GRAU</th>\n",
       "      <th>N_FILHOS</th>\n",
       "      <th>NIVEL_FALA</th>\n",
       "      <th>NIVEL_COMPREENSAO</th>\n",
       "      <th>NIVEL_ESCRITA</th>\n",
       "      <th>NIVEL_LEITURA</th>\n",
       "      <th>NOTAS</th>\n",
       "      <th>N_FALTAS</th>\n",
       "      <th>COD_DISCIPLINA</th>\n",
       "      <th>CARGA_HOR</th>\n",
       "      <th>ANO_INGRESSO</th>\n",
       "      <th>IDADE_INGRESSO</th>\n",
       "    </tr>\n",
       "  </thead>\n",
       "  <tbody>\n",
       "    <tr>\n",
       "      <th>count</th>\n",
       "      <td>19497.000000</td>\n",
       "      <td>19497.000000</td>\n",
       "      <td>19497.000000</td>\n",
       "      <td>9349.000000</td>\n",
       "      <td>11244.000000</td>\n",
       "      <td>11244.000000</td>\n",
       "      <td>11244.000000</td>\n",
       "      <td>11244.000000</td>\n",
       "      <td>19497.000000</td>\n",
       "      <td>17340.000000</td>\n",
       "      <td>19497.000000</td>\n",
       "      <td>19497.000000</td>\n",
       "      <td>19497.000000</td>\n",
       "      <td>19497.000000</td>\n",
       "    </tr>\n",
       "    <tr>\n",
       "      <th>mean</th>\n",
       "      <td>0.325794</td>\n",
       "      <td>2.463558</td>\n",
       "      <td>2007.380520</td>\n",
       "      <td>0.105359</td>\n",
       "      <td>1.755336</td>\n",
       "      <td>1.992085</td>\n",
       "      <td>1.810832</td>\n",
       "      <td>2.162753</td>\n",
       "      <td>6.076961</td>\n",
       "      <td>9.971107</td>\n",
       "      <td>10198.869467</td>\n",
       "      <td>51.861825</td>\n",
       "      <td>2010.867672</td>\n",
       "      <td>21.146843</td>\n",
       "    </tr>\n",
       "    <tr>\n",
       "      <th>std</th>\n",
       "      <td>0.468683</td>\n",
       "      <td>1.973542</td>\n",
       "      <td>4.223179</td>\n",
       "      <td>0.484375</td>\n",
       "      <td>0.756597</td>\n",
       "      <td>0.750006</td>\n",
       "      <td>0.732994</td>\n",
       "      <td>0.739609</td>\n",
       "      <td>2.939423</td>\n",
       "      <td>17.284984</td>\n",
       "      <td>4476.830247</td>\n",
       "      <td>15.240430</td>\n",
       "      <td>1.988872</td>\n",
       "      <td>5.103899</td>\n",
       "    </tr>\n",
       "    <tr>\n",
       "      <th>min</th>\n",
       "      <td>0.000000</td>\n",
       "      <td>0.000000</td>\n",
       "      <td>1973.000000</td>\n",
       "      <td>0.000000</td>\n",
       "      <td>1.000000</td>\n",
       "      <td>1.000000</td>\n",
       "      <td>1.000000</td>\n",
       "      <td>1.000000</td>\n",
       "      <td>0.000000</td>\n",
       "      <td>0.000000</td>\n",
       "      <td>648.000000</td>\n",
       "      <td>27.000000</td>\n",
       "      <td>2008.000000</td>\n",
       "      <td>16.000000</td>\n",
       "    </tr>\n",
       "    <tr>\n",
       "      <th>25%</th>\n",
       "      <td>0.000000</td>\n",
       "      <td>0.000000</td>\n",
       "      <td>2006.000000</td>\n",
       "      <td>NaN</td>\n",
       "      <td>NaN</td>\n",
       "      <td>NaN</td>\n",
       "      <td>NaN</td>\n",
       "      <td>NaN</td>\n",
       "      <td>5.300000</td>\n",
       "      <td>NaN</td>\n",
       "      <td>8587.000000</td>\n",
       "      <td>54.000000</td>\n",
       "      <td>2009.000000</td>\n",
       "      <td>18.000000</td>\n",
       "    </tr>\n",
       "    <tr>\n",
       "      <th>50%</th>\n",
       "      <td>0.000000</td>\n",
       "      <td>4.000000</td>\n",
       "      <td>2008.000000</td>\n",
       "      <td>NaN</td>\n",
       "      <td>NaN</td>\n",
       "      <td>NaN</td>\n",
       "      <td>NaN</td>\n",
       "      <td>NaN</td>\n",
       "      <td>6.900000</td>\n",
       "      <td>NaN</td>\n",
       "      <td>9111.000000</td>\n",
       "      <td>54.000000</td>\n",
       "      <td>2011.000000</td>\n",
       "      <td>19.000000</td>\n",
       "    </tr>\n",
       "    <tr>\n",
       "      <th>75%</th>\n",
       "      <td>1.000000</td>\n",
       "      <td>4.000000</td>\n",
       "      <td>2010.000000</td>\n",
       "      <td>NaN</td>\n",
       "      <td>NaN</td>\n",
       "      <td>NaN</td>\n",
       "      <td>NaN</td>\n",
       "      <td>NaN</td>\n",
       "      <td>8.000000</td>\n",
       "      <td>NaN</td>\n",
       "      <td>9134.000000</td>\n",
       "      <td>54.000000</td>\n",
       "      <td>2012.000000</td>\n",
       "      <td>22.000000</td>\n",
       "    </tr>\n",
       "    <tr>\n",
       "      <th>max</th>\n",
       "      <td>1.000000</td>\n",
       "      <td>6.000000</td>\n",
       "      <td>2015.000000</td>\n",
       "      <td>4.000000</td>\n",
       "      <td>3.000000</td>\n",
       "      <td>3.000000</td>\n",
       "      <td>3.000000</td>\n",
       "      <td>3.000000</td>\n",
       "      <td>10.000000</td>\n",
       "      <td>120.000000</td>\n",
       "      <td>24371.000000</td>\n",
       "      <td>81.000000</td>\n",
       "      <td>2016.000000</td>\n",
       "      <td>56.000000</td>\n",
       "    </tr>\n",
       "  </tbody>\n",
       "</table>\n",
       "</div>"
      ],
      "text/plain": [
       "       SIT_MATRICULA  RENDA_FAMILIAR  ANO_CONCLUSAO_2_GRAU     N_FILHOS  \\\n",
       "count   19497.000000    19497.000000          19497.000000  9349.000000   \n",
       "mean        0.325794        2.463558           2007.380520     0.105359   \n",
       "std         0.468683        1.973542              4.223179     0.484375   \n",
       "min         0.000000        0.000000           1973.000000     0.000000   \n",
       "25%         0.000000        0.000000           2006.000000          NaN   \n",
       "50%         0.000000        4.000000           2008.000000          NaN   \n",
       "75%         1.000000        4.000000           2010.000000          NaN   \n",
       "max         1.000000        6.000000           2015.000000     4.000000   \n",
       "\n",
       "         NIVEL_FALA  NIVEL_COMPREENSAO  NIVEL_ESCRITA  NIVEL_LEITURA  \\\n",
       "count  11244.000000       11244.000000   11244.000000   11244.000000   \n",
       "mean       1.755336           1.992085       1.810832       2.162753   \n",
       "std        0.756597           0.750006       0.732994       0.739609   \n",
       "min        1.000000           1.000000       1.000000       1.000000   \n",
       "25%             NaN                NaN            NaN            NaN   \n",
       "50%             NaN                NaN            NaN            NaN   \n",
       "75%             NaN                NaN            NaN            NaN   \n",
       "max        3.000000           3.000000       3.000000       3.000000   \n",
       "\n",
       "              NOTAS      N_FALTAS  COD_DISCIPLINA     CARGA_HOR  ANO_INGRESSO  \\\n",
       "count  19497.000000  17340.000000    19497.000000  19497.000000  19497.000000   \n",
       "mean       6.076961      9.971107    10198.869467     51.861825   2010.867672   \n",
       "std        2.939423     17.284984     4476.830247     15.240430      1.988872   \n",
       "min        0.000000      0.000000      648.000000     27.000000   2008.000000   \n",
       "25%        5.300000           NaN     8587.000000     54.000000   2009.000000   \n",
       "50%        6.900000           NaN     9111.000000     54.000000   2011.000000   \n",
       "75%        8.000000           NaN     9134.000000     54.000000   2012.000000   \n",
       "max       10.000000    120.000000    24371.000000     81.000000   2016.000000   \n",
       "\n",
       "       IDADE_INGRESSO  \n",
       "count    19497.000000  \n",
       "mean        21.146843  \n",
       "std          5.103899  \n",
       "min         16.000000  \n",
       "25%         18.000000  \n",
       "50%         19.000000  \n",
       "75%         22.000000  \n",
       "max         56.000000  "
      ]
     },
     "execution_count": 56,
     "metadata": {},
     "output_type": "execute_result"
    }
   ],
   "source": [
    "df.describe()"
   ]
  },
  {
   "cell_type": "markdown",
   "metadata": {},
   "source": [
    "<h2>Níveis das Linguas Estrangeiras</h2>"
   ]
  },
  {
   "cell_type": "markdown",
   "metadata": {},
   "source": [
    "<p>1. Inglês, 2. Espanhol, 3. Francês</p>"
   ]
  },
  {
   "cell_type": "code",
   "execution_count": 57,
   "metadata": {
    "collapsed": false
   },
   "outputs": [
    {
     "data": {
      "text/plain": [
       "array([  1.,   2.,  nan,   3.])"
      ]
     },
     "execution_count": 57,
     "metadata": {},
     "output_type": "execute_result"
    }
   ],
   "source": [
    "df.NIVEL_FALA.unique()"
   ]
  },
  {
   "cell_type": "markdown",
   "metadata": {},
   "source": [
    "<p>Binarização: 1. Fala outra Lingua, 0. Não fala outra lingua</p>"
   ]
  },
  {
   "cell_type": "code",
   "execution_count": 58,
   "metadata": {
    "collapsed": false
   },
   "outputs": [
    {
     "data": {
      "text/plain": [
       "array([1, 0])"
      ]
     },
     "execution_count": 58,
     "metadata": {},
     "output_type": "execute_result"
    }
   ],
   "source": [
    "df.loc[df.NIVEL_FALA.notnull(), 'NIVEL_FALA'] = 1\n",
    "df.loc[df.NIVEL_FALA.isnull(),'NIVEL_FALA'] = 0\n",
    "\n",
    "df.NIVEL_FALA = df.NIVEL_FALA.astype('int64')\n",
    "df.NIVEL_FALA.unique()"
   ]
  },
  {
   "cell_type": "code",
   "execution_count": 59,
   "metadata": {
    "collapsed": false
   },
   "outputs": [
    {
     "data": {
      "text/plain": [
       "array([1, 0])"
      ]
     },
     "execution_count": 59,
     "metadata": {},
     "output_type": "execute_result"
    }
   ],
   "source": [
    "df.loc[df.NIVEL_COMPREENSAO.notnull(), 'NIVEL_COMPREENSAO'] = 1\n",
    "df.loc[df.NIVEL_COMPREENSAO.isnull(),'NIVEL_COMPREENSAO'] = 0\n",
    "\n",
    "df.NIVEL_COMPREENSAO = df.NIVEL_COMPREENSAO.astype('int64')\n",
    "df.NIVEL_COMPREENSAO.unique()"
   ]
  },
  {
   "cell_type": "code",
   "execution_count": 60,
   "metadata": {
    "collapsed": false
   },
   "outputs": [
    {
     "data": {
      "text/plain": [
       "array([1, 0])"
      ]
     },
     "execution_count": 60,
     "metadata": {},
     "output_type": "execute_result"
    }
   ],
   "source": [
    "df.loc[df.NIVEL_ESCRITA.notnull(), 'NIVEL_ESCRITA'] = 1\n",
    "df.loc[df.NIVEL_ESCRITA.isnull(),'NIVEL_ESCRITA'] = 0\n",
    "\n",
    "df.NIVEL_ESCRITA = df.NIVEL_ESCRITA.astype('int64')\n",
    "df.NIVEL_ESCRITA.unique()"
   ]
  },
  {
   "cell_type": "code",
   "execution_count": 61,
   "metadata": {
    "collapsed": false
   },
   "outputs": [
    {
     "data": {
      "text/plain": [
       "array([1, 0])"
      ]
     },
     "execution_count": 61,
     "metadata": {},
     "output_type": "execute_result"
    }
   ],
   "source": [
    "df.loc[df.NIVEL_LEITURA.notnull(), 'NIVEL_LEITURA'] = 1\n",
    "df.loc[df.NIVEL_LEITURA.isnull(),'NIVEL_LEITURA'] = 0\n",
    "\n",
    "df.NIVEL_LEITURA = df.NIVEL_LEITURA.astype('int64')\n",
    "df.NIVEL_LEITURA.unique()"
   ]
  },
  {
   "cell_type": "code",
   "execution_count": 62,
   "metadata": {
    "collapsed": false
   },
   "outputs": [
    {
     "data": {
      "text/plain": [
       "Index([u'SIT_MATRICULA', u'RENDA_FAMILIAR', u'TIPO_ESCOLA_ORIGEM',\n",
       "       u'ANO_CONCLUSAO_2_GRAU', u'COD_ESTADO_CIVIL', u'N_FILHOS', u'SEXO',\n",
       "       u'PROFISSAO', u'DESC_CIDADE', u'DESC_ESTADO', u'DESC_IDIOMA',\n",
       "       u'NIVEL_FALA', u'NIVEL_COMPREENSAO', u'NIVEL_ESCRITA', u'NIVEL_LEITURA',\n",
       "       u'NOTAS', u'N_FALTAS', u'COD_DISCIPLINA', u'CARGA_HOR', u'ANO_INGRESSO',\n",
       "       u'IDADE_INGRESSO'],\n",
       "      dtype='object')"
      ]
     },
     "execution_count": 62,
     "metadata": {},
     "output_type": "execute_result"
    }
   ],
   "source": [
    "df.columns"
   ]
  },
  {
   "cell_type": "markdown",
   "metadata": {},
   "source": [
    "<h2>Código da Disciplina</h2>"
   ]
  },
  {
   "cell_type": "markdown",
   "metadata": {},
   "source": [
    "<p>Identificador causa ruído</p>"
   ]
  },
  {
   "cell_type": "code",
   "execution_count": 63,
   "metadata": {
    "collapsed": false
   },
   "outputs": [
    {
     "data": {
      "text/html": [
       "<div>\n",
       "<table border=\"1\" class=\"dataframe\">\n",
       "  <thead>\n",
       "    <tr style=\"text-align: right;\">\n",
       "      <th></th>\n",
       "      <th>SIT_MATRICULA</th>\n",
       "      <th>RENDA_FAMILIAR</th>\n",
       "      <th>ANO_CONCLUSAO_2_GRAU</th>\n",
       "      <th>N_FILHOS</th>\n",
       "      <th>NIVEL_FALA</th>\n",
       "      <th>NIVEL_COMPREENSAO</th>\n",
       "      <th>NIVEL_ESCRITA</th>\n",
       "      <th>NIVEL_LEITURA</th>\n",
       "      <th>NOTAS</th>\n",
       "      <th>N_FALTAS</th>\n",
       "      <th>CARGA_HOR</th>\n",
       "      <th>ANO_INGRESSO</th>\n",
       "      <th>IDADE_INGRESSO</th>\n",
       "    </tr>\n",
       "  </thead>\n",
       "  <tbody>\n",
       "    <tr>\n",
       "      <th>count</th>\n",
       "      <td>19497.000000</td>\n",
       "      <td>19497.000000</td>\n",
       "      <td>19497.000000</td>\n",
       "      <td>9349.000000</td>\n",
       "      <td>19497.000000</td>\n",
       "      <td>19497.000000</td>\n",
       "      <td>19497.000000</td>\n",
       "      <td>19497.000000</td>\n",
       "      <td>19497.000000</td>\n",
       "      <td>17340.000000</td>\n",
       "      <td>19497.000000</td>\n",
       "      <td>19497.000000</td>\n",
       "      <td>19497.000000</td>\n",
       "    </tr>\n",
       "    <tr>\n",
       "      <th>mean</th>\n",
       "      <td>0.325794</td>\n",
       "      <td>2.463558</td>\n",
       "      <td>2007.380520</td>\n",
       "      <td>0.105359</td>\n",
       "      <td>0.576704</td>\n",
       "      <td>0.576704</td>\n",
       "      <td>0.576704</td>\n",
       "      <td>0.576704</td>\n",
       "      <td>6.076961</td>\n",
       "      <td>9.971107</td>\n",
       "      <td>51.861825</td>\n",
       "      <td>2010.867672</td>\n",
       "      <td>21.146843</td>\n",
       "    </tr>\n",
       "    <tr>\n",
       "      <th>std</th>\n",
       "      <td>0.468683</td>\n",
       "      <td>1.973542</td>\n",
       "      <td>4.223179</td>\n",
       "      <td>0.484375</td>\n",
       "      <td>0.494094</td>\n",
       "      <td>0.494094</td>\n",
       "      <td>0.494094</td>\n",
       "      <td>0.494094</td>\n",
       "      <td>2.939423</td>\n",
       "      <td>17.284984</td>\n",
       "      <td>15.240430</td>\n",
       "      <td>1.988872</td>\n",
       "      <td>5.103899</td>\n",
       "    </tr>\n",
       "    <tr>\n",
       "      <th>min</th>\n",
       "      <td>0.000000</td>\n",
       "      <td>0.000000</td>\n",
       "      <td>1973.000000</td>\n",
       "      <td>0.000000</td>\n",
       "      <td>0.000000</td>\n",
       "      <td>0.000000</td>\n",
       "      <td>0.000000</td>\n",
       "      <td>0.000000</td>\n",
       "      <td>0.000000</td>\n",
       "      <td>0.000000</td>\n",
       "      <td>27.000000</td>\n",
       "      <td>2008.000000</td>\n",
       "      <td>16.000000</td>\n",
       "    </tr>\n",
       "    <tr>\n",
       "      <th>25%</th>\n",
       "      <td>0.000000</td>\n",
       "      <td>0.000000</td>\n",
       "      <td>2006.000000</td>\n",
       "      <td>NaN</td>\n",
       "      <td>0.000000</td>\n",
       "      <td>0.000000</td>\n",
       "      <td>0.000000</td>\n",
       "      <td>0.000000</td>\n",
       "      <td>5.300000</td>\n",
       "      <td>NaN</td>\n",
       "      <td>54.000000</td>\n",
       "      <td>2009.000000</td>\n",
       "      <td>18.000000</td>\n",
       "    </tr>\n",
       "    <tr>\n",
       "      <th>50%</th>\n",
       "      <td>0.000000</td>\n",
       "      <td>4.000000</td>\n",
       "      <td>2008.000000</td>\n",
       "      <td>NaN</td>\n",
       "      <td>1.000000</td>\n",
       "      <td>1.000000</td>\n",
       "      <td>1.000000</td>\n",
       "      <td>1.000000</td>\n",
       "      <td>6.900000</td>\n",
       "      <td>NaN</td>\n",
       "      <td>54.000000</td>\n",
       "      <td>2011.000000</td>\n",
       "      <td>19.000000</td>\n",
       "    </tr>\n",
       "    <tr>\n",
       "      <th>75%</th>\n",
       "      <td>1.000000</td>\n",
       "      <td>4.000000</td>\n",
       "      <td>2010.000000</td>\n",
       "      <td>NaN</td>\n",
       "      <td>1.000000</td>\n",
       "      <td>1.000000</td>\n",
       "      <td>1.000000</td>\n",
       "      <td>1.000000</td>\n",
       "      <td>8.000000</td>\n",
       "      <td>NaN</td>\n",
       "      <td>54.000000</td>\n",
       "      <td>2012.000000</td>\n",
       "      <td>22.000000</td>\n",
       "    </tr>\n",
       "    <tr>\n",
       "      <th>max</th>\n",
       "      <td>1.000000</td>\n",
       "      <td>6.000000</td>\n",
       "      <td>2015.000000</td>\n",
       "      <td>4.000000</td>\n",
       "      <td>1.000000</td>\n",
       "      <td>1.000000</td>\n",
       "      <td>1.000000</td>\n",
       "      <td>1.000000</td>\n",
       "      <td>10.000000</td>\n",
       "      <td>120.000000</td>\n",
       "      <td>81.000000</td>\n",
       "      <td>2016.000000</td>\n",
       "      <td>56.000000</td>\n",
       "    </tr>\n",
       "  </tbody>\n",
       "</table>\n",
       "</div>"
      ],
      "text/plain": [
       "       SIT_MATRICULA  RENDA_FAMILIAR  ANO_CONCLUSAO_2_GRAU     N_FILHOS  \\\n",
       "count   19497.000000    19497.000000          19497.000000  9349.000000   \n",
       "mean        0.325794        2.463558           2007.380520     0.105359   \n",
       "std         0.468683        1.973542              4.223179     0.484375   \n",
       "min         0.000000        0.000000           1973.000000     0.000000   \n",
       "25%         0.000000        0.000000           2006.000000          NaN   \n",
       "50%         0.000000        4.000000           2008.000000          NaN   \n",
       "75%         1.000000        4.000000           2010.000000          NaN   \n",
       "max         1.000000        6.000000           2015.000000     4.000000   \n",
       "\n",
       "         NIVEL_FALA  NIVEL_COMPREENSAO  NIVEL_ESCRITA  NIVEL_LEITURA  \\\n",
       "count  19497.000000       19497.000000   19497.000000   19497.000000   \n",
       "mean       0.576704           0.576704       0.576704       0.576704   \n",
       "std        0.494094           0.494094       0.494094       0.494094   \n",
       "min        0.000000           0.000000       0.000000       0.000000   \n",
       "25%        0.000000           0.000000       0.000000       0.000000   \n",
       "50%        1.000000           1.000000       1.000000       1.000000   \n",
       "75%        1.000000           1.000000       1.000000       1.000000   \n",
       "max        1.000000           1.000000       1.000000       1.000000   \n",
       "\n",
       "              NOTAS      N_FALTAS     CARGA_HOR  ANO_INGRESSO  IDADE_INGRESSO  \n",
       "count  19497.000000  17340.000000  19497.000000  19497.000000    19497.000000  \n",
       "mean       6.076961      9.971107     51.861825   2010.867672       21.146843  \n",
       "std        2.939423     17.284984     15.240430      1.988872        5.103899  \n",
       "min        0.000000      0.000000     27.000000   2008.000000       16.000000  \n",
       "25%        5.300000           NaN     54.000000   2009.000000       18.000000  \n",
       "50%        6.900000           NaN     54.000000   2011.000000       19.000000  \n",
       "75%        8.000000           NaN     54.000000   2012.000000       22.000000  \n",
       "max       10.000000    120.000000     81.000000   2016.000000       56.000000  "
      ]
     },
     "execution_count": 63,
     "metadata": {},
     "output_type": "execute_result"
    }
   ],
   "source": [
    "df.drop('COD_DISCIPLINA', axis=1, inplace=True)\n",
    "df.describe()"
   ]
  },
  {
   "cell_type": "markdown",
   "metadata": {},
   "source": [
    "<h2>Profissão do Aluno</h2>"
   ]
  },
  {
   "cell_type": "code",
   "execution_count": 64,
   "metadata": {
    "collapsed": false
   },
   "outputs": [
    {
     "data": {
      "text/plain": [
       "array([nan, 'Estudante', 'T\\xc3\\xa9cnico',\n",
       "       'T\\xc3\\xa9cnico em Telecomunica\\xc3\\xa7\\xc3\\xb5es',\n",
       "       'T\\xc3\\xa9cnico em Eletromec\\xc3\\xa2nica', 'F\\xc3\\xadsico',\n",
       "       'Agente Administrativo', 'ESTUDANTE', 'Militar',\n",
       "       'Operador de Telemarketing', 'Eletricista', 'Instrumentista',\n",
       "       'Professor', 'FUNCIONARIO PUBLICO', 'Designer Gr\\xc3\\xa1fico',\n",
       "       'Tecn\\xc3\\xb3logo', 'Outros', 'Empres\\xc3\\xa1ria', 'ATENDENTE',\n",
       "       'Autonomo', 'Eletrot\\xc3\\xa9cnico', 'Especialista T\\xc3\\xa9cnico',\n",
       "       'Administrador de Redes', 'Programador',\n",
       "       'Manipulador de Fotografia', 'Comerciante',\n",
       "       'T\\xc3\\xa9cnico em Eletr\\xc3\\xb4nica', 'Analista de Suporte',\n",
       "       'Agrimensor(a)', 'T\\xc3\\xa9cnico em Inform\\xc3\\xa1tica',\n",
       "       'Funcionario Publico', 'M\\xc3\\x9aSICO', 'Aut\\xc3\\xb4noma',\n",
       "       'Engenheiro de Produ\\xc3\\xa7\\xc3\\xa3o', 'Representante Comercial',\n",
       "       'T\\xc3\\x89CNICO EM INFORM\\xc3\\x81TICA', 'AUTONOMO', 'COBRADOR',\n",
       "       'T\\xc3\\xa9cnico em Mec\\xc3\\xa2nica', 'Aux. Administrativo',\n",
       "       'ENGENHEIRO EL\\xc3\\x89TRICO',\n",
       "       'T\\xc3\\xa9cnico em Eletrot\\xc3\\xa9cnica', 'PROFESSOR',\n",
       "       'CALL CENTER', 'Desenhista', 'ELETRICISTA',\n",
       "       'Servidor(a) P\\xc3\\xbablico(a)', 'COMERCIANTE', 'Mec\\xc3\\xa2nico',\n",
       "       'Ge\\xc3\\xb3grafa', 'Engenheiro El\\xc3\\xa9trico',\n",
       "       'SERVIDOR(A) P\\xc3\\x9aBLICO(A)', 'AUX. ADMINISTRATIVO',\n",
       "       'T\\xc3\\xa9cnico Qu\\xc3\\xadmico', 'TECN\\xc3\\x93LOGO',\n",
       "       'Engenheiro Agron\\xc3\\xb4mo', 'Projetista Civil'], dtype=object)"
      ]
     },
     "execution_count": 64,
     "metadata": {},
     "output_type": "execute_result"
    }
   ],
   "source": [
    "df.PROFISSAO.unique()"
   ]
  },
  {
   "cell_type": "markdown",
   "metadata": {},
   "source": [
    "<p>\n",
    "Binarização <br>\n",
    "Profissão = 1. TRABALHA <br>\n",
    "Profissão = 0. NAO TRABALHA\n",
    "</p>"
   ]
  },
  {
   "cell_type": "code",
   "execution_count": 65,
   "metadata": {
    "collapsed": false
   },
   "outputs": [
    {
     "data": {
      "text/plain": [
       "array([0, 1], dtype=object)"
      ]
     },
     "execution_count": 65,
     "metadata": {},
     "output_type": "execute_result"
    }
   ],
   "source": [
    "df.loc[df.PROFISSAO == 'Estudante', 'PROFISSAO'] = 0\n",
    "df.loc[df.PROFISSAO == 'ESTUDANTE', 'PROFISSAO'] = 0\n",
    "\n",
    "df.loc[df.PROFISSAO.notnull(),'PROFISSAO'] = 1\n",
    "df.loc[df.PROFISSAO.isnull(),'PROFISSAO'] = 0\n",
    "\n",
    "df.PROFISSAO.unique()"
   ]
  },
  {
   "cell_type": "markdown",
   "metadata": {},
   "source": [
    "<h2>Avaliando se o Aluno foi Aprovado ou Reprovado</h2>"
   ]
  },
  {
   "cell_type": "markdown",
   "metadata": {},
   "source": [
    "<p>Verificando dados de número de faltas </p>"
   ]
  },
  {
   "cell_type": "code",
   "execution_count": 66,
   "metadata": {
    "collapsed": false
   },
   "outputs": [
    {
     "data": {
      "text/plain": [
       "0     NaN\n",
       "1     NaN\n",
       "2     NaN\n",
       "3    70.0\n",
       "4    70.0\n",
       "Name: N_FALTAS, dtype: float64"
      ]
     },
     "execution_count": 66,
     "metadata": {},
     "output_type": "execute_result"
    }
   ],
   "source": [
    "df.N_FALTAS.head()"
   ]
  },
  {
   "cell_type": "code",
   "execution_count": 67,
   "metadata": {
    "collapsed": false
   },
   "outputs": [
    {
     "data": {
      "text/plain": [
       "array([  nan,   70.,    8.,   10.,   12.,    4.,    0.,   66.,    2.,\n",
       "         68.,   56.,   22.,   64.,   26.,   20.,    6.,   46.,   74.,\n",
       "         28.,   32.,   42.,   40.,   60.,   62.,   44.,   72.,   30.,\n",
       "         18.,   24.,   16.,    7.,   14.,   48.,   38.,    3.,   27.,\n",
       "         57.,   21.,   34.,   36.,   58.,   17.,   13.,   50.,   86.,\n",
       "         19.,   23.,   65.,   76.,   15.,    9.,   61.,    5.,   11.,\n",
       "         52.,   71.,   63.,    1.,   54.,   78.,  100.,  108.,   55.,\n",
       "         81.,  102.,   41.,   31.,   51.,   35.,   88.,   96.,   99.,\n",
       "         79.,   98.,   94.,  104.,   80.,   82.,   77.,  114.,   84.,\n",
       "        110.,  112.,   90.,   25.,   37.,   39.,   47.,   33.,   75.,\n",
       "        120.,   29.,   73.,   92.,   67.,  106.,   69.])"
      ]
     },
     "execution_count": 67,
     "metadata": {},
     "output_type": "execute_result"
    }
   ],
   "source": [
    "df.N_FALTAS.unique()"
   ]
  },
  {
   "cell_type": "code",
   "execution_count": 68,
   "metadata": {
    "collapsed": false
   },
   "outputs": [
    {
     "data": {
      "text/plain": [
       "array([   0.,   70.,    8.,   10.,   12.,    4.,   66.,    2.,   68.,\n",
       "         56.,   22.,   64.,   26.,   20.,    6.,   46.,   74.,   28.,\n",
       "         32.,   42.,   40.,   60.,   62.,   44.,   72.,   30.,   18.,\n",
       "         24.,   16.,    7.,   14.,   48.,   38.,    3.,   27.,   57.,\n",
       "         21.,   34.,   36.,   58.,   17.,   13.,   50.,   86.,   19.,\n",
       "         23.,   65.,   76.,   15.,    9.,   61.,    5.,   11.,   52.,\n",
       "         71.,   63.,    1.,   54.,   78.,  100.,  108.,   55.,   81.,\n",
       "        102.,   41.,   31.,   51.,   35.,   88.,   96.,   99.,   79.,\n",
       "         98.,   94.,  104.,   80.,   82.,   77.,  114.,   84.,  110.,\n",
       "        112.,   90.,   25.,   37.,   39.,   47.,   33.,   75.,  120.,\n",
       "         29.,   73.,   92.,   67.,  106.,   69.])"
      ]
     },
     "execution_count": 68,
     "metadata": {},
     "output_type": "execute_result"
    }
   ],
   "source": [
    "df.loc[df.N_FALTAS.isnull(),'N_FALTAS'] = 0\n",
    "df.N_FALTAS.unique()"
   ]
  },
  {
   "cell_type": "markdown",
   "metadata": {},
   "source": [
    "<p>Verificando dados de carga horária </p>"
   ]
  },
  {
   "cell_type": "code",
   "execution_count": 69,
   "metadata": {
    "collapsed": false
   },
   "outputs": [
    {
     "data": {
      "text/plain": [
       "array([54, 81, 27])"
      ]
     },
     "execution_count": 69,
     "metadata": {},
     "output_type": "execute_result"
    }
   ],
   "source": [
    "df.CARGA_HOR.unique()"
   ]
  },
  {
   "cell_type": "markdown",
   "metadata": {},
   "source": [
    "<p>\n",
    "Criando nova coluna binária <br>\n",
    "1. Aprovado e 0. Reprovado</p>\n",
    "\n",
    "<p>Uma hora igual a 60 minutos e uma aula igual a 45 minutos</p>"
   ]
  },
  {
   "cell_type": "code",
   "execution_count": 70,
   "metadata": {
    "collapsed": false
   },
   "outputs": [],
   "source": [
    "def verifica_aprovacao(row):\n",
    "    qtd_aulas = (row['CARGA_HOR'] * 60) / 45\n",
    "    porc_faltas = (row['N_FALTAS'] * 100) / qtd_aulas\n",
    "    \n",
    "    if(porc_faltas <= 25 and row['NOTAS'] >= 6.0):\n",
    "        return 1\n",
    "    else:\n",
    "        return 0"
   ]
  },
  {
   "cell_type": "code",
   "execution_count": 71,
   "metadata": {
    "collapsed": false
   },
   "outputs": [
    {
     "data": {
      "text/plain": [
       "array([1, 0])"
      ]
     },
     "execution_count": 71,
     "metadata": {},
     "output_type": "execute_result"
    }
   ],
   "source": [
    "df2 = df.loc[:, ['NOTAS', 'N_FALTAS', 'CARGA_HOR']]\n",
    "df['APROVACAO'] = df2.apply(verifica_aprovacao, axis=1)\n",
    "df.APROVACAO.unique()"
   ]
  },
  {
   "cell_type": "code",
   "execution_count": 72,
   "metadata": {
    "collapsed": false
   },
   "outputs": [
    {
     "data": {
      "text/plain": [
       "Index([u'SIT_MATRICULA', u'RENDA_FAMILIAR', u'TIPO_ESCOLA_ORIGEM',\n",
       "       u'ANO_CONCLUSAO_2_GRAU', u'COD_ESTADO_CIVIL', u'N_FILHOS', u'SEXO',\n",
       "       u'PROFISSAO', u'DESC_CIDADE', u'DESC_ESTADO', u'DESC_IDIOMA',\n",
       "       u'NIVEL_FALA', u'NIVEL_COMPREENSAO', u'NIVEL_ESCRITA', u'NIVEL_LEITURA',\n",
       "       u'NOTAS', u'N_FALTAS', u'CARGA_HOR', u'ANO_INGRESSO', u'IDADE_INGRESSO',\n",
       "       u'APROVACAO'],\n",
       "      dtype='object')"
      ]
     },
     "execution_count": 72,
     "metadata": {},
     "output_type": "execute_result"
    }
   ],
   "source": [
    "df.columns"
   ]
  },
  {
   "cell_type": "markdown",
   "metadata": {},
   "source": [
    "<h2>Escola de Origem</h2>"
   ]
  },
  {
   "cell_type": "code",
   "execution_count": 73,
   "metadata": {
    "collapsed": false
   },
   "outputs": [
    {
     "data": {
      "text/plain": [
       "array(['E', 'P', nan, 'F', 'I', 'O', 'M', 'C', '0'], dtype=object)"
      ]
     },
     "execution_count": 73,
     "metadata": {},
     "output_type": "execute_result"
    }
   ],
   "source": [
    "df.TIPO_ESCOLA_ORIGEM.unique()"
   ]
  },
  {
   "cell_type": "code",
   "execution_count": 74,
   "metadata": {
    "collapsed": false
   },
   "outputs": [
    {
     "data": {
      "text/plain": [
       "array(['E', 'P', 'F', 'I', 'O', 'M', 'C'], dtype=object)"
      ]
     },
     "execution_count": 74,
     "metadata": {},
     "output_type": "execute_result"
    }
   ],
   "source": [
    "df.drop(df[df.TIPO_ESCOLA_ORIGEM.isnull()].index, inplace=True)\n",
    "df.drop(df[df.TIPO_ESCOLA_ORIGEM.str.contains('0', na=False)].index, inplace=True)\n",
    "df.TIPO_ESCOLA_ORIGEM.unique()"
   ]
  },
  {
   "cell_type": "markdown",
   "metadata": {},
   "source": [
    "<p>Discretização <br>\n",
    "1. E, 2. F, 3. I, 4. O, 5. M, 6. P, 7. </p>\n",
    "\n",
    "<p>Conclusão\n",
    "Foi avaliado os dois casos, não houve perda de desempenho <br>\n",
    "em nenhuma das normalização aplicada</p>"
   ]
  },
  {
   "cell_type": "code",
   "execution_count": 75,
   "metadata": {
    "collapsed": false
   },
   "outputs": [
    {
     "data": {
      "text/plain": [
       "array([1, 6, 2, 3, 4, 5, 7], dtype=object)"
      ]
     },
     "execution_count": 75,
     "metadata": {},
     "output_type": "execute_result"
    }
   ],
   "source": [
    "df.loc[df.TIPO_ESCOLA_ORIGEM == 'E', 'TIPO_ESCOLA_ORIGEM'] = 1\n",
    "df.loc[df.TIPO_ESCOLA_ORIGEM == 'F', 'TIPO_ESCOLA_ORIGEM'] = 2\n",
    "df.loc[df.TIPO_ESCOLA_ORIGEM == 'I', 'TIPO_ESCOLA_ORIGEM'] = 3\n",
    "df.loc[df.TIPO_ESCOLA_ORIGEM == 'O', 'TIPO_ESCOLA_ORIGEM'] = 4\n",
    "df.loc[df.TIPO_ESCOLA_ORIGEM == 'M', 'TIPO_ESCOLA_ORIGEM'] = 5\n",
    "df.loc[df.TIPO_ESCOLA_ORIGEM == 'P', 'TIPO_ESCOLA_ORIGEM'] = 6\n",
    "df.loc[df.TIPO_ESCOLA_ORIGEM == 'C', 'TIPO_ESCOLA_ORIGEM'] = 7\n",
    "\n",
    "df.TIPO_ESCOLA_ORIGEM.unique()"
   ]
  },
  {
   "cell_type": "code",
   "execution_count": 76,
   "metadata": {
    "collapsed": false
   },
   "outputs": [
    {
     "data": {
      "text/html": [
       "<div>\n",
       "<table border=\"1\" class=\"dataframe\">\n",
       "  <thead>\n",
       "    <tr style=\"text-align: right;\">\n",
       "      <th></th>\n",
       "      <th>SIT_MATRICULA</th>\n",
       "      <th>RENDA_FAMILIAR</th>\n",
       "      <th>ANO_CONCLUSAO_2_GRAU</th>\n",
       "      <th>N_FILHOS</th>\n",
       "      <th>NIVEL_FALA</th>\n",
       "      <th>NIVEL_COMPREENSAO</th>\n",
       "      <th>NIVEL_ESCRITA</th>\n",
       "      <th>NIVEL_LEITURA</th>\n",
       "      <th>NOTAS</th>\n",
       "      <th>N_FALTAS</th>\n",
       "      <th>CARGA_HOR</th>\n",
       "      <th>ANO_INGRESSO</th>\n",
       "      <th>IDADE_INGRESSO</th>\n",
       "      <th>APROVACAO</th>\n",
       "    </tr>\n",
       "  </thead>\n",
       "  <tbody>\n",
       "    <tr>\n",
       "      <th>count</th>\n",
       "      <td>18673.000000</td>\n",
       "      <td>18673.000000</td>\n",
       "      <td>18673.000000</td>\n",
       "      <td>9031.000000</td>\n",
       "      <td>18673.000000</td>\n",
       "      <td>18673.000000</td>\n",
       "      <td>18673.000000</td>\n",
       "      <td>18673.000000</td>\n",
       "      <td>18673.000000</td>\n",
       "      <td>18673.000000</td>\n",
       "      <td>18673.000000</td>\n",
       "      <td>18673.000000</td>\n",
       "      <td>18673.000000</td>\n",
       "      <td>18673.000000</td>\n",
       "    </tr>\n",
       "    <tr>\n",
       "      <th>mean</th>\n",
       "      <td>0.324104</td>\n",
       "      <td>2.440743</td>\n",
       "      <td>2007.514861</td>\n",
       "      <td>0.109069</td>\n",
       "      <td>0.579286</td>\n",
       "      <td>0.579286</td>\n",
       "      <td>0.579286</td>\n",
       "      <td>0.579286</td>\n",
       "      <td>6.071885</td>\n",
       "      <td>8.896053</td>\n",
       "      <td>51.860012</td>\n",
       "      <td>2010.884700</td>\n",
       "      <td>21.051947</td>\n",
       "      <td>0.720291</td>\n",
       "    </tr>\n",
       "    <tr>\n",
       "      <th>std</th>\n",
       "      <td>0.468052</td>\n",
       "      <td>1.966878</td>\n",
       "      <td>3.877959</td>\n",
       "      <td>0.492420</td>\n",
       "      <td>0.493687</td>\n",
       "      <td>0.493687</td>\n",
       "      <td>0.493687</td>\n",
       "      <td>0.493687</td>\n",
       "      <td>2.946144</td>\n",
       "      <td>16.533047</td>\n",
       "      <td>15.232112</td>\n",
       "      <td>1.978932</td>\n",
       "      <td>4.843953</td>\n",
       "      <td>0.448868</td>\n",
       "    </tr>\n",
       "    <tr>\n",
       "      <th>min</th>\n",
       "      <td>0.000000</td>\n",
       "      <td>0.000000</td>\n",
       "      <td>1985.000000</td>\n",
       "      <td>0.000000</td>\n",
       "      <td>0.000000</td>\n",
       "      <td>0.000000</td>\n",
       "      <td>0.000000</td>\n",
       "      <td>0.000000</td>\n",
       "      <td>0.000000</td>\n",
       "      <td>0.000000</td>\n",
       "      <td>27.000000</td>\n",
       "      <td>2008.000000</td>\n",
       "      <td>16.000000</td>\n",
       "      <td>0.000000</td>\n",
       "    </tr>\n",
       "    <tr>\n",
       "      <th>25%</th>\n",
       "      <td>0.000000</td>\n",
       "      <td>0.000000</td>\n",
       "      <td>2006.000000</td>\n",
       "      <td>NaN</td>\n",
       "      <td>0.000000</td>\n",
       "      <td>0.000000</td>\n",
       "      <td>0.000000</td>\n",
       "      <td>0.000000</td>\n",
       "      <td>5.300000</td>\n",
       "      <td>0.000000</td>\n",
       "      <td>54.000000</td>\n",
       "      <td>2009.000000</td>\n",
       "      <td>18.000000</td>\n",
       "      <td>0.000000</td>\n",
       "    </tr>\n",
       "    <tr>\n",
       "      <th>50%</th>\n",
       "      <td>0.000000</td>\n",
       "      <td>4.000000</td>\n",
       "      <td>2008.000000</td>\n",
       "      <td>NaN</td>\n",
       "      <td>1.000000</td>\n",
       "      <td>1.000000</td>\n",
       "      <td>1.000000</td>\n",
       "      <td>1.000000</td>\n",
       "      <td>6.900000</td>\n",
       "      <td>2.000000</td>\n",
       "      <td>54.000000</td>\n",
       "      <td>2011.000000</td>\n",
       "      <td>19.000000</td>\n",
       "      <td>1.000000</td>\n",
       "    </tr>\n",
       "    <tr>\n",
       "      <th>75%</th>\n",
       "      <td>1.000000</td>\n",
       "      <td>4.000000</td>\n",
       "      <td>2010.000000</td>\n",
       "      <td>NaN</td>\n",
       "      <td>1.000000</td>\n",
       "      <td>1.000000</td>\n",
       "      <td>1.000000</td>\n",
       "      <td>1.000000</td>\n",
       "      <td>8.000000</td>\n",
       "      <td>10.000000</td>\n",
       "      <td>54.000000</td>\n",
       "      <td>2012.000000</td>\n",
       "      <td>22.000000</td>\n",
       "      <td>1.000000</td>\n",
       "    </tr>\n",
       "    <tr>\n",
       "      <th>max</th>\n",
       "      <td>1.000000</td>\n",
       "      <td>6.000000</td>\n",
       "      <td>2015.000000</td>\n",
       "      <td>4.000000</td>\n",
       "      <td>1.000000</td>\n",
       "      <td>1.000000</td>\n",
       "      <td>1.000000</td>\n",
       "      <td>1.000000</td>\n",
       "      <td>10.000000</td>\n",
       "      <td>120.000000</td>\n",
       "      <td>81.000000</td>\n",
       "      <td>2016.000000</td>\n",
       "      <td>53.000000</td>\n",
       "      <td>1.000000</td>\n",
       "    </tr>\n",
       "  </tbody>\n",
       "</table>\n",
       "</div>"
      ],
      "text/plain": [
       "       SIT_MATRICULA  RENDA_FAMILIAR  ANO_CONCLUSAO_2_GRAU     N_FILHOS  \\\n",
       "count   18673.000000    18673.000000          18673.000000  9031.000000   \n",
       "mean        0.324104        2.440743           2007.514861     0.109069   \n",
       "std         0.468052        1.966878              3.877959     0.492420   \n",
       "min         0.000000        0.000000           1985.000000     0.000000   \n",
       "25%         0.000000        0.000000           2006.000000          NaN   \n",
       "50%         0.000000        4.000000           2008.000000          NaN   \n",
       "75%         1.000000        4.000000           2010.000000          NaN   \n",
       "max         1.000000        6.000000           2015.000000     4.000000   \n",
       "\n",
       "         NIVEL_FALA  NIVEL_COMPREENSAO  NIVEL_ESCRITA  NIVEL_LEITURA  \\\n",
       "count  18673.000000       18673.000000   18673.000000   18673.000000   \n",
       "mean       0.579286           0.579286       0.579286       0.579286   \n",
       "std        0.493687           0.493687       0.493687       0.493687   \n",
       "min        0.000000           0.000000       0.000000       0.000000   \n",
       "25%        0.000000           0.000000       0.000000       0.000000   \n",
       "50%        1.000000           1.000000       1.000000       1.000000   \n",
       "75%        1.000000           1.000000       1.000000       1.000000   \n",
       "max        1.000000           1.000000       1.000000       1.000000   \n",
       "\n",
       "              NOTAS      N_FALTAS     CARGA_HOR  ANO_INGRESSO  IDADE_INGRESSO  \\\n",
       "count  18673.000000  18673.000000  18673.000000  18673.000000    18673.000000   \n",
       "mean       6.071885      8.896053     51.860012   2010.884700       21.051947   \n",
       "std        2.946144     16.533047     15.232112      1.978932        4.843953   \n",
       "min        0.000000      0.000000     27.000000   2008.000000       16.000000   \n",
       "25%        5.300000      0.000000     54.000000   2009.000000       18.000000   \n",
       "50%        6.900000      2.000000     54.000000   2011.000000       19.000000   \n",
       "75%        8.000000     10.000000     54.000000   2012.000000       22.000000   \n",
       "max       10.000000    120.000000     81.000000   2016.000000       53.000000   \n",
       "\n",
       "          APROVACAO  \n",
       "count  18673.000000  \n",
       "mean       0.720291  \n",
       "std        0.448868  \n",
       "min        0.000000  \n",
       "25%        0.000000  \n",
       "50%        1.000000  \n",
       "75%        1.000000  \n",
       "max        1.000000  "
      ]
     },
     "execution_count": 76,
     "metadata": {},
     "output_type": "execute_result"
    }
   ],
   "source": [
    "df.describe()"
   ]
  },
  {
   "cell_type": "code",
   "execution_count": 77,
   "metadata": {
    "collapsed": false
   },
   "outputs": [
    {
     "data": {
      "text/plain": [
       "18673"
      ]
     },
     "execution_count": 77,
     "metadata": {},
     "output_type": "execute_result"
    }
   ],
   "source": [
    "len(df.loc[:, 'TIPO_ESCOLA_ORIGEM'])"
   ]
  },
  {
   "cell_type": "markdown",
   "metadata": {},
   "source": [
    "<h2>Estado Cívil do Aluno</h2>"
   ]
  },
  {
   "cell_type": "code",
   "execution_count": 78,
   "metadata": {
    "collapsed": false
   },
   "outputs": [
    {
     "data": {
      "text/plain": [
       "array(['S', nan, 'C', 'UE'], dtype=object)"
      ]
     },
     "execution_count": 78,
     "metadata": {},
     "output_type": "execute_result"
    }
   ],
   "source": [
    "df.COD_ESTADO_CIVIL.unique()"
   ]
  },
  {
   "cell_type": "code",
   "execution_count": 79,
   "metadata": {
    "collapsed": false
   },
   "outputs": [
    {
     "data": {
      "text/plain": [
       "1        0\n",
       "2        0\n",
       "3        0\n",
       "6        0\n",
       "10       0\n",
       "12       0\n",
       "13       0\n",
       "17       0\n",
       "19       0\n",
       "23       0\n",
       "25       0\n",
       "26       0\n",
       "27       0\n",
       "28       0\n",
       "29       0\n",
       "30       1\n",
       "31       0\n",
       "32       0\n",
       "33       0\n",
       "35       0\n",
       "41       0\n",
       "42       0\n",
       "50       0\n",
       "51       0\n",
       "52       1\n",
       "53       1\n",
       "55       0\n",
       "56       0\n",
       "68       0\n",
       "71       0\n",
       "        ..\n",
       "20453    1\n",
       "20459    0\n",
       "20460    0\n",
       "20473    1\n",
       "20476    0\n",
       "20483    1\n",
       "20484    1\n",
       "20486    1\n",
       "20503    0\n",
       "20504    0\n",
       "20505    0\n",
       "20506    0\n",
       "20527    0\n",
       "20656    0\n",
       "20657    0\n",
       "20661    0\n",
       "20662    0\n",
       "20664    0\n",
       "20667    1\n",
       "20669    1\n",
       "20691    0\n",
       "20709    0\n",
       "20710    0\n",
       "20714    0\n",
       "20715    0\n",
       "20716    0\n",
       "20717    0\n",
       "20758    0\n",
       "20759    0\n",
       "20761    0\n",
       "Name: SIT_MATRICULA, dtype: int64"
      ]
     },
     "execution_count": 79,
     "metadata": {},
     "output_type": "execute_result"
    }
   ],
   "source": [
    "df.loc[df.COD_ESTADO_CIVIL.isnull(), 'SIT_MATRICULA']"
   ]
  },
  {
   "cell_type": "code",
   "execution_count": 80,
   "metadata": {
    "collapsed": false
   },
   "outputs": [
    {
     "data": {
      "text/html": [
       "<div>\n",
       "<table border=\"1\" class=\"dataframe\">\n",
       "  <thead>\n",
       "    <tr style=\"text-align: right;\">\n",
       "      <th></th>\n",
       "      <th>SIT_MATRICULA</th>\n",
       "    </tr>\n",
       "  </thead>\n",
       "  <tbody>\n",
       "    <tr>\n",
       "      <th>SIT_MATRICULA</th>\n",
       "      <td>1.0</td>\n",
       "    </tr>\n",
       "  </tbody>\n",
       "</table>\n",
       "</div>"
      ],
      "text/plain": [
       "               SIT_MATRICULA\n",
       "SIT_MATRICULA            1.0"
      ]
     },
     "execution_count": 80,
     "metadata": {},
     "output_type": "execute_result"
    }
   ],
   "source": [
    "df2 = df.loc[:, ['COD_ESTADO_CIVIL', 'SIT_MATRICULA']]\n",
    "df2.corr(method='spearman')"
   ]
  },
  {
   "cell_type": "code",
   "execution_count": 81,
   "metadata": {
    "collapsed": false
   },
   "outputs": [
    {
     "data": {
      "text/plain": [
       "1909"
      ]
     },
     "execution_count": 81,
     "metadata": {},
     "output_type": "execute_result"
    }
   ],
   "source": [
    "len(df.loc[df.COD_ESTADO_CIVIL.isnull(), 'COD_ESTADO_CIVIL'])"
   ]
  },
  {
   "cell_type": "markdown",
   "metadata": {},
   "source": [
    "<p>Binarização <br>\n",
    "1. Casado, 0. Solteriro</p>"
   ]
  },
  {
   "cell_type": "code",
   "execution_count": 82,
   "metadata": {
    "collapsed": false
   },
   "outputs": [
    {
     "data": {
      "text/plain": [
       "array([0, 1])"
      ]
     },
     "execution_count": 82,
     "metadata": {},
     "output_type": "execute_result"
    }
   ],
   "source": [
    "df.loc[df.COD_ESTADO_CIVIL.isnull(), 'COD_ESTADO_CIVIL'] = 0\n",
    "df.drop(df[df.COD_ESTADO_CIVIL.isnull()].index, inplace=True)\n",
    "df.loc[df.COD_ESTADO_CIVIL=='S', 'COD_ESTADO_CIVIL'] = 0\n",
    "df.loc[df.COD_ESTADO_CIVIL=='UE', 'COD_ESTADO_CIVIL'] = 1 \n",
    "df.loc[df.COD_ESTADO_CIVIL=='C', 'COD_ESTADO_CIVIL'] = 1\n",
    "\n",
    "df.COD_ESTADO_CIVIL = df.COD_ESTADO_CIVIL.astype('int64')\n",
    "df.COD_ESTADO_CIVIL.unique()"
   ]
  },
  {
   "cell_type": "markdown",
   "metadata": {},
   "source": [
    "<h2>Quantidade de Filhos</h2>"
   ]
  },
  {
   "cell_type": "code",
   "execution_count": 83,
   "metadata": {
    "collapsed": false
   },
   "outputs": [
    {
     "data": {
      "text/plain": [
       "array([ nan,   0.,   1.,   2.,   3.,   4.])"
      ]
     },
     "execution_count": 83,
     "metadata": {},
     "output_type": "execute_result"
    }
   ],
   "source": [
    "df.N_FILHOS.unique()"
   ]
  },
  {
   "cell_type": "code",
   "execution_count": 84,
   "metadata": {
    "collapsed": false
   },
   "outputs": [
    {
     "data": {
      "text/plain": [
       "9642"
      ]
     },
     "execution_count": 84,
     "metadata": {},
     "output_type": "execute_result"
    }
   ],
   "source": [
    "len(df.loc[df.N_FILHOS.isnull(), 'N_FILHOS'])"
   ]
  },
  {
   "cell_type": "code",
   "execution_count": 85,
   "metadata": {
    "collapsed": false
   },
   "outputs": [
    {
     "data": {
      "text/plain": [
       "array([0, 1, 2, 3, 4])"
      ]
     },
     "execution_count": 85,
     "metadata": {},
     "output_type": "execute_result"
    }
   ],
   "source": [
    "df.loc[df.N_FILHOS.isnull(), 'N_FILHOS'] = 0\n",
    "#df.drop(df[df.N_FILHOS.isnull()].index, inplace=True)\n",
    "df.N_FILHOS = df.N_FILHOS.astype('int64')\n",
    "\n",
    "df.N_FILHOS.unique()"
   ]
  },
  {
   "cell_type": "markdown",
   "metadata": {},
   "source": [
    "<h2>Sexo</h2>"
   ]
  },
  {
   "cell_type": "code",
   "execution_count": 86,
   "metadata": {
    "collapsed": false
   },
   "outputs": [
    {
     "data": {
      "text/plain": [
       "array(['M', 'F'], dtype=object)"
      ]
     },
     "execution_count": 86,
     "metadata": {},
     "output_type": "execute_result"
    }
   ],
   "source": [
    "df.SEXO.unique()"
   ]
  },
  {
   "cell_type": "code",
   "execution_count": 87,
   "metadata": {
    "collapsed": false
   },
   "outputs": [
    {
     "data": {
      "text/plain": [
       "array([1, 0])"
      ]
     },
     "execution_count": 87,
     "metadata": {},
     "output_type": "execute_result"
    }
   ],
   "source": [
    "df.loc[df.SEXO=='F', 'SEXO'] = 0\n",
    "df.loc[df.SEXO=='M', 'SEXO'] = 1\n",
    "df.SEXO = df.SEXO.astype('int64')\n",
    "df.SEXO.unique()"
   ]
  },
  {
   "cell_type": "markdown",
   "metadata": {},
   "source": [
    "<h2>Campo de Descrições</h2>"
   ]
  },
  {
   "cell_type": "code",
   "execution_count": 88,
   "metadata": {
    "collapsed": false
   },
   "outputs": [
    {
     "data": {
      "text/html": [
       "<div>\n",
       "<table border=\"1\" class=\"dataframe\">\n",
       "  <thead>\n",
       "    <tr style=\"text-align: right;\">\n",
       "      <th></th>\n",
       "      <th>SIT_MATRICULA</th>\n",
       "      <th>RENDA_FAMILIAR</th>\n",
       "      <th>ANO_CONCLUSAO_2_GRAU</th>\n",
       "      <th>COD_ESTADO_CIVIL</th>\n",
       "      <th>N_FILHOS</th>\n",
       "      <th>SEXO</th>\n",
       "      <th>NIVEL_FALA</th>\n",
       "      <th>NIVEL_COMPREENSAO</th>\n",
       "      <th>NIVEL_ESCRITA</th>\n",
       "      <th>NIVEL_LEITURA</th>\n",
       "      <th>NOTAS</th>\n",
       "      <th>N_FALTAS</th>\n",
       "      <th>CARGA_HOR</th>\n",
       "      <th>ANO_INGRESSO</th>\n",
       "      <th>IDADE_INGRESSO</th>\n",
       "      <th>APROVACAO</th>\n",
       "    </tr>\n",
       "  </thead>\n",
       "  <tbody>\n",
       "    <tr>\n",
       "      <th>count</th>\n",
       "      <td>18673.000000</td>\n",
       "      <td>18673.000000</td>\n",
       "      <td>18673.000000</td>\n",
       "      <td>18673.000000</td>\n",
       "      <td>18673.00000</td>\n",
       "      <td>18673.000000</td>\n",
       "      <td>18673.000000</td>\n",
       "      <td>18673.000000</td>\n",
       "      <td>18673.000000</td>\n",
       "      <td>18673.000000</td>\n",
       "      <td>18673.000000</td>\n",
       "      <td>18673.000000</td>\n",
       "      <td>18673.000000</td>\n",
       "      <td>18673.000000</td>\n",
       "      <td>18673.000000</td>\n",
       "      <td>18673.000000</td>\n",
       "    </tr>\n",
       "    <tr>\n",
       "      <th>mean</th>\n",
       "      <td>0.324104</td>\n",
       "      <td>2.440743</td>\n",
       "      <td>2007.514861</td>\n",
       "      <td>0.057838</td>\n",
       "      <td>0.05275</td>\n",
       "      <td>0.855353</td>\n",
       "      <td>0.579286</td>\n",
       "      <td>0.579286</td>\n",
       "      <td>0.579286</td>\n",
       "      <td>0.579286</td>\n",
       "      <td>6.071885</td>\n",
       "      <td>8.896053</td>\n",
       "      <td>51.860012</td>\n",
       "      <td>2010.884700</td>\n",
       "      <td>21.051947</td>\n",
       "      <td>0.720291</td>\n",
       "    </tr>\n",
       "    <tr>\n",
       "      <th>std</th>\n",
       "      <td>0.468052</td>\n",
       "      <td>1.966878</td>\n",
       "      <td>3.877959</td>\n",
       "      <td>0.233442</td>\n",
       "      <td>0.34675</td>\n",
       "      <td>0.351754</td>\n",
       "      <td>0.493687</td>\n",
       "      <td>0.493687</td>\n",
       "      <td>0.493687</td>\n",
       "      <td>0.493687</td>\n",
       "      <td>2.946144</td>\n",
       "      <td>16.533047</td>\n",
       "      <td>15.232112</td>\n",
       "      <td>1.978932</td>\n",
       "      <td>4.843953</td>\n",
       "      <td>0.448868</td>\n",
       "    </tr>\n",
       "    <tr>\n",
       "      <th>min</th>\n",
       "      <td>0.000000</td>\n",
       "      <td>0.000000</td>\n",
       "      <td>1985.000000</td>\n",
       "      <td>0.000000</td>\n",
       "      <td>0.00000</td>\n",
       "      <td>0.000000</td>\n",
       "      <td>0.000000</td>\n",
       "      <td>0.000000</td>\n",
       "      <td>0.000000</td>\n",
       "      <td>0.000000</td>\n",
       "      <td>0.000000</td>\n",
       "      <td>0.000000</td>\n",
       "      <td>27.000000</td>\n",
       "      <td>2008.000000</td>\n",
       "      <td>16.000000</td>\n",
       "      <td>0.000000</td>\n",
       "    </tr>\n",
       "    <tr>\n",
       "      <th>25%</th>\n",
       "      <td>0.000000</td>\n",
       "      <td>0.000000</td>\n",
       "      <td>2006.000000</td>\n",
       "      <td>0.000000</td>\n",
       "      <td>0.00000</td>\n",
       "      <td>1.000000</td>\n",
       "      <td>0.000000</td>\n",
       "      <td>0.000000</td>\n",
       "      <td>0.000000</td>\n",
       "      <td>0.000000</td>\n",
       "      <td>5.300000</td>\n",
       "      <td>0.000000</td>\n",
       "      <td>54.000000</td>\n",
       "      <td>2009.000000</td>\n",
       "      <td>18.000000</td>\n",
       "      <td>0.000000</td>\n",
       "    </tr>\n",
       "    <tr>\n",
       "      <th>50%</th>\n",
       "      <td>0.000000</td>\n",
       "      <td>4.000000</td>\n",
       "      <td>2008.000000</td>\n",
       "      <td>0.000000</td>\n",
       "      <td>0.00000</td>\n",
       "      <td>1.000000</td>\n",
       "      <td>1.000000</td>\n",
       "      <td>1.000000</td>\n",
       "      <td>1.000000</td>\n",
       "      <td>1.000000</td>\n",
       "      <td>6.900000</td>\n",
       "      <td>2.000000</td>\n",
       "      <td>54.000000</td>\n",
       "      <td>2011.000000</td>\n",
       "      <td>19.000000</td>\n",
       "      <td>1.000000</td>\n",
       "    </tr>\n",
       "    <tr>\n",
       "      <th>75%</th>\n",
       "      <td>1.000000</td>\n",
       "      <td>4.000000</td>\n",
       "      <td>2010.000000</td>\n",
       "      <td>0.000000</td>\n",
       "      <td>0.00000</td>\n",
       "      <td>1.000000</td>\n",
       "      <td>1.000000</td>\n",
       "      <td>1.000000</td>\n",
       "      <td>1.000000</td>\n",
       "      <td>1.000000</td>\n",
       "      <td>8.000000</td>\n",
       "      <td>10.000000</td>\n",
       "      <td>54.000000</td>\n",
       "      <td>2012.000000</td>\n",
       "      <td>22.000000</td>\n",
       "      <td>1.000000</td>\n",
       "    </tr>\n",
       "    <tr>\n",
       "      <th>max</th>\n",
       "      <td>1.000000</td>\n",
       "      <td>6.000000</td>\n",
       "      <td>2015.000000</td>\n",
       "      <td>1.000000</td>\n",
       "      <td>4.00000</td>\n",
       "      <td>1.000000</td>\n",
       "      <td>1.000000</td>\n",
       "      <td>1.000000</td>\n",
       "      <td>1.000000</td>\n",
       "      <td>1.000000</td>\n",
       "      <td>10.000000</td>\n",
       "      <td>120.000000</td>\n",
       "      <td>81.000000</td>\n",
       "      <td>2016.000000</td>\n",
       "      <td>53.000000</td>\n",
       "      <td>1.000000</td>\n",
       "    </tr>\n",
       "  </tbody>\n",
       "</table>\n",
       "</div>"
      ],
      "text/plain": [
       "       SIT_MATRICULA  RENDA_FAMILIAR  ANO_CONCLUSAO_2_GRAU  COD_ESTADO_CIVIL  \\\n",
       "count   18673.000000    18673.000000          18673.000000      18673.000000   \n",
       "mean        0.324104        2.440743           2007.514861          0.057838   \n",
       "std         0.468052        1.966878              3.877959          0.233442   \n",
       "min         0.000000        0.000000           1985.000000          0.000000   \n",
       "25%         0.000000        0.000000           2006.000000          0.000000   \n",
       "50%         0.000000        4.000000           2008.000000          0.000000   \n",
       "75%         1.000000        4.000000           2010.000000          0.000000   \n",
       "max         1.000000        6.000000           2015.000000          1.000000   \n",
       "\n",
       "          N_FILHOS          SEXO    NIVEL_FALA  NIVEL_COMPREENSAO  \\\n",
       "count  18673.00000  18673.000000  18673.000000       18673.000000   \n",
       "mean       0.05275      0.855353      0.579286           0.579286   \n",
       "std        0.34675      0.351754      0.493687           0.493687   \n",
       "min        0.00000      0.000000      0.000000           0.000000   \n",
       "25%        0.00000      1.000000      0.000000           0.000000   \n",
       "50%        0.00000      1.000000      1.000000           1.000000   \n",
       "75%        0.00000      1.000000      1.000000           1.000000   \n",
       "max        4.00000      1.000000      1.000000           1.000000   \n",
       "\n",
       "       NIVEL_ESCRITA  NIVEL_LEITURA         NOTAS      N_FALTAS     CARGA_HOR  \\\n",
       "count   18673.000000   18673.000000  18673.000000  18673.000000  18673.000000   \n",
       "mean        0.579286       0.579286      6.071885      8.896053     51.860012   \n",
       "std         0.493687       0.493687      2.946144     16.533047     15.232112   \n",
       "min         0.000000       0.000000      0.000000      0.000000     27.000000   \n",
       "25%         0.000000       0.000000      5.300000      0.000000     54.000000   \n",
       "50%         1.000000       1.000000      6.900000      2.000000     54.000000   \n",
       "75%         1.000000       1.000000      8.000000     10.000000     54.000000   \n",
       "max         1.000000       1.000000     10.000000    120.000000     81.000000   \n",
       "\n",
       "       ANO_INGRESSO  IDADE_INGRESSO     APROVACAO  \n",
       "count  18673.000000    18673.000000  18673.000000  \n",
       "mean    2010.884700       21.051947      0.720291  \n",
       "std        1.978932        4.843953      0.448868  \n",
       "min     2008.000000       16.000000      0.000000  \n",
       "25%     2009.000000       18.000000      0.000000  \n",
       "50%     2011.000000       19.000000      1.000000  \n",
       "75%     2012.000000       22.000000      1.000000  \n",
       "max     2016.000000       53.000000      1.000000  "
      ]
     },
     "execution_count": 88,
     "metadata": {},
     "output_type": "execute_result"
    }
   ],
   "source": [
    "df.drop('DESC_ESTADO', axis=1, inplace=True)\n",
    "df.drop('DESC_IDIOMA', axis=1, inplace=True)\n",
    "df.describe()"
   ]
  },
  {
   "cell_type": "markdown",
   "metadata": {},
   "source": [
    "<h2>Binarizando Descrição da Cidade</h2>"
   ]
  },
  {
   "cell_type": "code",
   "execution_count": 89,
   "metadata": {
    "collapsed": false
   },
   "outputs": [
    {
     "data": {
      "text/plain": [
       "array(['Goi\\xc3\\xa2nia', 'Goiania', 'Trindade', 'Parauapebas',\n",
       "       'Itapuranga', 'Aparecida de Goi\\xc3\\xa2nia', 'Caiap\\xc3\\xb4nia',\n",
       "       'Inhumas', 'An\\xc3\\xa1polis', 'Gurupi', 'Senador Canedo',\n",
       "       'Barro Alto', 'Ceres', 'Ipor\\xc3\\xa1', 'Ner\\xc3\\xb3polis',\n",
       "       'Mina\\xc3\\xa7u', 'Imperatriz',\n",
       "       'Santo Ant\\xc3\\xb4nio de Goi\\xc3\\xa1s', 'Jata\\xc3\\xad',\n",
       "       'Goi\\xc3\\xa1s', 'Varj\\xc3\\xa3o', 'Orizona', 'Santa Rosa (formosa)',\n",
       "       'Cidade de Goi\\xc3\\xa1s', 'Alto Para\\xc3\\xadso de Goi\\xc3\\xa1s',\n",
       "       'Santa Helena de Goi\\xc3\\xa1s', 'Bela Vista de Goi\\xc3\\xa1s',\n",
       "       'Rio Verde', 'Bom Jesus de Goi\\xc3\\xa1s', 'Aragoi\\xc3\\xa2nia',\n",
       "       'Araguari', 'Urua\\xc3\\xa7u', 'Anicuns',\n",
       "       'S\\xc3\\xa3o Miguel do Araguaia', 'Guap\\xc3\\xb3'], dtype=object)"
      ]
     },
     "execution_count": 89,
     "metadata": {},
     "output_type": "execute_result"
    }
   ],
   "source": [
    "df.DESC_CIDADE.unique()"
   ]
  },
  {
   "cell_type": "code",
   "execution_count": 90,
   "metadata": {
    "collapsed": false
   },
   "outputs": [
    {
     "data": {
      "text/plain": [
       "array([0, 1], dtype=object)"
      ]
     },
     "execution_count": 90,
     "metadata": {},
     "output_type": "execute_result"
    }
   ],
   "source": [
    "df.loc[df.DESC_CIDADE == 'Goiânia', 'DESC_CIDADE'] = 0\n",
    "df.loc[df.DESC_CIDADE == 'Goiania', 'DESC_CIDADE'] = 0\n",
    "df.loc[df.DESC_CIDADE != 0, 'DESC_CIDADE'] = 1\n",
    "\n",
    "df.DESC_CIDADE.unique()"
   ]
  },
  {
   "cell_type": "markdown",
   "metadata": {},
   "source": [
    "<h2>Idade de Ingresso</h2>"
   ]
  },
  {
   "cell_type": "code",
   "execution_count": 91,
   "metadata": {
    "collapsed": false
   },
   "outputs": [
    {
     "data": {
      "text/plain": [
       "array([20, 21, 18, 22, 19, 17, 23, 27, 25, 29, 26, 30, 24, 51, 16, 34, 28,\n",
       "       50, 35, 32, 43, 31, 39, 37, 36, 41, 48, 44, 33, 53])"
      ]
     },
     "execution_count": 91,
     "metadata": {},
     "output_type": "execute_result"
    }
   ],
   "source": [
    "df.IDADE_INGRESSO = df.IDADE_INGRESSO.astype('int64')\n",
    "df.IDADE_INGRESSO.unique()"
   ]
  },
  {
   "cell_type": "markdown",
   "metadata": {},
   "source": [
    "<p>  >= 45 = 3 <br>\n",
    ">= 30 = 2<br>\n",
    ">= 20 = 1<br>\n",
    ">= 15 = 0</p>"
   ]
  },
  {
   "cell_type": "code",
   "execution_count": 92,
   "metadata": {
    "collapsed": false
   },
   "outputs": [
    {
     "data": {
      "text/plain": [
       "array([1, 0, 2, 3])"
      ]
     },
     "execution_count": 92,
     "metadata": {},
     "output_type": "execute_result"
    }
   ],
   "source": [
    "df.loc[df.IDADE_INGRESSO >= 45, 'IDADE_INGRESSO'] = 3\n",
    "df.loc[df.IDADE_INGRESSO >= 30, 'IDADE_INGRESSO'] = 2\n",
    "df.loc[df.IDADE_INGRESSO >= 20, 'IDADE_INGRESSO'] = 1\n",
    "df.loc[df.IDADE_INGRESSO >= 15, 'IDADE_INGRESSO'] = 0\n",
    "df.IDADE_INGRESSO.unique()"
   ]
  },
  {
   "cell_type": "code",
   "execution_count": 93,
   "metadata": {
    "collapsed": false
   },
   "outputs": [
    {
     "data": {
      "text/html": [
       "<div>\n",
       "<table border=\"1\" class=\"dataframe\">\n",
       "  <thead>\n",
       "    <tr style=\"text-align: right;\">\n",
       "      <th></th>\n",
       "      <th>SIT_MATRICULA</th>\n",
       "      <th>RENDA_FAMILIAR</th>\n",
       "      <th>ANO_CONCLUSAO_2_GRAU</th>\n",
       "      <th>COD_ESTADO_CIVIL</th>\n",
       "      <th>N_FILHOS</th>\n",
       "      <th>SEXO</th>\n",
       "      <th>NIVEL_FALA</th>\n",
       "      <th>NIVEL_COMPREENSAO</th>\n",
       "      <th>NIVEL_ESCRITA</th>\n",
       "      <th>NIVEL_LEITURA</th>\n",
       "      <th>NOTAS</th>\n",
       "      <th>N_FALTAS</th>\n",
       "      <th>CARGA_HOR</th>\n",
       "      <th>ANO_INGRESSO</th>\n",
       "      <th>IDADE_INGRESSO</th>\n",
       "      <th>APROVACAO</th>\n",
       "    </tr>\n",
       "  </thead>\n",
       "  <tbody>\n",
       "    <tr>\n",
       "      <th>count</th>\n",
       "      <td>18673.000000</td>\n",
       "      <td>18673.000000</td>\n",
       "      <td>18673.000000</td>\n",
       "      <td>18673.000000</td>\n",
       "      <td>18673.00000</td>\n",
       "      <td>18673.000000</td>\n",
       "      <td>18673.000000</td>\n",
       "      <td>18673.000000</td>\n",
       "      <td>18673.000000</td>\n",
       "      <td>18673.000000</td>\n",
       "      <td>18673.000000</td>\n",
       "      <td>18673.000000</td>\n",
       "      <td>18673.000000</td>\n",
       "      <td>18673.000000</td>\n",
       "      <td>18673.000000</td>\n",
       "      <td>18673.000000</td>\n",
       "    </tr>\n",
       "    <tr>\n",
       "      <th>mean</th>\n",
       "      <td>0.324104</td>\n",
       "      <td>2.440743</td>\n",
       "      <td>2007.514861</td>\n",
       "      <td>0.057838</td>\n",
       "      <td>0.05275</td>\n",
       "      <td>0.855353</td>\n",
       "      <td>0.579286</td>\n",
       "      <td>0.579286</td>\n",
       "      <td>0.579286</td>\n",
       "      <td>0.579286</td>\n",
       "      <td>6.071885</td>\n",
       "      <td>8.896053</td>\n",
       "      <td>51.860012</td>\n",
       "      <td>2010.884700</td>\n",
       "      <td>0.539817</td>\n",
       "      <td>0.720291</td>\n",
       "    </tr>\n",
       "    <tr>\n",
       "      <th>std</th>\n",
       "      <td>0.468052</td>\n",
       "      <td>1.966878</td>\n",
       "      <td>3.877959</td>\n",
       "      <td>0.233442</td>\n",
       "      <td>0.34675</td>\n",
       "      <td>0.351754</td>\n",
       "      <td>0.493687</td>\n",
       "      <td>0.493687</td>\n",
       "      <td>0.493687</td>\n",
       "      <td>0.493687</td>\n",
       "      <td>2.946144</td>\n",
       "      <td>16.533047</td>\n",
       "      <td>15.232112</td>\n",
       "      <td>1.978932</td>\n",
       "      <td>0.613013</td>\n",
       "      <td>0.448868</td>\n",
       "    </tr>\n",
       "    <tr>\n",
       "      <th>min</th>\n",
       "      <td>0.000000</td>\n",
       "      <td>0.000000</td>\n",
       "      <td>1985.000000</td>\n",
       "      <td>0.000000</td>\n",
       "      <td>0.00000</td>\n",
       "      <td>0.000000</td>\n",
       "      <td>0.000000</td>\n",
       "      <td>0.000000</td>\n",
       "      <td>0.000000</td>\n",
       "      <td>0.000000</td>\n",
       "      <td>0.000000</td>\n",
       "      <td>0.000000</td>\n",
       "      <td>27.000000</td>\n",
       "      <td>2008.000000</td>\n",
       "      <td>0.000000</td>\n",
       "      <td>0.000000</td>\n",
       "    </tr>\n",
       "    <tr>\n",
       "      <th>25%</th>\n",
       "      <td>0.000000</td>\n",
       "      <td>0.000000</td>\n",
       "      <td>2006.000000</td>\n",
       "      <td>0.000000</td>\n",
       "      <td>0.00000</td>\n",
       "      <td>1.000000</td>\n",
       "      <td>0.000000</td>\n",
       "      <td>0.000000</td>\n",
       "      <td>0.000000</td>\n",
       "      <td>0.000000</td>\n",
       "      <td>5.300000</td>\n",
       "      <td>0.000000</td>\n",
       "      <td>54.000000</td>\n",
       "      <td>2009.000000</td>\n",
       "      <td>0.000000</td>\n",
       "      <td>0.000000</td>\n",
       "    </tr>\n",
       "    <tr>\n",
       "      <th>50%</th>\n",
       "      <td>0.000000</td>\n",
       "      <td>4.000000</td>\n",
       "      <td>2008.000000</td>\n",
       "      <td>0.000000</td>\n",
       "      <td>0.00000</td>\n",
       "      <td>1.000000</td>\n",
       "      <td>1.000000</td>\n",
       "      <td>1.000000</td>\n",
       "      <td>1.000000</td>\n",
       "      <td>1.000000</td>\n",
       "      <td>6.900000</td>\n",
       "      <td>2.000000</td>\n",
       "      <td>54.000000</td>\n",
       "      <td>2011.000000</td>\n",
       "      <td>0.000000</td>\n",
       "      <td>1.000000</td>\n",
       "    </tr>\n",
       "    <tr>\n",
       "      <th>75%</th>\n",
       "      <td>1.000000</td>\n",
       "      <td>4.000000</td>\n",
       "      <td>2010.000000</td>\n",
       "      <td>0.000000</td>\n",
       "      <td>0.00000</td>\n",
       "      <td>1.000000</td>\n",
       "      <td>1.000000</td>\n",
       "      <td>1.000000</td>\n",
       "      <td>1.000000</td>\n",
       "      <td>1.000000</td>\n",
       "      <td>8.000000</td>\n",
       "      <td>10.000000</td>\n",
       "      <td>54.000000</td>\n",
       "      <td>2012.000000</td>\n",
       "      <td>1.000000</td>\n",
       "      <td>1.000000</td>\n",
       "    </tr>\n",
       "    <tr>\n",
       "      <th>max</th>\n",
       "      <td>1.000000</td>\n",
       "      <td>6.000000</td>\n",
       "      <td>2015.000000</td>\n",
       "      <td>1.000000</td>\n",
       "      <td>4.00000</td>\n",
       "      <td>1.000000</td>\n",
       "      <td>1.000000</td>\n",
       "      <td>1.000000</td>\n",
       "      <td>1.000000</td>\n",
       "      <td>1.000000</td>\n",
       "      <td>10.000000</td>\n",
       "      <td>120.000000</td>\n",
       "      <td>81.000000</td>\n",
       "      <td>2016.000000</td>\n",
       "      <td>3.000000</td>\n",
       "      <td>1.000000</td>\n",
       "    </tr>\n",
       "  </tbody>\n",
       "</table>\n",
       "</div>"
      ],
      "text/plain": [
       "       SIT_MATRICULA  RENDA_FAMILIAR  ANO_CONCLUSAO_2_GRAU  COD_ESTADO_CIVIL  \\\n",
       "count   18673.000000    18673.000000          18673.000000      18673.000000   \n",
       "mean        0.324104        2.440743           2007.514861          0.057838   \n",
       "std         0.468052        1.966878              3.877959          0.233442   \n",
       "min         0.000000        0.000000           1985.000000          0.000000   \n",
       "25%         0.000000        0.000000           2006.000000          0.000000   \n",
       "50%         0.000000        4.000000           2008.000000          0.000000   \n",
       "75%         1.000000        4.000000           2010.000000          0.000000   \n",
       "max         1.000000        6.000000           2015.000000          1.000000   \n",
       "\n",
       "          N_FILHOS          SEXO    NIVEL_FALA  NIVEL_COMPREENSAO  \\\n",
       "count  18673.00000  18673.000000  18673.000000       18673.000000   \n",
       "mean       0.05275      0.855353      0.579286           0.579286   \n",
       "std        0.34675      0.351754      0.493687           0.493687   \n",
       "min        0.00000      0.000000      0.000000           0.000000   \n",
       "25%        0.00000      1.000000      0.000000           0.000000   \n",
       "50%        0.00000      1.000000      1.000000           1.000000   \n",
       "75%        0.00000      1.000000      1.000000           1.000000   \n",
       "max        4.00000      1.000000      1.000000           1.000000   \n",
       "\n",
       "       NIVEL_ESCRITA  NIVEL_LEITURA         NOTAS      N_FALTAS     CARGA_HOR  \\\n",
       "count   18673.000000   18673.000000  18673.000000  18673.000000  18673.000000   \n",
       "mean        0.579286       0.579286      6.071885      8.896053     51.860012   \n",
       "std         0.493687       0.493687      2.946144     16.533047     15.232112   \n",
       "min         0.000000       0.000000      0.000000      0.000000     27.000000   \n",
       "25%         0.000000       0.000000      5.300000      0.000000     54.000000   \n",
       "50%         1.000000       1.000000      6.900000      2.000000     54.000000   \n",
       "75%         1.000000       1.000000      8.000000     10.000000     54.000000   \n",
       "max         1.000000       1.000000     10.000000    120.000000     81.000000   \n",
       "\n",
       "       ANO_INGRESSO  IDADE_INGRESSO     APROVACAO  \n",
       "count  18673.000000    18673.000000  18673.000000  \n",
       "mean    2010.884700        0.539817      0.720291  \n",
       "std        1.978932        0.613013      0.448868  \n",
       "min     2008.000000        0.000000      0.000000  \n",
       "25%     2009.000000        0.000000      0.000000  \n",
       "50%     2011.000000        0.000000      1.000000  \n",
       "75%     2012.000000        1.000000      1.000000  \n",
       "max     2016.000000        3.000000      1.000000  "
      ]
     },
     "execution_count": 93,
     "metadata": {},
     "output_type": "execute_result"
    }
   ],
   "source": [
    "df = df.dropna()\n",
    "df.describe()"
   ]
  },
  {
   "cell_type": "code",
   "execution_count": 94,
   "metadata": {
    "collapsed": false
   },
   "outputs": [
    {
     "data": {
      "text/plain": [
       "Index([u'SIT_MATRICULA', u'RENDA_FAMILIAR', u'TIPO_ESCOLA_ORIGEM',\n",
       "       u'ANO_CONCLUSAO_2_GRAU', u'COD_ESTADO_CIVIL', u'N_FILHOS', u'SEXO',\n",
       "       u'PROFISSAO', u'DESC_CIDADE', u'NIVEL_FALA', u'NIVEL_COMPREENSAO',\n",
       "       u'NIVEL_ESCRITA', u'NIVEL_LEITURA', u'NOTAS', u'N_FALTAS', u'CARGA_HOR',\n",
       "       u'ANO_INGRESSO', u'IDADE_INGRESSO', u'APROVACAO'],\n",
       "      dtype='object')"
      ]
     },
     "execution_count": 94,
     "metadata": {},
     "output_type": "execute_result"
    }
   ],
   "source": [
    "df.columns"
   ]
  },
  {
   "cell_type": "markdown",
   "metadata": {},
   "source": [
    "<h2>Validando Todas as features</h2>"
   ]
  },
  {
   "cell_type": "code",
   "execution_count": 95,
   "metadata": {
    "collapsed": false
   },
   "outputs": [
    {
     "data": {
      "text/plain": [
       "Index([u'SIT_MATRICULA', u'RENDA_FAMILIAR', u'TIPO_ESCOLA_ORIGEM',\n",
       "       u'ANO_CONCLUSAO_2_GRAU', u'COD_ESTADO_CIVIL', u'N_FILHOS', u'SEXO',\n",
       "       u'PROFISSAO', u'DESC_CIDADE', u'NIVEL_FALA', u'NIVEL_COMPREENSAO',\n",
       "       u'NIVEL_ESCRITA', u'NIVEL_LEITURA', u'NOTAS', u'N_FALTAS', u'CARGA_HOR',\n",
       "       u'ANO_INGRESSO', u'IDADE_INGRESSO', u'APROVACAO'],\n",
       "      dtype='object')"
      ]
     },
     "execution_count": 95,
     "metadata": {},
     "output_type": "execute_result"
    }
   ],
   "source": [
    "df.columns"
   ]
  },
  {
   "cell_type": "code",
   "execution_count": 96,
   "metadata": {
    "collapsed": false
   },
   "outputs": [
    {
     "data": {
      "text/plain": [
       "Index([u'SIT_MATRICULA', u'RENDA_FAMILIAR', u'TIPO_ESCOLA_ORIGEM',\n",
       "       u'ANO_CONCLUSAO_2_GRAU', u'COD_ESTADO_CIVIL', u'N_FILHOS', u'SEXO',\n",
       "       u'PROFISSAO', u'DESC_CIDADE', u'NIVEL_FALA', u'NIVEL_COMPREENSAO',\n",
       "       u'NIVEL_ESCRITA', u'NIVEL_LEITURA', u'NOTAS', u'N_FALTAS',\n",
       "       u'ANO_INGRESSO', u'IDADE_INGRESSO', u'APROVACAO'],\n",
       "      dtype='object')"
      ]
     },
     "execution_count": 96,
     "metadata": {},
     "output_type": "execute_result"
    }
   ],
   "source": [
    "df.drop('CARGA_HOR', axis=1, inplace=True)\n",
    "\n",
    "df.columns"
   ]
  },
  {
   "cell_type": "code",
   "execution_count": 97,
   "metadata": {
    "collapsed": false
   },
   "outputs": [
    {
     "data": {
      "text/plain": [
       "SIT_MATRICULA             int64\n",
       "RENDA_FAMILIAR          float64\n",
       "TIPO_ESCOLA_ORIGEM       object\n",
       "ANO_CONCLUSAO_2_GRAU    float64\n",
       "COD_ESTADO_CIVIL          int64\n",
       "N_FILHOS                  int64\n",
       "SEXO                      int64\n",
       "PROFISSAO                object\n",
       "DESC_CIDADE              object\n",
       "NIVEL_FALA                int64\n",
       "NIVEL_COMPREENSAO         int64\n",
       "NIVEL_ESCRITA             int64\n",
       "NIVEL_LEITURA             int64\n",
       "NOTAS                   float64\n",
       "N_FALTAS                float64\n",
       "ANO_INGRESSO              int64\n",
       "IDADE_INGRESSO            int64\n",
       "APROVACAO                 int64\n",
       "dtype: object"
      ]
     },
     "execution_count": 97,
     "metadata": {},
     "output_type": "execute_result"
    }
   ],
   "source": [
    "df.dtypes"
   ]
  },
  {
   "cell_type": "code",
   "execution_count": 98,
   "metadata": {
    "collapsed": false
   },
   "outputs": [
    {
     "data": {
      "text/plain": [
       "SIT_MATRICULA             int64\n",
       "RENDA_FAMILIAR          float64\n",
       "TIPO_ESCOLA_ORIGEM        int64\n",
       "ANO_CONCLUSAO_2_GRAU      int64\n",
       "COD_ESTADO_CIVIL          int64\n",
       "N_FILHOS                  int64\n",
       "SEXO                      int64\n",
       "PROFISSAO                 int64\n",
       "DESC_CIDADE              object\n",
       "NIVEL_FALA                int64\n",
       "NIVEL_COMPREENSAO         int64\n",
       "NIVEL_ESCRITA             int64\n",
       "NIVEL_LEITURA             int64\n",
       "NOTAS                   float64\n",
       "N_FALTAS                  int64\n",
       "ANO_INGRESSO              int64\n",
       "IDADE_INGRESSO            int64\n",
       "APROVACAO                 int64\n",
       "dtype: object"
      ]
     },
     "execution_count": 98,
     "metadata": {},
     "output_type": "execute_result"
    }
   ],
   "source": [
    "df.TIPO_ESCOLA_ORIGEM = df.TIPO_ESCOLA_ORIGEM.astype('int64')\n",
    "df.ANO_CONCLUSAO_2_GRAU = df.ANO_CONCLUSAO_2_GRAU.astype('int64')\n",
    "df.PROFISSAO = df.PROFISSAO.astype('int64')\n",
    "df.N_FALTAS = df.N_FALTAS.astype('int64')\n",
    "df.dtypes"
   ]
  },
  {
   "cell_type": "code",
   "execution_count": 99,
   "metadata": {
    "collapsed": false
   },
   "outputs": [
    {
     "data": {
      "text/plain": [
       "(18673, 18)"
      ]
     },
     "execution_count": 99,
     "metadata": {},
     "output_type": "execute_result"
    }
   ],
   "source": [
    "df.shape"
   ]
  },
  {
   "cell_type": "markdown",
   "metadata": {},
   "source": [
    "<h2>Prepando os Dados para Predição</h2>"
   ]
  },
  {
   "cell_type": "code",
   "execution_count": 100,
   "metadata": {
    "collapsed": false
   },
   "outputs": [],
   "source": [
    "valores = df.values\n",
    "target_evasao = df[['SIT_MATRICULA']].values\n",
    "target_aprovacao = df[['APROVACAO']].values"
   ]
  },
  {
   "cell_type": "code",
   "execution_count": 101,
   "metadata": {
    "collapsed": false
   },
   "outputs": [
    {
     "data": {
      "text/plain": [
       "array([[4.0, 1, 2014, ..., 0, 2016, 1],\n",
       "       [0.0, 6, 2011, ..., 0, 2016, 1],\n",
       "       [0.0, 6, 2011, ..., 0, 2016, 1],\n",
       "       ..., \n",
       "       [0.0, 6, 2011, ..., 0, 2012, 0],\n",
       "       [0.0, 6, 2012, ..., 0, 2012, 0],\n",
       "       [4.0, 1, 2007, ..., 0, 2012, 1]], dtype=object)"
      ]
     },
     "execution_count": 101,
     "metadata": {},
     "output_type": "execute_result"
    }
   ],
   "source": [
    "X = valores[:, 1:17]\n",
    "X"
   ]
  },
  {
   "cell_type": "code",
   "execution_count": 102,
   "metadata": {
    "collapsed": false
   },
   "outputs": [
    {
     "data": {
      "text/plain": [
       "array([0, 0, 0, ..., 0, 0, 0])"
      ]
     },
     "execution_count": 102,
     "metadata": {},
     "output_type": "execute_result"
    }
   ],
   "source": [
    "y = target_evasao.ravel()\n",
    "y"
   ]
  },
  {
   "cell_type": "code",
   "execution_count": 103,
   "metadata": {
    "collapsed": false
   },
   "outputs": [
    {
     "data": {
      "text/plain": [
       "array([1, 1, 1, ..., 1, 1, 1])"
      ]
     },
     "execution_count": 103,
     "metadata": {},
     "output_type": "execute_result"
    }
   ],
   "source": [
    "z = target_aprovacao.ravel()\n",
    "z"
   ]
  },
  {
   "cell_type": "markdown",
   "metadata": {},
   "source": [
    "<h2>Sepando conjunto de treinamento - Acurácia (Problema da Evasão)</h2>"
   ]
  },
  {
   "cell_type": "code",
   "execution_count": 104,
   "metadata": {
    "collapsed": true
   },
   "outputs": [],
   "source": [
    "from sklearn.model_selection import train_test_split"
   ]
  },
  {
   "cell_type": "code",
   "execution_count": 105,
   "metadata": {
    "collapsed": true
   },
   "outputs": [],
   "source": [
    "X_train, X_test, y_train, y_test = train_test_split(X, y, test_size=0.2)"
   ]
  },
  {
   "cell_type": "markdown",
   "metadata": {
    "collapsed": true
   },
   "source": [
    "<h2>k-NN (Problema da Evasão)</h2>"
   ]
  },
  {
   "cell_type": "code",
   "execution_count": 106,
   "metadata": {
    "collapsed": true
   },
   "outputs": [],
   "source": [
    "from sklearn.neighbors import KNeighborsClassifier"
   ]
  },
  {
   "cell_type": "code",
   "execution_count": 107,
   "metadata": {
    "collapsed": false
   },
   "outputs": [],
   "source": [
    "knn = KNeighborsClassifier(n_neighbors=3, p=2)"
   ]
  },
  {
   "cell_type": "code",
   "execution_count": 108,
   "metadata": {
    "collapsed": false
   },
   "outputs": [
    {
     "data": {
      "text/plain": [
       "KNeighborsClassifier(algorithm='auto', leaf_size=30, metric='minkowski',\n",
       "           metric_params=None, n_jobs=1, n_neighbors=3, p=2,\n",
       "           weights='uniform')"
      ]
     },
     "execution_count": 108,
     "metadata": {},
     "output_type": "execute_result"
    }
   ],
   "source": [
    "knn.fit(X_train,y_train)"
   ]
  },
  {
   "cell_type": "code",
   "execution_count": 109,
   "metadata": {
    "collapsed": false
   },
   "outputs": [
    {
     "data": {
      "text/plain": [
       "0.88299866131191429"
      ]
     },
     "execution_count": 109,
     "metadata": {},
     "output_type": "execute_result"
    }
   ],
   "source": [
    "knn.score(X_test, y_test)"
   ]
  },
  {
   "cell_type": "code",
   "execution_count": null,
   "metadata": {
    "collapsed": true
   },
   "outputs": [],
   "source": []
  },
  {
   "cell_type": "code",
   "execution_count": null,
   "metadata": {
    "collapsed": true
   },
   "outputs": [],
   "source": []
  },
  {
   "cell_type": "markdown",
   "metadata": {},
   "source": [
    "<h2>Arvore de Descisão (Predição de Evasão)</h2>"
   ]
  },
  {
   "cell_type": "code",
   "execution_count": 110,
   "metadata": {
    "collapsed": true
   },
   "outputs": [],
   "source": [
    "from sklearn import tree"
   ]
  },
  {
   "cell_type": "code",
   "execution_count": 111,
   "metadata": {
    "collapsed": true
   },
   "outputs": [],
   "source": [
    "dtc = tree.DecisionTreeClassifier()"
   ]
  },
  {
   "cell_type": "code",
   "execution_count": 112,
   "metadata": {
    "collapsed": false
   },
   "outputs": [
    {
     "data": {
      "text/plain": [
       "DecisionTreeClassifier(class_weight=None, criterion='gini', max_depth=None,\n",
       "            max_features=None, max_leaf_nodes=None,\n",
       "            min_impurity_split=1e-07, min_samples_leaf=1,\n",
       "            min_samples_split=2, min_weight_fraction_leaf=0.0,\n",
       "            presort=False, random_state=None, splitter='best')"
      ]
     },
     "execution_count": 112,
     "metadata": {},
     "output_type": "execute_result"
    }
   ],
   "source": [
    "dtc.fit(X_train, y_train)"
   ]
  },
  {
   "cell_type": "code",
   "execution_count": 113,
   "metadata": {
    "collapsed": false,
    "scrolled": true
   },
   "outputs": [
    {
     "data": {
      "text/plain": [
       "0.95796519410977243"
      ]
     },
     "execution_count": 113,
     "metadata": {},
     "output_type": "execute_result"
    }
   ],
   "source": [
    "dtc.score(X_test, y_test)"
   ]
  },
  {
   "cell_type": "code",
   "execution_count": null,
   "metadata": {
    "collapsed": true
   },
   "outputs": [],
   "source": []
  },
  {
   "cell_type": "code",
   "execution_count": null,
   "metadata": {
    "collapsed": true
   },
   "outputs": [],
   "source": []
  },
  {
   "cell_type": "markdown",
   "metadata": {},
   "source": [
    "<h2>SVM (Predição de Evasão)</h2>"
   ]
  },
  {
   "cell_type": "code",
   "execution_count": 114,
   "metadata": {
    "collapsed": true
   },
   "outputs": [],
   "source": [
    "from sklearn import svm"
   ]
  },
  {
   "cell_type": "code",
   "execution_count": 115,
   "metadata": {
    "collapsed": false
   },
   "outputs": [],
   "source": [
    "svm = svm.SVC()"
   ]
  },
  {
   "cell_type": "code",
   "execution_count": 116,
   "metadata": {
    "collapsed": false
   },
   "outputs": [
    {
     "data": {
      "text/plain": [
       "SVC(C=1.0, cache_size=200, class_weight=None, coef0=0.0,\n",
       "  decision_function_shape=None, degree=3, gamma='auto', kernel='rbf',\n",
       "  max_iter=-1, probability=False, random_state=None, shrinking=True,\n",
       "  tol=0.001, verbose=False)"
      ]
     },
     "execution_count": 116,
     "metadata": {},
     "output_type": "execute_result"
    }
   ],
   "source": [
    "svm.fit(X_train, y_train)"
   ]
  },
  {
   "cell_type": "code",
   "execution_count": 117,
   "metadata": {
    "collapsed": false,
    "scrolled": false
   },
   "outputs": [
    {
     "data": {
      "text/plain": [
       "0.84176706827309233"
      ]
     },
     "execution_count": 117,
     "metadata": {},
     "output_type": "execute_result"
    }
   ],
   "source": [
    "svm.score(X_test, y_test)"
   ]
  },
  {
   "cell_type": "markdown",
   "metadata": {},
   "source": [
    "<h2>Sepando conjunto de treinamento - Acurácia (Problema da Aprovação)</h2>"
   ]
  },
  {
   "cell_type": "code",
   "execution_count": 118,
   "metadata": {
    "collapsed": true
   },
   "outputs": [],
   "source": [
    "from sklearn.model_selection import train_test_split"
   ]
  },
  {
   "cell_type": "code",
   "execution_count": 119,
   "metadata": {
    "collapsed": true
   },
   "outputs": [],
   "source": [
    "X_train, X_test, z_train, z_test=train_test_split(X, z, test_size=0.3)"
   ]
  },
  {
   "cell_type": "markdown",
   "metadata": {
    "collapsed": true
   },
   "source": [
    "<h2>k-NN (Problema da Aprovação)</h2>"
   ]
  },
  {
   "cell_type": "code",
   "execution_count": 120,
   "metadata": {
    "collapsed": true
   },
   "outputs": [],
   "source": [
    "from sklearn.neighbors import KNeighborsClassifier"
   ]
  },
  {
   "cell_type": "code",
   "execution_count": 121,
   "metadata": {
    "collapsed": false
   },
   "outputs": [],
   "source": [
    "knn = KNeighborsClassifier(n_neighbors=133, p=2)"
   ]
  },
  {
   "cell_type": "code",
   "execution_count": 122,
   "metadata": {
    "collapsed": false
   },
   "outputs": [
    {
     "data": {
      "text/plain": [
       "KNeighborsClassifier(algorithm='auto', leaf_size=30, metric='minkowski',\n",
       "           metric_params=None, n_jobs=1, n_neighbors=133, p=2,\n",
       "           weights='uniform')"
      ]
     },
     "execution_count": 122,
     "metadata": {},
     "output_type": "execute_result"
    }
   ],
   "source": [
    "knn.fit(X_train,z_train)"
   ]
  },
  {
   "cell_type": "code",
   "execution_count": 123,
   "metadata": {
    "collapsed": false,
    "scrolled": true
   },
   "outputs": [
    {
     "data": {
      "text/plain": [
       "0.93020349875044628"
      ]
     },
     "execution_count": 123,
     "metadata": {},
     "output_type": "execute_result"
    }
   ],
   "source": [
    "knn.score(X_test, z_test)"
   ]
  },
  {
   "cell_type": "markdown",
   "metadata": {},
   "source": [
    "<h2>Arvore de Descisão (Predição de Aprovação)</h2>"
   ]
  },
  {
   "cell_type": "code",
   "execution_count": 124,
   "metadata": {
    "collapsed": true
   },
   "outputs": [],
   "source": [
    "from sklearn import tree"
   ]
  },
  {
   "cell_type": "code",
   "execution_count": 125,
   "metadata": {
    "collapsed": true
   },
   "outputs": [],
   "source": [
    "dtc = tree.DecisionTreeClassifier()"
   ]
  },
  {
   "cell_type": "code",
   "execution_count": 126,
   "metadata": {
    "collapsed": false
   },
   "outputs": [
    {
     "data": {
      "text/plain": [
       "DecisionTreeClassifier(class_weight=None, criterion='gini', max_depth=None,\n",
       "            max_features=None, max_leaf_nodes=None,\n",
       "            min_impurity_split=1e-07, min_samples_leaf=1,\n",
       "            min_samples_split=2, min_weight_fraction_leaf=0.0,\n",
       "            presort=False, random_state=None, splitter='best')"
      ]
     },
     "execution_count": 126,
     "metadata": {},
     "output_type": "execute_result"
    }
   ],
   "source": [
    "dtc.fit(X_train, z_train)"
   ]
  },
  {
   "cell_type": "code",
   "execution_count": 127,
   "metadata": {
    "collapsed": false
   },
   "outputs": [
    {
     "data": {
      "text/plain": [
       "0.98875401642270622"
      ]
     },
     "execution_count": 127,
     "metadata": {},
     "output_type": "execute_result"
    }
   ],
   "source": [
    "dtc.score(X_test, z_test)"
   ]
  },
  {
   "cell_type": "markdown",
   "metadata": {},
   "source": [
    "<h2>SVM (Predição de Aprovação)</h2>"
   ]
  },
  {
   "cell_type": "code",
   "execution_count": 128,
   "metadata": {
    "collapsed": true
   },
   "outputs": [],
   "source": [
    "from sklearn import svm"
   ]
  },
  {
   "cell_type": "code",
   "execution_count": 129,
   "metadata": {
    "collapsed": true
   },
   "outputs": [],
   "source": [
    "svm = svm.SVC()"
   ]
  },
  {
   "cell_type": "code",
   "execution_count": 130,
   "metadata": {
    "collapsed": false
   },
   "outputs": [
    {
     "data": {
      "text/plain": [
       "SVC(C=1.0, cache_size=200, class_weight=None, coef0=0.0,\n",
       "  decision_function_shape=None, degree=3, gamma='auto', kernel='rbf',\n",
       "  max_iter=-1, probability=False, random_state=None, shrinking=True,\n",
       "  tol=0.001, verbose=False)"
      ]
     },
     "execution_count": 130,
     "metadata": {},
     "output_type": "execute_result"
    }
   ],
   "source": [
    "svm.fit(X_train, z_train)"
   ]
  },
  {
   "cell_type": "code",
   "execution_count": 131,
   "metadata": {
    "collapsed": false,
    "scrolled": false
   },
   "outputs": [
    {
     "data": {
      "text/plain": [
       "0.98268475544448408"
      ]
     },
     "execution_count": 131,
     "metadata": {},
     "output_type": "execute_result"
    }
   ],
   "source": [
    "svm.score(X_test, z_test)"
   ]
  },
  {
   "cell_type": "markdown",
   "metadata": {
    "collapsed": true
   },
   "source": [
    "<h2>Finalizando o Trabalho</h2>"
   ]
  },
  {
   "cell_type": "code",
   "execution_count": 132,
   "metadata": {
    "collapsed": false
   },
   "outputs": [
    {
     "data": {
      "text/html": [
       "<div>\n",
       "<table border=\"1\" class=\"dataframe\">\n",
       "  <thead>\n",
       "    <tr style=\"text-align: right;\">\n",
       "      <th></th>\n",
       "      <th>SIT_MATRICULA</th>\n",
       "      <th>RENDA_FAMILIAR</th>\n",
       "      <th>TIPO_ESCOLA_ORIGEM</th>\n",
       "      <th>ANO_CONCLUSAO_2_GRAU</th>\n",
       "      <th>COD_ESTADO_CIVIL</th>\n",
       "      <th>N_FILHOS</th>\n",
       "      <th>SEXO</th>\n",
       "      <th>PROFISSAO</th>\n",
       "      <th>NIVEL_FALA</th>\n",
       "      <th>NIVEL_COMPREENSAO</th>\n",
       "      <th>NIVEL_ESCRITA</th>\n",
       "      <th>NIVEL_LEITURA</th>\n",
       "      <th>NOTAS</th>\n",
       "      <th>N_FALTAS</th>\n",
       "      <th>ANO_INGRESSO</th>\n",
       "      <th>IDADE_INGRESSO</th>\n",
       "      <th>APROVACAO</th>\n",
       "    </tr>\n",
       "  </thead>\n",
       "  <tbody>\n",
       "    <tr>\n",
       "      <th>count</th>\n",
       "      <td>18673.000000</td>\n",
       "      <td>18673.000000</td>\n",
       "      <td>18673.000000</td>\n",
       "      <td>18673.000000</td>\n",
       "      <td>18673.000000</td>\n",
       "      <td>18673.00000</td>\n",
       "      <td>18673.000000</td>\n",
       "      <td>18673.000000</td>\n",
       "      <td>18673.000000</td>\n",
       "      <td>18673.000000</td>\n",
       "      <td>18673.000000</td>\n",
       "      <td>18673.000000</td>\n",
       "      <td>18673.000000</td>\n",
       "      <td>18673.000000</td>\n",
       "      <td>18673.000000</td>\n",
       "      <td>18673.000000</td>\n",
       "      <td>18673.000000</td>\n",
       "    </tr>\n",
       "    <tr>\n",
       "      <th>mean</th>\n",
       "      <td>0.324104</td>\n",
       "      <td>2.440743</td>\n",
       "      <td>3.814706</td>\n",
       "      <td>2007.514861</td>\n",
       "      <td>0.057838</td>\n",
       "      <td>0.05275</td>\n",
       "      <td>0.855353</td>\n",
       "      <td>0.522091</td>\n",
       "      <td>0.579286</td>\n",
       "      <td>0.579286</td>\n",
       "      <td>0.579286</td>\n",
       "      <td>0.579286</td>\n",
       "      <td>6.071885</td>\n",
       "      <td>8.896053</td>\n",
       "      <td>2010.884700</td>\n",
       "      <td>0.539817</td>\n",
       "      <td>0.720291</td>\n",
       "    </tr>\n",
       "    <tr>\n",
       "      <th>std</th>\n",
       "      <td>0.468052</td>\n",
       "      <td>1.966878</td>\n",
       "      <td>2.335905</td>\n",
       "      <td>3.877959</td>\n",
       "      <td>0.233442</td>\n",
       "      <td>0.34675</td>\n",
       "      <td>0.351754</td>\n",
       "      <td>0.499525</td>\n",
       "      <td>0.493687</td>\n",
       "      <td>0.493687</td>\n",
       "      <td>0.493687</td>\n",
       "      <td>0.493687</td>\n",
       "      <td>2.946144</td>\n",
       "      <td>16.533047</td>\n",
       "      <td>1.978932</td>\n",
       "      <td>0.613013</td>\n",
       "      <td>0.448868</td>\n",
       "    </tr>\n",
       "    <tr>\n",
       "      <th>min</th>\n",
       "      <td>0.000000</td>\n",
       "      <td>0.000000</td>\n",
       "      <td>1.000000</td>\n",
       "      <td>1985.000000</td>\n",
       "      <td>0.000000</td>\n",
       "      <td>0.00000</td>\n",
       "      <td>0.000000</td>\n",
       "      <td>0.000000</td>\n",
       "      <td>0.000000</td>\n",
       "      <td>0.000000</td>\n",
       "      <td>0.000000</td>\n",
       "      <td>0.000000</td>\n",
       "      <td>0.000000</td>\n",
       "      <td>0.000000</td>\n",
       "      <td>2008.000000</td>\n",
       "      <td>0.000000</td>\n",
       "      <td>0.000000</td>\n",
       "    </tr>\n",
       "    <tr>\n",
       "      <th>25%</th>\n",
       "      <td>0.000000</td>\n",
       "      <td>0.000000</td>\n",
       "      <td>1.000000</td>\n",
       "      <td>2006.000000</td>\n",
       "      <td>0.000000</td>\n",
       "      <td>0.00000</td>\n",
       "      <td>1.000000</td>\n",
       "      <td>0.000000</td>\n",
       "      <td>0.000000</td>\n",
       "      <td>0.000000</td>\n",
       "      <td>0.000000</td>\n",
       "      <td>0.000000</td>\n",
       "      <td>5.300000</td>\n",
       "      <td>0.000000</td>\n",
       "      <td>2009.000000</td>\n",
       "      <td>0.000000</td>\n",
       "      <td>0.000000</td>\n",
       "    </tr>\n",
       "    <tr>\n",
       "      <th>50%</th>\n",
       "      <td>0.000000</td>\n",
       "      <td>4.000000</td>\n",
       "      <td>6.000000</td>\n",
       "      <td>2008.000000</td>\n",
       "      <td>0.000000</td>\n",
       "      <td>0.00000</td>\n",
       "      <td>1.000000</td>\n",
       "      <td>1.000000</td>\n",
       "      <td>1.000000</td>\n",
       "      <td>1.000000</td>\n",
       "      <td>1.000000</td>\n",
       "      <td>1.000000</td>\n",
       "      <td>6.900000</td>\n",
       "      <td>2.000000</td>\n",
       "      <td>2011.000000</td>\n",
       "      <td>0.000000</td>\n",
       "      <td>1.000000</td>\n",
       "    </tr>\n",
       "    <tr>\n",
       "      <th>75%</th>\n",
       "      <td>1.000000</td>\n",
       "      <td>4.000000</td>\n",
       "      <td>6.000000</td>\n",
       "      <td>2010.000000</td>\n",
       "      <td>0.000000</td>\n",
       "      <td>0.00000</td>\n",
       "      <td>1.000000</td>\n",
       "      <td>1.000000</td>\n",
       "      <td>1.000000</td>\n",
       "      <td>1.000000</td>\n",
       "      <td>1.000000</td>\n",
       "      <td>1.000000</td>\n",
       "      <td>8.000000</td>\n",
       "      <td>10.000000</td>\n",
       "      <td>2012.000000</td>\n",
       "      <td>1.000000</td>\n",
       "      <td>1.000000</td>\n",
       "    </tr>\n",
       "    <tr>\n",
       "      <th>max</th>\n",
       "      <td>1.000000</td>\n",
       "      <td>6.000000</td>\n",
       "      <td>7.000000</td>\n",
       "      <td>2015.000000</td>\n",
       "      <td>1.000000</td>\n",
       "      <td>4.00000</td>\n",
       "      <td>1.000000</td>\n",
       "      <td>1.000000</td>\n",
       "      <td>1.000000</td>\n",
       "      <td>1.000000</td>\n",
       "      <td>1.000000</td>\n",
       "      <td>1.000000</td>\n",
       "      <td>10.000000</td>\n",
       "      <td>120.000000</td>\n",
       "      <td>2016.000000</td>\n",
       "      <td>3.000000</td>\n",
       "      <td>1.000000</td>\n",
       "    </tr>\n",
       "  </tbody>\n",
       "</table>\n",
       "</div>"
      ],
      "text/plain": [
       "       SIT_MATRICULA  RENDA_FAMILIAR  TIPO_ESCOLA_ORIGEM  \\\n",
       "count   18673.000000    18673.000000        18673.000000   \n",
       "mean        0.324104        2.440743            3.814706   \n",
       "std         0.468052        1.966878            2.335905   \n",
       "min         0.000000        0.000000            1.000000   \n",
       "25%         0.000000        0.000000            1.000000   \n",
       "50%         0.000000        4.000000            6.000000   \n",
       "75%         1.000000        4.000000            6.000000   \n",
       "max         1.000000        6.000000            7.000000   \n",
       "\n",
       "       ANO_CONCLUSAO_2_GRAU  COD_ESTADO_CIVIL     N_FILHOS          SEXO  \\\n",
       "count          18673.000000      18673.000000  18673.00000  18673.000000   \n",
       "mean            2007.514861          0.057838      0.05275      0.855353   \n",
       "std                3.877959          0.233442      0.34675      0.351754   \n",
       "min             1985.000000          0.000000      0.00000      0.000000   \n",
       "25%             2006.000000          0.000000      0.00000      1.000000   \n",
       "50%             2008.000000          0.000000      0.00000      1.000000   \n",
       "75%             2010.000000          0.000000      0.00000      1.000000   \n",
       "max             2015.000000          1.000000      4.00000      1.000000   \n",
       "\n",
       "          PROFISSAO    NIVEL_FALA  NIVEL_COMPREENSAO  NIVEL_ESCRITA  \\\n",
       "count  18673.000000  18673.000000       18673.000000   18673.000000   \n",
       "mean       0.522091      0.579286           0.579286       0.579286   \n",
       "std        0.499525      0.493687           0.493687       0.493687   \n",
       "min        0.000000      0.000000           0.000000       0.000000   \n",
       "25%        0.000000      0.000000           0.000000       0.000000   \n",
       "50%        1.000000      1.000000           1.000000       1.000000   \n",
       "75%        1.000000      1.000000           1.000000       1.000000   \n",
       "max        1.000000      1.000000           1.000000       1.000000   \n",
       "\n",
       "       NIVEL_LEITURA         NOTAS      N_FALTAS  ANO_INGRESSO  \\\n",
       "count   18673.000000  18673.000000  18673.000000  18673.000000   \n",
       "mean        0.579286      6.071885      8.896053   2010.884700   \n",
       "std         0.493687      2.946144     16.533047      1.978932   \n",
       "min         0.000000      0.000000      0.000000   2008.000000   \n",
       "25%         0.000000      5.300000      0.000000   2009.000000   \n",
       "50%         1.000000      6.900000      2.000000   2011.000000   \n",
       "75%         1.000000      8.000000     10.000000   2012.000000   \n",
       "max         1.000000     10.000000    120.000000   2016.000000   \n",
       "\n",
       "       IDADE_INGRESSO     APROVACAO  \n",
       "count    18673.000000  18673.000000  \n",
       "mean         0.539817      0.720291  \n",
       "std          0.613013      0.448868  \n",
       "min          0.000000      0.000000  \n",
       "25%          0.000000      0.000000  \n",
       "50%          0.000000      1.000000  \n",
       "75%          1.000000      1.000000  \n",
       "max          3.000000      1.000000  "
      ]
     },
     "execution_count": 132,
     "metadata": {},
     "output_type": "execute_result"
    }
   ],
   "source": [
    "df.dropna().describe()"
   ]
  },
  {
   "cell_type": "code",
   "execution_count": 133,
   "metadata": {
    "collapsed": true
   },
   "outputs": [],
   "source": [
    "df.to_csv('curso_clean.csv')"
   ]
  },
  {
   "cell_type": "code",
   "execution_count": null,
   "metadata": {
    "collapsed": true
   },
   "outputs": [],
   "source": []
  },
  {
   "cell_type": "code",
   "execution_count": null,
   "metadata": {
    "collapsed": true
   },
   "outputs": [],
   "source": []
  }
 ],
 "metadata": {
  "anaconda-cloud": {},
  "kernelspec": {
   "display_name": "Python [default]",
   "language": "python",
   "name": "python2"
  },
  "language_info": {
   "codemirror_mode": {
    "name": "ipython",
    "version": 2
   },
   "file_extension": ".py",
   "mimetype": "text/x-python",
   "name": "python",
   "nbconvert_exporter": "python",
   "pygments_lexer": "ipython2",
   "version": "2.7.12"
  }
 },
 "nbformat": 4,
 "nbformat_minor": 1
}
